{
 "cells": [
  {
   "cell_type": "code",
   "execution_count": 1,
   "metadata": {},
   "outputs": [],
   "source": [
    "import numpy as np\n",
    "import cvxpy as cp\n",
    "from matplotlib import pyplot as plt\n",
    "from scipy.linalg import fractional_matrix_power\n",
    "from tqdm import tqdm\n",
    "\n",
    "import warnings\n",
    "warnings.filterwarnings(\"ignore\")"
   ]
  },
  {
   "cell_type": "markdown",
   "metadata": {},
   "source": [
    "Let's now try to reproduce the idea of [this paper](http://faculty.olin.edu/dshuman/Papers/Conference/Thanou_et_al_GlobalSIP_2013.pdf) applied to graph cellular sheaves. In particular we are going to define a dictionary composed of $S$ subdictionaries, each of them parametrized as a polynomial of the sheaf laplacian: \n",
    "\n",
    "$$\n",
    "D_s = \\sum_{k = 0}^K \\alpha_{sk} \\mathcal{L}^k, \\ s = 1,...,S\n",
    "$$\n",
    "\n",
    "this dictionary has the structure of a convolutional filter bank, and by looking at the spectrum of each subdictionary we find out that each atom of each subdictionary has a double localization quality:\n",
    "+ First, it localize the signal over a node $v \\in V$;\n",
    "+ Then, it localizes the signal over a 1-dimensional subspace of the stalk $\\mathcal{F}(v)$.\n",
    "\n",
    "Assuming a graph $G(V,E)$, a cellular sheaf over it where all stalks are $\\mathbb{R}^d$ and a set of observed 0-cochain $Y \\in \\mathbb{R}^{(d \\times V) \\times N}$, we have the following optimization problem:\n",
    "\n",
    "$$\n",
    "\\begin{cases}\n",
    "\\underset{X,D}{\\mathrm{min}} & ||Y -DX||_F^2 + \\lambda ||X||_{:,1}\\\\\n",
    "& D_s = \\sum_{k = 0}^K \\alpha_{sk} \\mathcal{L}^k, & s = 1,...,S \\\\\n",
    "& 0 \\preceq D_s \\preceq k\\mathbb{I}, & s = 1,...,S \\\\\n",
    "& (c - \\epsilon) \\mathbb{I} \\preceq \\sum_{s=1}^S D_s \\preceq (c + \\epsilon)\\mathbb{I}\n",
    "\n",
    "\\end{cases}\n",
    "$$\n",
    "\n",
    "where the constraints are meant to grant that the spectrum of each filter and of the over all dictionary meaningfully covers the representations of the signals. \n",
    "\n",
    "The problem can be solved alternating the optimization of $D$, i.e. of its parametrization, and of the sparse coding $X$ of each 0-cochain."
   ]
  },
  {
   "cell_type": "markdown",
   "metadata": {},
   "source": [
    "### Graph generation "
   ]
  },
  {
   "cell_type": "code",
   "execution_count": 2,
   "metadata": {},
   "outputs": [],
   "source": [
    "N = 20\n",
    "edges = []\n",
    "\n",
    "cutoff = 0.5\n",
    "theta = 0.9\n",
    "\n",
    "points = np.random.rand(N, 2)\n",
    "\n",
    "A = np.zeros((N,N))\n",
    "W = np.zeros((N,N))\n",
    "\n",
    "for i in range(N):\n",
    "    for j in range(i, N):\n",
    "        \n",
    "        A[i,j] = np.linalg.norm(points[i,:] - points[j,:]) <= cutoff\n",
    "        A[j,i] = np.linalg.norm(points[i,:] - points[j,:]) <= cutoff\n",
    "\n",
    "        if A[i,j] == 1:\n",
    "            edges.append((i,j))"
   ]
  },
  {
   "cell_type": "markdown",
   "metadata": {},
   "source": [
    "### Random sheaf generation "
   ]
  },
  {
   "cell_type": "code",
   "execution_count": 3,
   "metadata": {},
   "outputs": [],
   "source": [
    "def random_sheaf(\n",
    "        V:int,\n",
    "        d:int,\n",
    "        edges:list\n",
    "        ) -> np.array:\n",
    "\n",
    "    E = len(edges)\n",
    "\n",
    "    # Incidency linear maps\n",
    "\n",
    "    F = {\n",
    "        e:{\n",
    "            e[0]:np.random.randn(d,d),\n",
    "            e[1]:np.random.randn(d,d)\n",
    "            } \n",
    "            for e in edges\n",
    "        }                                           \n",
    "\n",
    "    # Coboundary maps\n",
    "\n",
    "    B = np.zeros((d*E, d*V))                        \n",
    "\n",
    "    for i in range(len(edges)):\n",
    "\n",
    "        # Main loop to populate the coboundary map\n",
    "\n",
    "        edge = edges[i]\n",
    "\n",
    "        u = edge[0] \n",
    "        v = edge[1] \n",
    "\n",
    "        B_u = F[edge][u]\n",
    "        B_v = F[edge][v]\n",
    "\n",
    "        B[i*d:(i+1)*d, u*d:(u+1)*d] = B_u           \n",
    "        B[i*d:(i+1)*d, v*d:(v+1)*d] = - B_v\n",
    "\n",
    "    L_f = B.T @ B\n",
    "\n",
    "    return L_f"
   ]
  },
  {
   "cell_type": "code",
   "execution_count": 4,
   "metadata": {},
   "outputs": [],
   "source": [
    "d = 5\n",
    "Lf = random_sheaf(N, d, edges)"
   ]
  },
  {
   "cell_type": "code",
   "execution_count": 5,
   "metadata": {},
   "outputs": [],
   "source": [
    "D = np.diag(np.diagonal(Lf))"
   ]
  },
  {
   "cell_type": "code",
   "execution_count": 6,
   "metadata": {},
   "outputs": [],
   "source": [
    "Lf = fractional_matrix_power(D, -0.5) @ Lf @ fractional_matrix_power(D, -0.5)"
   ]
  },
  {
   "cell_type": "markdown",
   "metadata": {},
   "source": [
    "### Define a band-localized overcomplete dictionary"
   ]
  },
  {
   "cell_type": "code",
   "execution_count": 7,
   "metadata": {},
   "outputs": [],
   "source": [
    "band1 = np.array([i in range(0,25) for i in range(100)])\n",
    "band2 = np.array([i in range(25,50) for i in range(100)]) \n",
    "band3 = np.array([i in range(50,75) for i in range(100)])\n",
    "band4 = np.array([i in range(75,100) for i in range(100)])\n",
    "\n",
    "bands = [band1, band2, band3, band4]"
   ]
  },
  {
   "cell_type": "code",
   "execution_count": 8,
   "metadata": {},
   "outputs": [],
   "source": [
    "Lambda, U = np.linalg.eig(Lf)\n",
    "Lambda = np.sort(Lambda)"
   ]
  },
  {
   "cell_type": "code",
   "execution_count": 10,
   "metadata": {},
   "outputs": [],
   "source": [
    "J = 400\n",
    "DD = np.zeros((N*d, J))"
   ]
  },
  {
   "cell_type": "code",
   "execution_count": 11,
   "metadata": {},
   "outputs": [],
   "source": [
    "for j in range(J): \n",
    "\n",
    "    B = j // 100\n",
    "    h = np.copy(Lambda)\n",
    "    h[~bands[B]] = 0\n",
    "    h *= np.random.rand(h.shape[0],1)[:,0]\n",
    "    n = np.random.choice(d*N)\n",
    "\n",
    "    DD[:,j] = (U @ np.diag(h) @ U.T)[:,n]"
   ]
  },
  {
   "cell_type": "markdown",
   "metadata": {},
   "source": [
    "### Define the signals "
   ]
  },
  {
   "cell_type": "code",
   "execution_count": 12,
   "metadata": {},
   "outputs": [],
   "source": [
    "M = 1000 \n",
    "Y_train = np.zeros((N*d,M))\n",
    "\n",
    "for m in range(M):\n",
    "    T = np.random.choice(J, 4)\n",
    "    Y_train[:,m] = DD[:,T] @ np.random.rand(4)\n",
    "\n",
    "test_size = 2000\n",
    "Y_test = np.zeros((N*d,test_size))\n",
    "\n",
    "for t in range(test_size):\n",
    "    T = np.random.choice(J, 4)\n",
    "    Y_test[:,t] = DD[:,T] @ np.random.rand(4)"
   ]
  },
  {
   "cell_type": "code",
   "execution_count": 13,
   "metadata": {},
   "outputs": [],
   "source": [
    "c = 1\n",
    "eps = 0.01\n",
    "\n",
    "T0 = 20         # Assumed sparsity\n",
    "S = 4           # Number of dictionaries\n",
    "K = 5           # Power of the laplacian"
   ]
  },
  {
   "cell_type": "code",
   "execution_count": 14,
   "metadata": {},
   "outputs": [],
   "source": [
    "# Subroutine for sparse coding\n",
    "\n",
    "def OMP(y, D, T0):\n",
    "    S = []\n",
    "\n",
    "    x = np.zeros(D.shape[1])\n",
    "    iters = 0\n",
    "    R = y\n",
    "\n",
    "    while iters < T0:\n",
    "\n",
    "        # Retrieve the maximum correlation between atoms and residuals of the previous iteration\n",
    "        S.append(np.argmax(np.abs(D.T @ R)))\n",
    "\n",
    "        # Expand the dictionary for the representation\n",
    "        dic = D[:,S]\n",
    "\n",
    "        # Solve subproblems and update x\n",
    "        x[S] = np.linalg.inv(dic.T @ dic) @ dic.T @ y\n",
    "        \n",
    "        # Update the residuals\n",
    "        R = y - D @ x\n",
    "        iters += 1\n",
    "\n",
    "    return x"
   ]
  },
  {
   "cell_type": "code",
   "execution_count": 15,
   "metadata": {},
   "outputs": [],
   "source": [
    "# Dictionary update subroutine\n",
    "\n",
    "def LaplacianPowers(L, K):\n",
    "    powers = np.zeros((K+1, L.shape[0], L.shape[1]))\n",
    "    for k in range(K+1):\n",
    "        powers[k,:,:] = np.linalg.matrix_power(L, k)\n",
    "\n",
    "    return powers \n",
    "\n",
    "def DicUp(LaplPowers, K, S, Y, X, d, N, c, eps, mu = 1):\n",
    "    # Variables\n",
    "    alpha = cp.Variable((K+1, S))\n",
    "\n",
    "    # Define D_s expressions\n",
    "    D_s_list = []\n",
    "    for s in range(S):\n",
    "        D_s = sum(alpha[k, s] * LaplPowers[k,:,:] for k in range(K+1))\n",
    "        D_s_list.append(D_s)\n",
    "\n",
    "    # Objective function\n",
    "    D = cp.hstack(D_s_list)\n",
    "    objective = cp.Minimize(cp.norm(Y - D @ X, 'fro')**2 + mu * cp.norm(alpha, 2)**2)\n",
    "\n",
    "    # Constraints\n",
    "    constraints = []\n",
    "    for s in range(S):\n",
    "        constraints.append(D_s_list[s] >> 0)\n",
    "        constraints.append(D_s_list[s] << c * np.eye(d*N))\n",
    "\n",
    "    sum_D_s = sum(D_s_list)\n",
    "    constraints.append(sum_D_s >> (c - eps) * np.eye(d*N))\n",
    "    constraints.append(sum_D_s << (c + eps) * np.eye(d*N))\n",
    "\n",
    "    # Problem definition and solving\n",
    "    prob = cp.Problem(objective, constraints)\n",
    "    prob.solve(solver=cp.SCS, max_iters=100, eps=1e-5, warm_start=True)\n",
    "\n",
    "    alpha_star = alpha.value\n",
    "    D_s_list = []\n",
    "    for s in range(S):\n",
    "        D_s = sum(alpha_star[k, s] * LaplPowers[k,:,:] for k in range(K+1))\n",
    "        D_s_list.append(D_s)\n",
    "\n",
    "    # Objective function\n",
    "    D = np.hstack(D_s_list)\n",
    "    return D"
   ]
  },
  {
   "cell_type": "code",
   "execution_count": 16,
   "metadata": {},
   "outputs": [],
   "source": [
    "# Parametric dictionary learning algorithm \n",
    "\n",
    "def ParametricDictionaryLearning(Lf, Y, T0, K, S, d, N, M, c, eps, mu = 1, MAX_ITER = 50):\n",
    "\n",
    "    loss = []\n",
    "\n",
    "    # Precompute Laplacian powers\n",
    "    LP = LaplacianPowers(Lf, K)\n",
    "\n",
    "    # Dictionary initialization \n",
    "    D_s_list = []\n",
    "    for _ in range(S):\n",
    "        D_s = sum(LP[k,:,:] for k in range(K+1))\n",
    "        D_s_list.append(D_s)\n",
    "\n",
    "    D = np.hstack(D_s_list)\n",
    "\n",
    "    # Alternated learning procedure\n",
    "    for _ in tqdm(range(MAX_ITER)):\n",
    "        \n",
    "        # Sparse coding update\n",
    "        X = np.apply_along_axis(OMP, axis = 0, arr = Y, D = D, T0 = T0)\n",
    "\n",
    "        # Dictionary update\n",
    "        D = DicUp(LP, K, S, Y, X, d, N, c, eps, mu)\n",
    "        D = np.apply_along_axis(lambda x: x / np.linalg.norm(x), axis = 0, arr = D)\n",
    "\n",
    "        loss.append(np.linalg.norm(Y - D @ X, ord = 'fro'))\n",
    "        \n",
    "    return D, loss"
   ]
  },
  {
   "cell_type": "code",
   "execution_count": 20,
   "metadata": {},
   "outputs": [
    {
     "name": "stderr",
     "output_type": "stream",
     "text": [
      "100%|██████████| 50/50 [10:46<00:00, 12.92s/it]\n",
      "100%|██████████| 50/50 [12:34<00:00, 15.08s/it]\n",
      "100%|██████████| 50/50 [14:28<00:00, 17.36s/it]\n",
      "100%|██████████| 50/50 [16:31<00:00, 19.83s/it]\n",
      "100%|██████████| 50/50 [19:02<00:00, 22.85s/it]\n"
     ]
    }
   ],
   "source": [
    "sparss = [4,8,12,16,20]\n",
    "Ds = {T0 : None for T0 in sparss}\n",
    "for T0 in sparss:\n",
    "    Ds[T0], _ = ParametricDictionaryLearning(Lf, Y_train, T0, K, S, d, N, M, c, eps)"
   ]
  },
  {
   "cell_type": "markdown",
   "metadata": {},
   "source": [
    "### Test the learned dictionaries against unstructured ones"
   ]
  },
  {
   "cell_type": "code",
   "execution_count": 21,
   "metadata": {},
   "outputs": [],
   "source": [
    "# Dictionary update subroutine\n",
    "\n",
    "def grad(Y, D, X): \n",
    "    return - Y @ X.T + D @ X @ X.T\n",
    "\n",
    "def proj(D):\n",
    "\n",
    "    return np.apply_along_axis(lambda d: d/np.max([1, np.linalg.norm(d)]), axis=0, arr=D)\n",
    "\n",
    "def projected_gradient(Y, D, X, LR = 0.001, T = 100):\n",
    "    for _ in range(T):\n",
    "        D = proj ( D - LR * grad(Y,D,X))\n",
    "    return D\n",
    "\n",
    "# Unstructured dictionary learning algorithm \n",
    "\n",
    "def UnstructuredDictionaryLearning(Y, T0, S, d, N, MAX_ITER = 50):\n",
    "\n",
    "    loss = []\n",
    "\n",
    "    # Dictionary initialization \n",
    "    D = np.random.randn(N*d, N*d*S)\n",
    "    D = np.apply_along_axis(lambda x: x / np.linalg.norm(x), axis = 0, arr = D)\n",
    "\n",
    "    # Alternated learning procedure\n",
    "    for _ in tqdm(range(MAX_ITER)):\n",
    "        \n",
    "        # Sparse coding update\n",
    "        X = np.apply_along_axis(OMP, axis = 0, arr = Y, D = D, T0 = T0)\n",
    "\n",
    "        # Dictionary update\n",
    "        D = projected_gradient(Y, D, X)\n",
    "\n",
    "        loss.append(np.linalg.norm(Y - D @ X, ord = 'fro'))\n",
    "        \n",
    "    return D, loss"
   ]
  },
  {
   "cell_type": "code",
   "execution_count": 22,
   "metadata": {},
   "outputs": [
    {
     "name": "stderr",
     "output_type": "stream",
     "text": [
      "100%|██████████| 50/50 [02:14<00:00,  2.70s/it]\n",
      "100%|██████████| 50/50 [03:41<00:00,  4.43s/it]\n",
      "100%|██████████| 50/50 [05:31<00:00,  6.63s/it]\n",
      "100%|██████████| 50/50 [07:13<00:00,  8.67s/it]\n",
      "100%|██████████| 50/50 [09:38<00:00, 11.56s/it]\n"
     ]
    }
   ],
   "source": [
    "UnsDs = {T0 : None for T0 in sparss}\n",
    "for T0 in sparss:\n",
    "    UnsDs[T0], _ = UnstructuredDictionaryLearning(Y_train, T0, S, d, N)"
   ]
  },
  {
   "cell_type": "code",
   "execution_count": 23,
   "metadata": {},
   "outputs": [],
   "source": [
    "par_test_error = {T0:None for T0 in sparss}\n",
    "uns_test_error = {T0:None for T0 in sparss}\n",
    "\n",
    "for T0 in sparss:\n",
    "    \n",
    "    X_par = np.apply_along_axis(OMP, axis = 0, arr = Y_test, D = Ds[T0], T0 = T0)\n",
    "    X_uns = np.apply_along_axis(OMP, axis = 0, arr = Y_test, D = UnsDs[T0], T0 = T0)\n",
    "\n",
    "    par_test_error[T0] = np.linalg.norm(Y_test - Ds[T0] @ X_par) / test_size\n",
    "    uns_test_error[T0] = np.linalg.norm(Y_test - UnsDs[T0] @ X_uns) / test_size"
   ]
  },
  {
   "cell_type": "markdown",
   "metadata": {},
   "source": [
    "### Comparison with an unstructured dictionary "
   ]
  },
  {
   "cell_type": "code",
   "execution_count": 33,
   "metadata": {},
   "outputs": [
    {
     "data": {
      "text/plain": [
       "<matplotlib.legend.Legend at 0x27dc3b16620>"
      ]
     },
     "execution_count": 33,
     "metadata": {},
     "output_type": "execute_result"
    },
    {
     "data": {
      "image/png": "[encoded data removed]",
      "text/plain": [
       "<Figure size 640x480 with 1 Axes>"
      ]
     },
     "metadata": {},
     "output_type": "display_data"
    }
   ],
   "source": [
    "plt.plot(list(par_test_error.keys()), list(par_test_error.values()), label = 'Parametrized Dictionaries')\n",
    "plt.plot(list(uns_test_error.keys()), list(uns_test_error.values()), label = 'Unstructured Dictionaries')\n",
    "plt.xlabel('Sparsity')\n",
    "plt.ylabel('Test error')\n",
    "plt.legend()"
   ]
  },
  {
   "cell_type": "markdown",
   "metadata": {},
   "source": [
    "Slightly higher reconstruction error for parametrized dictionaries but comparable and good performances assessing the algorithm."
   ]
  }
 ],
 "metadata": {
  "kernelspec": {
   "display_name": "Python 3",
   "language": "python",
   "name": "python3"
  },
  "language_info": {
   "codemirror_mode": {
    "name": "ipython",
    "version": 3
   },
   "file_extension": ".py",
   "mimetype": "text/x-python",
   "name": "python",
   "nbconvert_exporter": "python",
   "pygments_lexer": "ipython3",
   "version": "3.10.7"
  }
 },
 "nbformat": 4,
 "nbformat_minor": 2
}
