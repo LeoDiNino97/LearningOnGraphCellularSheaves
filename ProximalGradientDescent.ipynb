{
 "cells": [
  {
   "cell_type": "code",
   "execution_count": 1,
   "metadata": {},
   "outputs": [],
   "source": [
    "import numpy as np \n",
    "from scipy.optimize import minimize\n",
    "from itertools import combinations\n",
    "from tqdm import tqdm"
   ]
  },
  {
   "cell_type": "markdown",
   "metadata": {},
   "source": [
    "Back to the origin the problem, we recast the learning of the laplacian of the sheaf as an additive separable problem in the restriction maps: \n",
    "\n",
    "$$\n",
    "\\min _{L \\in \\mathcal{L}_F} tr(X^TLX) \\equiv \\min_{\\{\\mathcal{F}_{u \\triangleleft\\ e}, \\mathcal{F}_{v \\triangleleft e}\\}_{e \\in \\mathcal{E}}} \\sum_{e \\in \\mathcal{E}}|| \\mathcal{F}_{u \\triangleleft e}X_u - \\mathcal{F}_{v \\triangleleft e}X_v||_F^2\n",
    "$$"
   ]
  },
  {
   "cell_type": "markdown",
   "metadata": {},
   "source": [
    "As a first approach, once we properly defined smooth signals $X$ over the sheaf, is to write each subproblem as \n",
    "\n",
    "$$\n",
    "\\min _{\\mathcal{F}_{u \\triangleleft e}, \\mathcal{F}_{v \\triangleleft e}} || \\mathcal{F}_{u \\triangleleft e}X_u - \\mathcal{F}_{v \\triangleleft e}X_v||_F^2 - \\lambda_u \\log \\det (\\mathcal{F}_{u \\triangleleft e}^T\\mathcal{F}_{u \\triangleleft e}) - \\lambda_v \\log \\det (\\mathcal{F}_{v \\triangleleft e}^T\\mathcal{F}_{v \\triangleleft e})\n",
    "$$\n",
    "\n",
    "the regularization term discourage the presence of any kernel in the maps assumed to be defined from $\\mathbb{R}^d$ to $\\mathbb{R}^d$: this should prevent the rise of any global section space. "
   ]
  },
  {
   "cell_type": "markdown",
   "metadata": {},
   "source": [
    "The optimization scheme in each suproblem is a proximal gradient descent: being \n",
    "\n",
    "$$\n",
    "G(\\mathcal{F}_{u \\triangleleft e},\\mathcal{F}_{v \\triangleleft e}) = || \\mathcal{F}_{u \\triangleleft e}X_u - \\mathcal{F}_{v \\triangleleft e}X_v||_F^2\n",
    "$$\n",
    "\n",
    "$$\n",
    "\\mathcal{R}(\\mathcal{F}_{u \\triangleleft e}) = - \\lambda_u \\log \\det (\\mathcal{F}_{u \\triangleleft e}^T\\mathcal{F}_{u \\triangleleft e})\n",
    "$$\n",
    "\n",
    "$$\n",
    "\\mathcal{R}(\\mathcal{F}_{v \\triangleleft e}) = - \\lambda_u \\log \\det (\\mathcal{F}_{v \\triangleleft e}^T\\mathcal{F}_{v \\triangleleft e})\n",
    "$$\n",
    "the scheme is:\n",
    "\n",
    "$$\n",
    "\\mathcal{F}_{u \\triangleleft e}^{k+1} = \\Pi_{\\mathcal{R}(\\mathcal{F}_{u \\triangleleft e})}[\\mathcal{F}_{u \\triangleleft e}^{k} - \\rho \\nabla_{\\mathcal{F}_{u \\triangleleft e}} G(\\mathcal{F}_{u \\triangleleft e},\\mathcal{F}_{v \\triangleleft e})]\n",
    "$$\n",
    "\n",
    "$$\n",
    "\\mathcal{F}_{v \\triangleleft e}^{k+1} = \\Pi_{\\mathcal{R}(\\mathcal{F}_{v \\triangleleft e})}[\\mathcal{F}_{v \\triangleleft e}^{k} - \\rho \\nabla_{\\mathcal{F}_{v \\triangleleft e}} G(\\mathcal{F}_{u \\triangleleft e},\\mathcal{F}_{v \\triangleleft e})]\n",
    "$$\n"
   ]
  },
  {
   "cell_type": "code",
   "execution_count": 2,
   "metadata": {},
   "outputs": [],
   "source": [
    "# Optimization routines\n",
    "\n",
    "def Gradient_Fu(Xu, Xv, Fu, Fv):\n",
    "    return Fu @ Xu @ Xu.T - Fv @ Xv @ Xu.T\n",
    "\n",
    "def Gradient_Fv(Xu, Xv, Fu, Fv):\n",
    "    return Fv @ Xv @ Xv.T - Fu @ Xu @ Xv.T\n",
    "\n",
    "def ProximalMap(M, Lambda):\n",
    "    \n",
    "    def objective(Z, M, lambda_):\n",
    "\n",
    "        Z = Z.reshape((M.shape[0], M.shape[1]))\n",
    "        frobenius_term = 0.5 * np.linalg.norm(Z - M, 'fro')**2\n",
    "        log_det_term = -lambda_ * np.log(np.linalg.det(Z.T @ Z))\n",
    "        return frobenius_term + log_det_term\n",
    "\n",
    "    Z0 = np.random.randn(M.shape[0], M.shape[1]).flatten()\n",
    "\n",
    "    result = minimize(objective, Z0, args=(M, Lambda), method='L-BFGS-B')\n",
    "\n",
    "    Z_opt = result.x.reshape((M.shape[0], M.shape[1]))\n",
    "\n",
    "    return Z_opt\n",
    "\n",
    "def ProxGradDescent(Xu, Xv, d, rho = 5e-3, Lambda = 0.1, MAX_ITER = 50):\n",
    "\n",
    "    # Initialization\n",
    "\n",
    "    Fu = np.random.randn(d,d)\n",
    "    Fv = np.random.randn(d,d)\n",
    "\n",
    "    for _ in range(MAX_ITER):\n",
    "\n",
    "        Fu = ProximalMap(Fu - rho * Gradient_Fu(Xu, Xv, Fu, Fv), Lambda)\n",
    "        Fv = ProximalMap(Fv - rho * Gradient_Fv(Xu, Xv, Fu, Fv), Lambda)\n",
    "\n",
    "    return Fu, Fv"
   ]
  },
  {
   "cell_type": "markdown",
   "metadata": {},
   "source": [
    "Let's now define a random graph, a random sheaf over it and signals being smooth over the sheaf. "
   ]
  },
  {
   "cell_type": "code",
   "execution_count": 3,
   "metadata": {},
   "outputs": [],
   "source": [
    "# Random graph generation \n",
    "\n",
    "def random_ER_graph(\n",
    "        V:int\n",
    "        ) -> list:\n",
    "\n",
    "    edges = []\n",
    "\n",
    "    for u in range(V):\n",
    "        for v in range(u+1, V):\n",
    "            p = np.random.uniform(0,1,1)\n",
    "            if p < 1.3*np.log(V)/V:\n",
    "                edges.append((u,v))\n",
    "\n",
    "    return edges\n",
    "\n",
    "# Random sheaf generation\n",
    "\n",
    "\n",
    "def random_sheaf(\n",
    "        V:int,\n",
    "        d:int,\n",
    "        edges:list\n",
    "        ) -> np.array:\n",
    "\n",
    "    E = len(edges)\n",
    "\n",
    "    # Incidency linear maps\n",
    "\n",
    "    F = {\n",
    "        e:{\n",
    "            e[0]:np.random.randn(d,d),\n",
    "            e[1]:np.random.randn(d,d)\n",
    "            } \n",
    "            for e in edges\n",
    "        }                                           \n",
    "\n",
    "    # Coboundary maps\n",
    "\n",
    "    B = np.zeros((d*E, d*V))                        \n",
    "\n",
    "    for i in range(len(edges)):\n",
    "\n",
    "        # Main loop to populate the coboundary map\n",
    "\n",
    "        edge = edges[i]\n",
    "\n",
    "        u = edge[0] \n",
    "        v = edge[1] \n",
    "\n",
    "        B_u = F[edge][u]\n",
    "        B_v = F[edge][v]\n",
    "\n",
    "        B[i*d:(i+1)*d, u*d:(u+1)*d] = B_u           \n",
    "        B[i*d:(i+1)*d, v*d:(v+1)*d] = - B_v\n",
    "\n",
    "    L_f = B.T @ B\n",
    "\n",
    "    return L_f\n",
    "\n",
    "# Synthetic data\n",
    "\n",
    "def synthetic_data(\n",
    "        N:int, \n",
    "        d:int,\n",
    "        V:int,\n",
    "        L:np.array\n",
    "        ) -> np.array:\n",
    "\n",
    "    # Generate random signals over the stalks of the vertices\n",
    "    X = np.random.randn(V*d,N)\n",
    "\n",
    "    # Retrieve the eigendecomposition of the sheaf laplacian\n",
    "    Lambda, U = np.linalg.eig(L)\n",
    "\n",
    "    # Tikhonov regularization based approach\n",
    "    H = 1/(1 + 10*Lambda)\n",
    "\n",
    "    # Propect into vertices domain <- filter out <- project into spectrum of laplacian\n",
    "    Y = U @ np.diag(H) @ U.T @ X\n",
    "\n",
    "    # Add gaussian noise\n",
    "    Y += np.random.normal(0, 10e-2, size=Y.shape)\n",
    "\n",
    "    return Y"
   ]
  },
  {
   "cell_type": "code",
   "execution_count": 4,
   "metadata": {},
   "outputs": [],
   "source": [
    "V = 20\n",
    "d = 3\n",
    "N = 1000"
   ]
  },
  {
   "cell_type": "code",
   "execution_count": 5,
   "metadata": {},
   "outputs": [],
   "source": [
    "G = random_ER_graph(V)\n",
    "E = len(G)\n",
    "\n",
    "L = random_sheaf(V, d, G)\n",
    "Y = synthetic_data(N, d, V, L)"
   ]
  },
  {
   "cell_type": "markdown",
   "metadata": {},
   "source": [
    "We observe the spectrum of L to assess the structure of the global sections space. "
   ]
  },
  {
   "cell_type": "code",
   "execution_count": 6,
   "metadata": {},
   "outputs": [
    {
     "data": {
      "text/plain": [
       "array([3.92616417e+01, 3.33898577e+01, 3.18338221e+01, 3.05379322e+01,\n",
       "       2.81517088e+01, 2.67379905e+01, 2.64664715e+01, 2.59504052e+01,\n",
       "       2.42327357e+01, 2.31975931e+01, 2.14905734e+01, 2.04254039e+01,\n",
       "       1.90765911e+01, 1.73214186e+01, 1.68618074e+01, 1.60276685e+01,\n",
       "       1.48194325e+01, 1.45186283e+01, 1.40265031e+01, 1.25039132e+01,\n",
       "       1.16025061e+01, 1.12100044e+01, 1.03680033e+01, 9.96513528e+00,\n",
       "       9.76044462e+00, 9.34767195e+00, 8.75808936e+00, 7.95260718e+00,\n",
       "       7.93905952e+00, 7.68352499e+00, 7.30782091e+00, 6.87951598e+00,\n",
       "       6.76071142e+00, 6.04957408e+00, 2.19637296e-04, 2.78646619e-02,\n",
       "       1.05706657e-01, 2.48806731e-01, 2.87885395e-01, 6.87921658e-01,\n",
       "       7.94212520e-01, 8.92764079e-01, 9.69067232e-01, 1.11559829e+00,\n",
       "       1.07609502e+00, 5.31816103e+00, 4.93542211e+00, 4.88849899e+00,\n",
       "       4.70287111e+00, 1.80846668e+00, 2.00318148e+00, 2.19624518e+00,\n",
       "       2.42285228e+00, 4.24578360e+00, 3.90352957e+00, 3.75094038e+00,\n",
       "       2.86256546e+00, 3.15983527e+00, 3.03061175e+00, 3.00989041e+00])"
      ]
     },
     "execution_count": 6,
     "metadata": {},
     "output_type": "execute_result"
    }
   ],
   "source": [
    "np.linalg.eigvals(L)"
   ]
  },
  {
   "cell_type": "markdown",
   "metadata": {},
   "source": [
    "Let's define a dictionary to keep track of all the maps "
   ]
  },
  {
   "cell_type": "code",
   "execution_count": 7,
   "metadata": {},
   "outputs": [],
   "source": [
    "Fs = {\n",
    "    edge: {\n",
    "        edge[0]: None,\n",
    "        edge[1]: None\n",
    "    }\n",
    "    for edge in combinations(range(V), 2)\n",
    "}"
   ]
  },
  {
   "cell_type": "code",
   "execution_count": 8,
   "metadata": {},
   "outputs": [
    {
     "name": "stderr",
     "output_type": "stream",
     "text": [
      "11it [00:03,  2.87it/s]C:\\Users\\Leonardo\\AppData\\Local\\Temp\\ipykernel_12800\\1918845247.py:15: RuntimeWarning: invalid value encountered in log\n",
      "  log_det_term = -lambda_ * np.log(np.linalg.det(Z.T @ Z))\n",
      "C:\\Users\\Leonardo\\AppData\\Local\\Temp\\ipykernel_12800\\1918845247.py:15: RuntimeWarning: divide by zero encountered in log\n",
      "  log_det_term = -lambda_ * np.log(np.linalg.det(Z.T @ Z))\n",
      "14it [00:05,  2.25it/s]c:\\Users\\Leonardo\\AppData\\Local\\Programs\\Python\\Python310\\lib\\site-packages\\numpy\\linalg\\linalg.py:2139: RuntimeWarning: invalid value encountered in det\n",
      "  r = _umath_linalg.det(a, signature=signature)\n",
      "29it [00:11,  2.92it/s]c:\\Users\\Leonardo\\AppData\\Local\\Programs\\Python\\Python310\\lib\\site-packages\\scipy\\optimize\\_numdiff.py:576: RuntimeWarning: invalid value encountered in subtract\n",
      "  df = fun(x) - f0\n",
      "190it [01:45,  1.80it/s]\n"
     ]
    }
   ],
   "source": [
    "for edge in tqdm(combinations(range(V), 2)):\n",
    "    u = edge[0]\n",
    "    v = edge[1]\n",
    "\n",
    "    Xu = Y[u*d:(u+1)*d,:]\n",
    "    Xv = Y[v*d:(v+1)*d,:]\n",
    "\n",
    "    Fu, Fv = ProxGradDescent(Xu, Xv, d)\n",
    "\n",
    "    Fs[edge][u] = Fu\n",
    "    Fs[edge][v] = Fv"
   ]
  },
  {
   "cell_type": "code",
   "execution_count": 9,
   "metadata": {},
   "outputs": [],
   "source": [
    "energies = {\n",
    "    edge: 0 for edge in combinations(range(V),2)\n",
    "}"
   ]
  },
  {
   "cell_type": "code",
   "execution_count": 10,
   "metadata": {},
   "outputs": [
    {
     "name": "stderr",
     "output_type": "stream",
     "text": [
      "190it [00:00, 38075.38it/s]\n"
     ]
    }
   ],
   "source": [
    "for edge in tqdm(combinations(range(V), 2)):\n",
    "    u = edge[0]\n",
    "    v = edge[1]\n",
    "\n",
    "    Xu = Y[u*d:(u+1)*d,:]\n",
    "    Xv = Y[v*d:(v+1)*d,:]\n",
    "\n",
    "    Fu = Fs[edge][u]\n",
    "    Fv = Fs[edge][v]\n",
    "\n",
    "    energies[edge] = np.linalg.norm(Fu @ Xu - Fv @ Xv)"
   ]
  },
  {
   "cell_type": "code",
   "execution_count": 11,
   "metadata": {},
   "outputs": [],
   "source": [
    "retrieved = sorted(energies.items(), key=lambda x:x[1])[:E]"
   ]
  },
  {
   "cell_type": "code",
   "execution_count": 12,
   "metadata": {},
   "outputs": [
    {
     "data": {
      "text/plain": [
       "0.24242424242424243"
      ]
     },
     "execution_count": 12,
     "metadata": {},
     "output_type": "execute_result"
    }
   ],
   "source": [
    "len(set(list(map(lambda x: x[0], retrieved))).intersection(set(G))) / E"
   ]
  },
  {
   "cell_type": "markdown",
   "metadata": {},
   "source": [
    "Very poor in recovering the underlying topology!"
   ]
  },
  {
   "cell_type": "code",
   "execution_count": 13,
   "metadata": {},
   "outputs": [],
   "source": [
    "B_hat = np.zeros((d*E, d*V))\n",
    "\n",
    "for i in range(E):\n",
    "    edge = retrieved[i][0]\n",
    "\n",
    "    u = edge[0] \n",
    "    v = edge[1] \n",
    "\n",
    "    B_u = Fs[edge][u]\n",
    "    B_v = Fs[edge][v]\n",
    "\n",
    "    B_hat[i*d:(i+1)*d, u*d:(u+1)*d] = B_u\n",
    "    B_hat[i*d:(i+1)*d, v*d:(v+1)*d] = - B_v\n",
    "\n",
    "L_f_hat = B_hat.T @ B_hat"
   ]
  },
  {
   "cell_type": "code",
   "execution_count": 14,
   "metadata": {},
   "outputs": [
    {
     "data": {
      "text/plain": [
       "array([3.92616417e+01, 3.33898577e+01, 3.18338221e+01, 3.05379322e+01,\n",
       "       2.81517088e+01, 2.67379905e+01, 2.64664715e+01, 2.59504052e+01,\n",
       "       2.42327357e+01, 2.31975931e+01, 2.14905734e+01, 2.04254039e+01,\n",
       "       1.90765911e+01, 1.73214186e+01, 1.68618074e+01, 1.60276685e+01,\n",
       "       1.48194325e+01, 1.45186283e+01, 1.40265031e+01, 1.25039132e+01,\n",
       "       1.16025061e+01, 1.12100044e+01, 1.03680033e+01, 9.96513528e+00,\n",
       "       9.76044462e+00, 9.34767195e+00, 8.75808936e+00, 7.95260718e+00,\n",
       "       7.93905952e+00, 7.68352499e+00, 7.30782091e+00, 6.87951598e+00,\n",
       "       6.76071142e+00, 6.04957408e+00, 2.19637296e-04, 2.78646619e-02,\n",
       "       1.05706657e-01, 2.48806731e-01, 2.87885395e-01, 6.87921658e-01,\n",
       "       7.94212520e-01, 8.92764079e-01, 9.69067232e-01, 1.11559829e+00,\n",
       "       1.07609502e+00, 5.31816103e+00, 4.93542211e+00, 4.88849899e+00,\n",
       "       4.70287111e+00, 1.80846668e+00, 2.00318148e+00, 2.19624518e+00,\n",
       "       2.42285228e+00, 4.24578360e+00, 3.90352957e+00, 3.75094038e+00,\n",
       "       2.86256546e+00, 3.15983527e+00, 3.03061175e+00, 3.00989041e+00])"
      ]
     },
     "execution_count": 14,
     "metadata": {},
     "output_type": "execute_result"
    }
   ],
   "source": [
    "np.linalg.eigvals(L)"
   ]
  },
  {
   "cell_type": "code",
   "execution_count": 15,
   "metadata": {},
   "outputs": [
    {
     "data": {
      "text/plain": [
       "array([4.32247061e+01, 3.49989610e+01, 3.02179087e+01, 2.66535298e+01,\n",
       "       2.55071535e+01, 2.44101167e+01, 2.32508554e+01, 2.24463672e+01,\n",
       "       2.14863870e+01, 2.08641071e+01, 1.84726422e+01, 1.78864479e+01,\n",
       "       1.71770500e+01, 1.69150657e+01, 1.60563578e+01, 1.55419728e+01,\n",
       "       1.45344772e+01, 1.40233346e+01, 1.36864171e+01, 1.31457200e+01,\n",
       "       1.21049798e+01, 1.12116366e+01, 9.82840099e+00, 9.23300163e+00,\n",
       "       8.85542558e+00, 8.60597936e+00, 7.66598299e+00, 7.05144387e+00,\n",
       "       6.61779335e+00, 6.39363482e+00, 1.59725811e-02, 7.37516007e-02,\n",
       "       5.35685573e-02, 2.33481630e-01, 4.91588057e-01, 3.84891671e-01,\n",
       "       3.79491870e-01, 7.45987948e-01, 1.26240181e+00, 1.39143118e+00,\n",
       "       1.67031017e+00, 5.47455993e+00, 2.16358244e+00, 2.49868467e+00,\n",
       "       5.08324712e+00, 3.25908763e+00, 4.53145908e+00, 3.52046831e+00,\n",
       "       4.32493160e+00, 4.29678057e+00, 4.07431956e+00, 3.91778516e+00,\n",
       "       3.81138049e+00, 3.76672451e+00, 0.00000000e+00, 0.00000000e+00,\n",
       "       0.00000000e+00, 0.00000000e+00, 0.00000000e+00, 0.00000000e+00])"
      ]
     },
     "execution_count": 15,
     "metadata": {},
     "output_type": "execute_result"
    }
   ],
   "source": [
    "np.linalg.eigvals(L_f_hat)"
   ]
  },
  {
   "cell_type": "markdown",
   "metadata": {},
   "source": [
    "As expected, controlling the spectrum of the restriction maps doesn't imply control over the spectrum of the sheaf laplacian! "
   ]
  }
 ],
 "metadata": {
  "kernelspec": {
   "display_name": "Python 3",
   "language": "python",
   "name": "python3"
  },
  "language_info": {
   "codemirror_mode": {
    "name": "ipython",
    "version": 3
   },
   "file_extension": ".py",
   "mimetype": "text/x-python",
   "name": "python",
   "nbconvert_exporter": "python",
   "pygments_lexer": "ipython3",
   "version": "3.10.7"
  }
 },
 "nbformat": 4,
 "nbformat_minor": 2
}
