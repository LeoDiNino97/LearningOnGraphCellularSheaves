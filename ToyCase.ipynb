{
 "cells": [
  {
   "cell_type": "markdown",
   "metadata": {},
   "source": [
    "# Toy topology and signals dataset"
   ]
  },
  {
   "cell_type": "code",
   "execution_count": 1,
   "metadata": {},
   "outputs": [],
   "source": [
    "import numpy as np \n",
    "from itertools import combinations\n",
    "from tqdm import tqdm\n",
    "from matplotlib import pyplot as plt"
   ]
  },
  {
   "cell_type": "code",
   "execution_count": 2,
   "metadata": {},
   "outputs": [],
   "source": [
    "# Fourier basis + Canonical basis\n",
    "\n",
    "def FB(D:int,\n",
    "       over = False): \n",
    "\n",
    "    k = np.arange(D).reshape((D, 1))\n",
    "    n = np.arange(D).reshape((1, D))\n",
    "\n",
    "    if over:\n",
    "        return np.hstack([(1/np.sqrt(D)) * np.exp(-2j * np.pi * k * n / D), np.eye(D)])\n",
    "    else:\n",
    "        return (1/np.sqrt(D)) * np.exp(-2j * np.pi * k * n / D)"
   ]
  },
  {
   "cell_type": "code",
   "execution_count": 3,
   "metadata": {},
   "outputs": [],
   "source": [
    "def subSpaceAssignment(N:int,\n",
    "                       D:int,\n",
    "                       K:int):\n",
    "    \n",
    "    combo = list(combinations(range(D), K))\n",
    "    patterns = np.random.choice(len(combo), N, replace=True)\n",
    "    return {n: np.array(combo[patterns[n]], dtype = 'int32') for n in range(N)}"
   ]
  },
  {
   "cell_type": "code",
   "execution_count": 4,
   "metadata": {},
   "outputs": [],
   "source": [
    "def premultiplier(Xu, Xv):\n",
    "    uu = np.linalg.pinv(Xu @ Xu.T)\n",
    "    uv = Xu @ Xv.T\n",
    "    vv = np.linalg.pinv(Xv @ Xv.T)\n",
    "    vu = Xv @ Xu.T\n",
    "\n",
    "    return (uu, uv, vv, vu)\n",
    "\n",
    "def chi_u(uu, uv, vv, vu):\n",
    "\n",
    "    return ((uu @ uv - np.eye(uu.shape[0])) @ vv @ np.linalg.pinv(vu @ uu @ uv @ vv - np.eye(uu.shape[0])) @ vu - np.eye(uu.shape[0])) @ uu\n",
    "\n",
    "def chi_v(uu, uv, vv, vu):\n",
    "\n",
    "    return (uu @ uv - np.eye(uu.shape[0])) @ vv @ np.linalg.pinv(vu @ uu @ uv @ vv - np.eye(uu.shape[0]))"
   ]
  },
  {
   "cell_type": "markdown",
   "metadata": {},
   "source": [
    "________________"
   ]
  },
  {
   "cell_type": "code",
   "execution_count": 5,
   "metadata": {},
   "outputs": [],
   "source": [
    "V = 4\n",
    "edges = [\n",
    "    (0,1),\n",
    "    (1,2),\n",
    "    (1,3),\n",
    "    (0,2)\n",
    "]\n",
    "\n",
    "nodes = [i for i in range(V)]\n",
    "E = len(edges)"
   ]
  },
  {
   "cell_type": "code",
   "execution_count": 49,
   "metadata": {},
   "outputs": [],
   "source": [
    "d = 20\n",
    "k = 5\n",
    "N = 100000"
   ]
  },
  {
   "cell_type": "code",
   "execution_count": 50,
   "metadata": {},
   "outputs": [],
   "source": [
    "D = FB(d)"
   ]
  },
  {
   "cell_type": "code",
   "execution_count": 82,
   "metadata": {},
   "outputs": [],
   "source": [
    "subspaces = {0:np.array([0,1,2,3]),\n",
    "             1:np.array([3,4,5,6]),\n",
    "             2:np.array([1,2,3,4]),\n",
    "             3:np.array([6,7,8,9])}"
   ]
  },
  {
   "cell_type": "code",
   "execution_count": 84,
   "metadata": {},
   "outputs": [],
   "source": [
    "signals = {node: D[:,subspaces[node]] @ np.random.randn(4, N) + np.random.randn(d,N)*0.01\n",
    "           for node in nodes}"
   ]
  },
  {
   "cell_type": "code",
   "execution_count": 85,
   "metadata": {},
   "outputs": [
    {
     "data": {
      "text/plain": [
       "(20, 100000)"
      ]
     },
     "execution_count": 85,
     "metadata": {},
     "output_type": "execute_result"
    }
   ],
   "source": [
    "signals[0].shape"
   ]
  },
  {
   "cell_type": "code",
   "execution_count": 86,
   "metadata": {},
   "outputs": [],
   "source": [
    "T = 0\n",
    "\n",
    "H = {\n",
    "    edge : {\n",
    "        edge[0] : None,\n",
    "        edge[1] : None\n",
    "    }\n",
    "for edge in combinations(nodes, 2)\n",
    "}"
   ]
  },
  {
   "cell_type": "code",
   "execution_count": 87,
   "metadata": {},
   "outputs": [
    {
     "name": "stderr",
     "output_type": "stream",
     "text": [
      "0it [00:00, ?it/s]"
     ]
    },
    {
     "name": "stderr",
     "output_type": "stream",
     "text": [
      "6it [00:00, 29.87it/s]\n"
     ]
    }
   ],
   "source": [
    "for e in tqdm(combinations(nodes,2)):\n",
    "    u = e[0]\n",
    "    v = e[1]\n",
    "\n",
    "    X_u = signals[u]\n",
    "    X_v = signals[v]\n",
    "    uu, uv, vv, vu = premultiplier(X_u, X_v)\n",
    "\n",
    "    H[e][u] = chi_u(uu, uv, vv, vu)\n",
    "    H[e][v] = chi_u(uu, uv, vv, vu)\n",
    "    \n",
    "    T += np.trace(H[e][u]) + np.trace(H[e][v])"
   ]
  },
  {
   "cell_type": "code",
   "execution_count": 88,
   "metadata": {},
   "outputs": [],
   "source": [
    "mu = T"
   ]
  },
  {
   "cell_type": "code",
   "execution_count": 89,
   "metadata": {},
   "outputs": [],
   "source": [
    "H = {\n",
    "    edge : {\n",
    "        edge[0] : mu/T * (H[edge][edge[0]]),\n",
    "        edge[1] : mu/T * (H[edge][edge[1]])\n",
    "    }\n",
    "for edge in combinations(nodes, 2)\n",
    "}"
   ]
  },
  {
   "cell_type": "code",
   "execution_count": 90,
   "metadata": {},
   "outputs": [],
   "source": [
    "all_edges = list(combinations(range(V), 2))\n",
    "\n",
    "energies = {\n",
    "    e : 0\n",
    "    for e in all_edges\n",
    "    }\n",
    "\n",
    "for e in (all_edges):\n",
    "    u = e[0]\n",
    "    v = e[1]\n",
    "    \n",
    "    '''\n",
    "    X_ = np.zeros_like(X)\n",
    "    X_[u*d:(u+1)*d,:] = X[u*d:(u+1)*d,:]\n",
    "    X_[v*d:(v+1)*d,:] = X[v*d:(v+1)*d,:]\n",
    "    energies[e] = np.linalg.norm(BB @ X_)\n",
    "    '''\n",
    "\n",
    "    energies[e] = np.linalg.norm(H[e][e[0]] @ signals[e[0]] - H[e][e[1]] @ signals[e[1]])"
   ]
  },
  {
   "cell_type": "code",
   "execution_count": 91,
   "metadata": {},
   "outputs": [],
   "source": [
    "retrieved = sorted(energies.items(), key=lambda x:x[1])[:E]"
   ]
  },
  {
   "cell_type": "code",
   "execution_count": 92,
   "metadata": {},
   "outputs": [
    {
     "name": "stdout",
     "output_type": "stream",
     "text": [
      "Accuracy in retrieving underlying graph 0.75\n"
     ]
    }
   ],
   "source": [
    "print(f'Accuracy in retrieving underlying graph {len(set(list(map(lambda x: x[0], retrieved))).intersection(set(edges))) / E}')"
   ]
  },
  {
   "cell_type": "code",
   "execution_count": 93,
   "metadata": {},
   "outputs": [
    {
     "data": {
      "text/plain": [
       "[((0, 1), 290.1642714844936),\n",
       " ((1, 3), 307.72964894277897),\n",
       " ((0, 3), 330.3506983609606),\n",
       " ((0, 2), 465.0161100630276)]"
      ]
     },
     "execution_count": 93,
     "metadata": {},
     "output_type": "execute_result"
    }
   ],
   "source": [
    "retrieved"
   ]
  },
  {
   "cell_type": "markdown",
   "metadata": {},
   "source": [
    "_______________"
   ]
  },
  {
   "cell_type": "code",
   "execution_count": 19,
   "metadata": {},
   "outputs": [],
   "source": [
    "def simulation(V,\n",
    "               edges,\n",
    "               d,\n",
    "               N,\n",
    "               S):\n",
    "    \n",
    "    V = 4\n",
    "    accs = np.zeros((S, d))\n",
    "    E = len(edges)\n",
    "    for it in tqdm(range(S)):\n",
    "                \n",
    "        for k in range(1,d):\n",
    "            subs = subSpaceAssignment(V, int(d), int(k))\n",
    "\n",
    "            signals = {node: D[:,subs[node]] @ np.random.randn(k, N)\n",
    "                for node in range(V)}\n",
    "            \n",
    "            T = 0\n",
    "\n",
    "            H = {\n",
    "                edge : {\n",
    "                    edge[0] : None,\n",
    "                    edge[1] : None\n",
    "                }\n",
    "            for edge in combinations(range(V), 2)\n",
    "            }\n",
    "\n",
    "            for e in combinations(range(V),2):\n",
    "                u = e[0]\n",
    "                v = e[1]\n",
    "\n",
    "                X_u = signals[u]\n",
    "                X_v = signals[v]\n",
    "                uu, uv, vv, vu = premultiplier(X_u, X_v)\n",
    "\n",
    "                H[e][u] = chi_u(uu, uv, vv, vu)\n",
    "                H[e][v] = chi_u(uu, uv, vv, vu)\n",
    "                \n",
    "                T += np.trace(H[e][u]) + np.trace(H[e][v])\n",
    "\n",
    "            mu = T\n",
    "\n",
    "            H = {\n",
    "            edge : {\n",
    "                edge[0] : mu/T * (H[edge][edge[0]]),\n",
    "                edge[1] : mu/T * (H[edge][edge[1]])\n",
    "            }\n",
    "            for edge in combinations(nodes, 2)\n",
    "            }\n",
    "\n",
    "            all_edges = list(combinations(range(V), 2))\n",
    "\n",
    "            energies = {\n",
    "                e : 0\n",
    "                for e in all_edges\n",
    "                }\n",
    "\n",
    "            for e in (all_edges):\n",
    "                u = e[0]\n",
    "                v = e[1]\n",
    "        \n",
    "                '''\n",
    "                X_ = np.zeros_like(X)\n",
    "                X_[u*d:(u+1)*d,:] = X[u*d:(u+1)*d,:]\n",
    "                X_[v*d:(v+1)*d,:] = X[v*d:(v+1)*d,:]\n",
    "                energies[e] = np.linalg.norm(BB @ X_)\n",
    "                '''\n",
    "\n",
    "                energies[e] = np.linalg.norm(H[e][e[0]] @ signals[e[0]] - H[e][e[1]] @ signals[e[1]])\n",
    "\n",
    "            retrieved = sorted(energies.items(), key=lambda x:x[1])[:E]\n",
    "            accs[it,k] =len(set(list(map(lambda x: x[0], retrieved))).intersection(set(edges))) / E\n",
    "\n",
    "    return accs"
   ]
  },
  {
   "cell_type": "code",
   "execution_count": null,
   "metadata": {},
   "outputs": [],
   "source": [
    "accs = simulation(V, edges, 20, 100, 100)"
   ]
  },
  {
   "cell_type": "code",
   "execution_count": null,
   "metadata": {},
   "outputs": [
    {
     "data": {
      "text/plain": [
       "[<matplotlib.lines.Line2D at 0x2df6323a6b0>]"
      ]
     },
     "execution_count": 83,
     "metadata": {},
     "output_type": "execute_result"
    },
    {
     "data": {
      "image/png": "[encoded data removed]",
      "text/plain": [
       "<Figure size 640x480 with 1 Axes>"
      ]
     },
     "metadata": {},
     "output_type": "display_data"
    }
   ],
   "source": [
    "plt.plot(np.mean(accs, axis = 0))"
   ]
  }
 ],
 "metadata": {
  "kernelspec": {
   "display_name": "Python 3",
   "language": "python",
   "name": "python3"
  },
  "language_info": {
   "codemirror_mode": {
    "name": "ipython",
    "version": 3
   },
   "file_extension": ".py",
   "mimetype": "text/x-python",
   "name": "python",
   "nbconvert_exporter": "python",
   "pygments_lexer": "ipython3",
   "version": "3.10.7"
  }
 },
 "nbformat": 4,
 "nbformat_minor": 2
}
