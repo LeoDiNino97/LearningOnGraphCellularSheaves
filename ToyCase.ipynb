{
 "cells": [
  {
   "cell_type": "markdown",
   "metadata": {},
   "source": [
    "# Toy topology and signals dataset"
   ]
  },
  {
   "cell_type": "code",
   "execution_count": 1,
   "metadata": {},
   "outputs": [],
   "source": [
    "import numpy as np \n",
    "from itertools import combinations \n",
    "from tqdm import tqdm \n",
    "from sklearn.linear_model import OrthogonalMatchingPursuit\n",
    "from matplotlib import pyplot as plt \n",
    "\n",
    "import warnings\n",
    "warnings.filterwarnings(\"ignore\")"
   ]
  },
  {
   "cell_type": "code",
   "execution_count": 2,
   "metadata": {},
   "outputs": [],
   "source": [
    "# Fourier basis + Canonical basis\n",
    "\n",
    "def FB(\n",
    "    D:int,\n",
    "): \n",
    "\n",
    "    k = np.arange(D).reshape((D, 1))\n",
    "    n = np.arange(D).reshape((1, D))\n",
    "\n",
    "    return np.asmatrix((1/np.sqrt(D)*np.exp(-2j * np.pi * k * n / D)))"
   ]
  },
  {
   "cell_type": "code",
   "execution_count": 3,
   "metadata": {},
   "outputs": [],
   "source": [
    "B = np.eye(5)"
   ]
  },
  {
   "cell_type": "code",
   "execution_count": 4,
   "metadata": {},
   "outputs": [],
   "source": [
    "def GrassmanDistance(\n",
    "        U_A,\n",
    "        U_B\n",
    "):\n",
    "    assert U_A.shape == U_B.shape\n",
    "    \n",
    "    _, S, _ = np.linalg.svd(U_A.T @ U_B)\n",
    "    S = np.clip(S, -1.0, 1.0)\n",
    "    \n",
    "    return np.linalg.norm(np.arccos(S))"
   ]
  },
  {
   "cell_type": "code",
   "execution_count": 5,
   "metadata": {},
   "outputs": [],
   "source": [
    "def subSpaceAssignment(N:int,\n",
    "                       D:int,\n",
    "                       K:int):\n",
    "    \n",
    "    combo = list(combinations(range(D), K))\n",
    "    patterns = np.random.choice(len(combo), N, replace=True)\n",
    "    return {n: np.array(combo[patterns[n]], dtype = 'int32') for n in range(N)}"
   ]
  },
  {
   "cell_type": "code",
   "execution_count": 6,
   "metadata": {},
   "outputs": [],
   "source": [
    "def premultiplier(Xu, Xv):\n",
    "    uu = np.linalg.pinv(Xu @ Xu.T)\n",
    "    uv = Xu @ Xv.T\n",
    "    vv = np.linalg.pinv(Xv @ Xv.T)\n",
    "    vu = Xv @ Xu.T\n",
    "\n",
    "    return (uu, uv, vv, vu)\n",
    "\n",
    "def chi_u(uu, uv, vv, vu):\n",
    "\n",
    "    return ((uu @ uv - np.eye(uu.shape[0])) @ vv @ np.linalg.pinv(vu @ uu @ uv @ vv - np.eye(uu.shape[0])) @ vu - np.eye(uu.shape[0])) @ uu\n",
    "\n",
    "def chi_v(uu, uv, vv, vu):\n",
    "\n",
    "    return (uu @ uv - np.eye(uu.shape[0])) @ vv @ np.linalg.pinv(vu @ uu @ uv @ vv - np.eye(uu.shape[0]))"
   ]
  },
  {
   "cell_type": "markdown",
   "metadata": {},
   "source": [
    "________________"
   ]
  },
  {
   "cell_type": "code",
   "execution_count": 7,
   "metadata": {},
   "outputs": [],
   "source": [
    "V = 4\n",
    "edges = [\n",
    "    (0,1),\n",
    "    (1,2),\n",
    "    (1,3),\n",
    "    (0,2)\n",
    "]\n",
    "\n",
    "nodes = [i for i in range(V)]\n",
    "E = len(edges)"
   ]
  },
  {
   "cell_type": "code",
   "execution_count": 8,
   "metadata": {},
   "outputs": [],
   "source": [
    "d = 20\n",
    "k = 5\n",
    "N = 100000"
   ]
  },
  {
   "cell_type": "code",
   "execution_count": 9,
   "metadata": {},
   "outputs": [],
   "source": [
    "D = FB(d)"
   ]
  },
  {
   "cell_type": "code",
   "execution_count": 10,
   "metadata": {},
   "outputs": [],
   "source": [
    "subspaces = {0:np.array([0,1,2,3]),\n",
    "             1:np.array([3,4,5,6]),\n",
    "             2:np.array([1,2,3,4]),\n",
    "             3:np.array([6,7,8,9])}"
   ]
  },
  {
   "cell_type": "code",
   "execution_count": 11,
   "metadata": {},
   "outputs": [],
   "source": [
    "B = np.eye(d)"
   ]
  },
  {
   "cell_type": "code",
   "execution_count": 12,
   "metadata": {},
   "outputs": [
    {
     "data": {
      "text/plain": [
       "[(0, 1), (0, 2), (0, 3), (1, 2), (1, 3), (2, 3)]"
      ]
     },
     "execution_count": 12,
     "metadata": {},
     "output_type": "execute_result"
    }
   ],
   "source": [
    "list(combinations(range(V), 2))"
   ]
  },
  {
   "cell_type": "code",
   "execution_count": 13,
   "metadata": {},
   "outputs": [],
   "source": [
    "pair_wise_subspaces_distance = {\n",
    "    edge: GrassmanDistance(B[:,subspaces[edge[0]]], B[:,subspaces[edge[1]]])\n",
    "    for edge in list(combinations(range(V), 2))\n",
    "}"
   ]
  },
  {
   "cell_type": "code",
   "execution_count": 14,
   "metadata": {},
   "outputs": [
    {
     "data": {
      "text/plain": [
       "[(0, 1), (1, 2), (1, 3), (0, 2)]"
      ]
     },
     "execution_count": 14,
     "metadata": {},
     "output_type": "execute_result"
    }
   ],
   "source": [
    "edges"
   ]
  },
  {
   "cell_type": "code",
   "execution_count": 15,
   "metadata": {},
   "outputs": [
    {
     "data": {
      "text/plain": [
       "[((0, 2), 1.5707963267948966),\n",
       " ((1, 2), 2.221441469079183),\n",
       " ((0, 1), 2.7206990463513265),\n",
       " ((1, 3), 2.7206990463513265),\n",
       " ((0, 3), 3.141592653589793),\n",
       " ((2, 3), 3.141592653589793)]"
      ]
     },
     "execution_count": 15,
     "metadata": {},
     "output_type": "execute_result"
    }
   ],
   "source": [
    "sorted(pair_wise_subspaces_distance.items(), key = lambda x: x[1])"
   ]
  },
  {
   "cell_type": "code",
   "execution_count": 16,
   "metadata": {},
   "outputs": [],
   "source": [
    "signals = {node: B[:,subspaces[node]] @ np.random.randn(4, N) + np.random.randn(d,N)*0.01\n",
    "           for node in nodes}"
   ]
  },
  {
   "cell_type": "code",
   "execution_count": 17,
   "metadata": {},
   "outputs": [
    {
     "data": {
      "text/plain": [
       "(20, 100000)"
      ]
     },
     "execution_count": 17,
     "metadata": {},
     "output_type": "execute_result"
    }
   ],
   "source": [
    "signals[0].shape"
   ]
  },
  {
   "cell_type": "code",
   "execution_count": 18,
   "metadata": {},
   "outputs": [],
   "source": [
    "T = 0\n",
    "\n",
    "H = {\n",
    "    edge : {\n",
    "        edge[0] : None,\n",
    "        edge[1] : None\n",
    "    }\n",
    "for edge in combinations(nodes, 2)\n",
    "}"
   ]
  },
  {
   "cell_type": "code",
   "execution_count": 19,
   "metadata": {},
   "outputs": [
    {
     "name": "stderr",
     "output_type": "stream",
     "text": [
      "6it [00:00, 36.84it/s]\n"
     ]
    }
   ],
   "source": [
    "for e in tqdm(combinations(nodes,2)):\n",
    "    u = e[0]\n",
    "    v = e[1]\n",
    "\n",
    "    X_u = signals[u]\n",
    "    X_v = signals[v]\n",
    "    uu, uv, vv, vu = premultiplier(X_u, X_v)\n",
    "\n",
    "    H[e][u] = chi_u(uu, uv, vv, vu)\n",
    "    H[e][v] = chi_u(uu, uv, vv, vu)\n",
    "    \n",
    "    T += np.trace(H[e][u]) + np.trace(H[e][v])"
   ]
  },
  {
   "cell_type": "code",
   "execution_count": 20,
   "metadata": {},
   "outputs": [],
   "source": [
    "mu = T"
   ]
  },
  {
   "cell_type": "code",
   "execution_count": 21,
   "metadata": {},
   "outputs": [],
   "source": [
    "H = {\n",
    "    edge : {\n",
    "        edge[0] : mu/T * (H[edge][edge[0]]),\n",
    "        edge[1] : mu/T * (H[edge][edge[1]])\n",
    "    }\n",
    "for edge in combinations(nodes, 2)\n",
    "}"
   ]
  },
  {
   "cell_type": "code",
   "execution_count": 22,
   "metadata": {},
   "outputs": [],
   "source": [
    "all_edges = list(combinations(range(V), 2))\n",
    "\n",
    "energies = {\n",
    "    e : 0\n",
    "    for e in all_edges\n",
    "    }\n",
    "\n",
    "for e in (all_edges):\n",
    "    u = e[0]\n",
    "    v = e[1]\n",
    "    \n",
    "    '''\n",
    "    X_ = np.zeros_like(X)\n",
    "    X_[u*d:(u+1)*d,:] = X[u*d:(u+1)*d,:]\n",
    "    X_[v*d:(v+1)*d,:] = X[v*d:(v+1)*d,:]\n",
    "    energies[e] = np.linalg.norm(BB @ X_)\n",
    "    '''\n",
    "\n",
    "    energies[e] = np.linalg.norm(H[e][e[0]] @ signals[e[0]] - H[e][e[1]] @ signals[e[1]])"
   ]
  },
  {
   "cell_type": "code",
   "execution_count": 23,
   "metadata": {},
   "outputs": [],
   "source": [
    "retrieved = sorted(energies.items(), key=lambda x:x[1])[:E]"
   ]
  },
  {
   "cell_type": "code",
   "execution_count": 24,
   "metadata": {},
   "outputs": [
    {
     "name": "stdout",
     "output_type": "stream",
     "text": [
      "Accuracy in retrieving underlying graph 1.0\n"
     ]
    }
   ],
   "source": [
    "print(f'Accuracy in retrieving underlying graph {len(set(list(map(lambda x: x[0], retrieved))).intersection(set(edges))) / E}')"
   ]
  },
  {
   "cell_type": "code",
   "execution_count": 25,
   "metadata": {},
   "outputs": [
    {
     "data": {
      "text/plain": [
       "[((0, 2), 31.56525172391306),\n",
       " ((1, 2), 44.71663006862969),\n",
       " ((0, 1), 54.703836937560396),\n",
       " ((1, 3), 54.90510423994355)]"
      ]
     },
     "execution_count": 25,
     "metadata": {},
     "output_type": "execute_result"
    }
   ],
   "source": [
    "retrieved"
   ]
  },
  {
   "cell_type": "markdown",
   "metadata": {},
   "source": [
    "_______________"
   ]
  },
  {
   "cell_type": "markdown",
   "metadata": {},
   "source": [
    "# Randomly generated signals with $\\ell_0$ group penalty on canonical basis"
   ]
  },
  {
   "cell_type": "code",
   "execution_count": 26,
   "metadata": {},
   "outputs": [],
   "source": [
    "# Let's generate a toy topology for our example\n",
    "\n",
    "nodes = [i for i in range(7)]\n",
    "edges = [\n",
    "    (0,1),\n",
    "    (0,3),\n",
    "    (0,6),\n",
    "    (1,2),\n",
    "    (1,5),\n",
    "    (2,4),\n",
    "    (4,6),\n",
    "    (5,6)\n",
    "]\n",
    "\n",
    "V = 7\n",
    "E = len(edges)\n",
    "\n",
    "d = 10                                          # Node and edges stalks dimension\n",
    "\n",
    "F = {\n",
    "    e:{\n",
    "        e[0]:np.random.randn(d,d),\n",
    "        e[1]:np.random.randn(d,d)\n",
    "        } \n",
    "        for e in edges\n",
    "    }                                           # Incidency linear maps\n"
   ]
  },
  {
   "cell_type": "code",
   "execution_count": 27,
   "metadata": {},
   "outputs": [],
   "source": [
    "# Sheaf representation \n",
    "\n",
    "# Coboundary map\n",
    "\n",
    "B = np.zeros((d*E, d*V))\n",
    "\n",
    "for i in range(len(edges)):\n",
    "    edge = edges[i]\n",
    "\n",
    "    u = edge[0] \n",
    "    v = edge[1] \n",
    "\n",
    "    B_u = F[edge][u]\n",
    "    B_v = F[edge][v]\n",
    "\n",
    "    B[i*d:(i+1)*d, u*d:(u+1)*d] = B_u\n",
    "    B[i*d:(i+1)*d, v*d:(v+1)*d] = - B_v\n",
    "\n",
    "# (Normalized) Sheaf Laplacian\n",
    "\n",
    "L_f = B.T @ B\n",
    "L_f /= np.max(np.linalg.eigvals(L_f))"
   ]
  },
  {
   "cell_type": "code",
   "execution_count": 47,
   "metadata": {},
   "outputs": [],
   "source": [
    "# Data generation \n",
    "np.random.seed(42)\n",
    "N = 100\n",
    "X = np.random.randn(V*d,N)\n",
    "\n",
    "# TODO Do we need here a proper rotation matrix? \n",
    "\n",
    "# Tikhonov inspired filtering\n",
    "\n",
    "Lambda, U = np.linalg.eig(L_f)\n",
    "H = 1/(1 + 10*Lambda)\n",
    "\n",
    "# Filter the signal accordingly to the true sheaf laplacian\n",
    "\n",
    "Y = U @ np.diag(H) @ U.T @ X\n",
    "\n",
    "# Normalize data\n",
    "Y = np.apply_along_axis(lambda d: d/np.linalg.norm(d), axis=0, arr=Y)\n",
    "\n",
    "# Add noise\n",
    "#Y += np.random.normal(0, 10e-2, size=Y.shape)\n",
    "\n",
    "# Remap the signals back on each node\n",
    "\n",
    "signals = {\n",
    "    node: Y[node*d:(node + 1)*d,:]\n",
    "    for node in nodes\n",
    "    }"
   ]
  },
  {
   "cell_type": "code",
   "execution_count": 48,
   "metadata": {},
   "outputs": [],
   "source": [
    "def block_ortho_match_pursuit(Y, D, K):\n",
    "\n",
    "    S = []\n",
    "\n",
    "    X = np.zeros((D.shape[1], Y.shape[1]))\n",
    "    iters = 0\n",
    "    R = Y\n",
    "\n",
    "    while iters < K:\n",
    "\n",
    "        # Retrieve the maximum correlation between atoms and residuals of the previous iteration\n",
    "        S.append(np.argmax(np.linalg.norm(D.T @ R, axis = 1)))\n",
    "\n",
    "        # Expand the dictionary for the representation\n",
    "        dic = D[:,S]\n",
    "\n",
    "        # Solve subproblems and update x\n",
    "        X[S] = np.linalg.pinv(dic) @ Y\n",
    "        \n",
    "        # Update the residuals\n",
    "        R = Y - D @ X\n",
    "        iters += 1\n",
    "\n",
    "    return X"
   ]
  },
  {
   "cell_type": "code",
   "execution_count": 30,
   "metadata": {},
   "outputs": [],
   "source": [
    "def OMP(Y, D, T0):\n",
    "    \n",
    "    batch_size, _ = Y.shape\n",
    "    dictionary_dim = D.shape[1]\n",
    "\n",
    "    # Initialize the coefficient matrix\n",
    "    X = np.zeros((batch_size, dictionary_dim))\n",
    "\n",
    "    # Initialize the OMP model\n",
    "    omp = OrthogonalMatchingPursuit(n_nonzero_coefs=T0)\n",
    "\n",
    "    # Loop through each sample in the batch\n",
    "    for i in range(batch_size):\n",
    "        # Fit the model to each sample\n",
    "        omp.fit(D, Y[i])\n",
    "\n",
    "        # Get the estimated coefficients for the current sample\n",
    "        X[i, :] = omp.coef_\n",
    "    \n",
    "    return X.T"
   ]
  },
  {
   "cell_type": "code",
   "execution_count": 49,
   "metadata": {},
   "outputs": [],
   "source": [
    "sparse_coded = {\n",
    "    node: block_ortho_match_pursuit(signals[node], np.eye(d), 4)\n",
    "    for node in nodes\n",
    "    }"
   ]
  },
  {
   "cell_type": "code",
   "execution_count": 50,
   "metadata": {},
   "outputs": [],
   "source": [
    "support = {node: np.nonzero(sparse_coded[node][:,0]) for node in nodes}"
   ]
  },
  {
   "cell_type": "code",
   "execution_count": 51,
   "metadata": {},
   "outputs": [
    {
     "data": {
      "text/plain": [
       "[(0, 1), (0, 3), (0, 6), (1, 2), (1, 5), (2, 4), (4, 6), (5, 6)]"
      ]
     },
     "execution_count": 51,
     "metadata": {},
     "output_type": "execute_result"
    }
   ],
   "source": [
    "edges"
   ]
  },
  {
   "cell_type": "code",
   "execution_count": 52,
   "metadata": {},
   "outputs": [
    {
     "data": {
      "text/plain": [
       "{0: (array([0, 4, 6, 8], dtype=int64),),\n",
       " 1: (array([4, 5, 8, 9], dtype=int64),),\n",
       " 2: (array([4, 5, 8, 9], dtype=int64),),\n",
       " 3: (array([0, 3, 4, 9], dtype=int64),),\n",
       " 4: (array([0, 2, 4, 9], dtype=int64),),\n",
       " 5: (array([2, 3, 5, 8], dtype=int64),),\n",
       " 6: (array([2, 3, 4, 9], dtype=int64),)}"
      ]
     },
     "execution_count": 52,
     "metadata": {},
     "output_type": "execute_result"
    }
   ],
   "source": [
    "support"
   ]
  },
  {
   "cell_type": "code",
   "execution_count": 53,
   "metadata": {},
   "outputs": [],
   "source": [
    "reconstructed = {node: np.eye(d) @ sparse_coded[node] for node in nodes}"
   ]
  },
  {
   "cell_type": "code",
   "execution_count": 54,
   "metadata": {},
   "outputs": [],
   "source": [
    "pair_wise_subspaces_distance = {\n",
    "    edge: GrassmanDistance(np.eye(d)[:,np.nonzero(sparse_coded[edge[0]][:,0])[0]], np.eye(d)[:,np.nonzero(sparse_coded[edge[1]][:,0])[0]])\n",
    "    for edge in list(combinations(range(V), 2))\n",
    "}"
   ]
  },
  {
   "cell_type": "code",
   "execution_count": 55,
   "metadata": {},
   "outputs": [
    {
     "data": {
      "text/plain": [
       "[((1, 2), 0.0),\n",
       " ((3, 4), 1.5707963267948966),\n",
       " ((3, 6), 1.5707963267948966),\n",
       " ((4, 6), 1.5707963267948966),\n",
       " ((0, 1), 2.221441469079183),\n",
       " ((0, 2), 2.221441469079183),\n",
       " ((0, 3), 2.221441469079183),\n",
       " ((0, 4), 2.221441469079183),\n",
       " ((1, 3), 2.221441469079183),\n",
       " ((1, 4), 2.221441469079183),\n",
       " ((1, 5), 2.221441469079183),\n",
       " ((1, 6), 2.221441469079183),\n",
       " ((2, 3), 2.221441469079183),\n",
       " ((2, 4), 2.221441469079183),\n",
       " ((2, 5), 2.221441469079183),\n",
       " ((2, 6), 2.221441469079183),\n",
       " ((5, 6), 2.221441469079183),\n",
       " ((0, 5), 2.7206990463513265),\n",
       " ((0, 6), 2.7206990463513265),\n",
       " ((3, 5), 2.7206990463513265),\n",
       " ((4, 5), 2.7206990463513265)]"
      ]
     },
     "execution_count": 55,
     "metadata": {},
     "output_type": "execute_result"
    }
   ],
   "source": [
    "sorted(pair_wise_subspaces_distance.items(), key = lambda x: x[1])"
   ]
  },
  {
   "cell_type": "code",
   "execution_count": 56,
   "metadata": {},
   "outputs": [],
   "source": [
    "T = 0\n",
    "\n",
    "H = {\n",
    "    edge : {\n",
    "        edge[0] : None,\n",
    "        edge[1] : None\n",
    "    }\n",
    "for edge in combinations(nodes, 2)\n",
    "}"
   ]
  },
  {
   "cell_type": "code",
   "execution_count": 57,
   "metadata": {},
   "outputs": [
    {
     "name": "stderr",
     "output_type": "stream",
     "text": [
      "21it [00:00, 4082.14it/s]\n"
     ]
    }
   ],
   "source": [
    "for e in tqdm(combinations(nodes,2)):\n",
    "    u = e[0]\n",
    "    v = e[1]\n",
    "\n",
    "    X_u = signals[u]\n",
    "    X_v = signals[v]\n",
    "    uu, uv, vv, vu = premultiplier(X_u, X_v)\n",
    "\n",
    "    H[e][u] = chi_u(uu, uv, vv, vu)\n",
    "    H[e][v] = chi_u(uu, uv, vv, vu)\n",
    "    \n",
    "    T += np.trace(H[e][u]) + np.trace(H[e][v])"
   ]
  },
  {
   "cell_type": "code",
   "execution_count": 58,
   "metadata": {},
   "outputs": [],
   "source": [
    "mu = T"
   ]
  },
  {
   "cell_type": "code",
   "execution_count": 59,
   "metadata": {},
   "outputs": [],
   "source": [
    "H = {\n",
    "    edge : {\n",
    "        edge[0] : mu/T * (H[edge][edge[0]]),\n",
    "        edge[1] : mu/T * (H[edge][edge[1]])\n",
    "    }\n",
    "for edge in combinations(nodes, 2)\n",
    "}"
   ]
  },
  {
   "cell_type": "code",
   "execution_count": 60,
   "metadata": {},
   "outputs": [],
   "source": [
    "all_edges = list(combinations(range(V), 2))\n",
    "\n",
    "energies = {\n",
    "    e : 0\n",
    "    for e in all_edges\n",
    "    }\n",
    "\n",
    "for e in (all_edges):\n",
    "    u = e[0]\n",
    "    v = e[1]\n",
    "    \n",
    "    '''\n",
    "    X_ = np.zeros_like(X)\n",
    "    X_[u*d:(u+1)*d,:] = X[u*d:(u+1)*d,:]\n",
    "    X_[v*d:(v+1)*d,:] = X[v*d:(v+1)*d,:]\n",
    "    energies[e] = np.linalg.norm(BB @ X_)\n",
    "    '''\n",
    "\n",
    "    energies[e] = np.linalg.norm(H[e][e[0]] @ reconstructed[e[0]] - H[e][e[1]] @ reconstructed[e[1]])"
   ]
  },
  {
   "cell_type": "code",
   "execution_count": 64,
   "metadata": {},
   "outputs": [],
   "source": [
    "retrieved = sorted(pair_wise_subspaces_distance.items(), key=lambda x:x[1])[:E]"
   ]
  },
  {
   "cell_type": "code",
   "execution_count": 65,
   "metadata": {},
   "outputs": [
    {
     "name": "stdout",
     "output_type": "stream",
     "text": [
      "Accuracy in retrieving underlying graph 0.5\n"
     ]
    }
   ],
   "source": [
    "print(f'Accuracy in retrieving underlying graph {len(set(list(map(lambda x: x[0], retrieved))).intersection(set(edges))) / E}')"
   ]
  },
  {
   "cell_type": "code",
   "execution_count": 66,
   "metadata": {},
   "outputs": [
    {
     "data": {
      "text/plain": [
       "[((1, 2), 0.0),\n",
       " ((3, 4), 1.5707963267948966),\n",
       " ((3, 6), 1.5707963267948966),\n",
       " ((4, 6), 1.5707963267948966),\n",
       " ((0, 1), 2.221441469079183),\n",
       " ((0, 2), 2.221441469079183),\n",
       " ((0, 3), 2.221441469079183),\n",
       " ((0, 4), 2.221441469079183)]"
      ]
     },
     "execution_count": 66,
     "metadata": {},
     "output_type": "execute_result"
    }
   ],
   "source": [
    "retrieved"
   ]
  },
  {
   "cell_type": "code",
   "execution_count": 46,
   "metadata": {},
   "outputs": [
    {
     "data": {
      "text/plain": [
       "[(0, 1), (0, 3), (0, 6), (1, 2), (1, 5), (2, 4), (4, 6), (5, 6)]"
      ]
     },
     "execution_count": 46,
     "metadata": {},
     "output_type": "execute_result"
    }
   ],
   "source": [
    "edges"
   ]
  }
 ],
 "metadata": {
  "kernelspec": {
   "display_name": "Python 3",
   "language": "python",
   "name": "python3"
  },
  "language_info": {
   "codemirror_mode": {
    "name": "ipython",
    "version": 3
   },
   "file_extension": ".py",
   "mimetype": "text/x-python",
   "name": "python",
   "nbconvert_exporter": "python",
   "pygments_lexer": "ipython3",
   "version": "3.10.7"
  }
 },
 "nbformat": 4,
 "nbformat_minor": 2
}
