{
 "cells": [
  {
   "cell_type": "markdown",
   "metadata": {},
   "source": [
    "# Toy topology and signals dataset"
   ]
  },
  {
   "cell_type": "code",
   "execution_count": 79,
   "metadata": {},
   "outputs": [],
   "source": [
    "import numpy as np \n",
    "import cvxpy as cp \n",
    "import networkx as nx\n",
    "\n",
    "from itertools import combinations \n",
    "from tqdm import tqdm \n",
    "from sklearn.linear_model import OrthogonalMatchingPursuit\n",
    "from matplotlib import pyplot as plt \n",
    "\n",
    "import warnings\n",
    "warnings.filterwarnings(\"ignore\")"
   ]
  },
  {
   "cell_type": "code",
   "execution_count": 2,
   "metadata": {},
   "outputs": [],
   "source": [
    "# Fourier basis + Canonical basis\n",
    "\n",
    "def FB(\n",
    "    D:int,\n",
    "): \n",
    "\n",
    "    k = np.arange(D).reshape((D, 1))\n",
    "    n = np.arange(D).reshape((1, D))\n",
    "\n",
    "    return np.asmatrix((1/np.sqrt(D)*np.exp(-2j * np.pi * k * n / D)))"
   ]
  },
  {
   "cell_type": "code",
   "execution_count": 3,
   "metadata": {},
   "outputs": [],
   "source": [
    "B = np.eye(5)"
   ]
  },
  {
   "cell_type": "code",
   "execution_count": 4,
   "metadata": {},
   "outputs": [],
   "source": [
    "def GrassmanDistance(\n",
    "        U_A,\n",
    "        U_B\n",
    "):\n",
    "    assert U_A.shape == U_B.shape\n",
    "    \n",
    "    _, S, _ = np.linalg.svd(U_A.T @ U_B)\n",
    "    S = np.clip(S, -1.0, 1.0)\n",
    "    \n",
    "    return np.linalg.norm(np.arccos(S))"
   ]
  },
  {
   "cell_type": "code",
   "execution_count": 5,
   "metadata": {},
   "outputs": [],
   "source": [
    "def subSpaceAssignment(N:int,\n",
    "                       D:int,\n",
    "                       K:int):\n",
    "    \n",
    "    combo = list(combinations(range(D), K))\n",
    "    patterns = np.random.choice(len(combo), N, replace=True)\n",
    "    return {n: np.array(combo[patterns[n]], dtype = 'int32') for n in range(N)}"
   ]
  },
  {
   "cell_type": "code",
   "execution_count": 2,
   "metadata": {},
   "outputs": [],
   "source": [
    "def premultiplier(Xu, Xv):\n",
    "    uu = np.linalg.inv(Xu @ Xu.T)\n",
    "    uv = Xu @ Xv.T\n",
    "    vv = np.linalg.inv(Xv @ Xv.T)\n",
    "    vu = Xv @ Xu.T\n",
    "\n",
    "    return (uu, uv, vv, vu)\n",
    "\n",
    "def chi_u(uu, uv, vv, vu):\n",
    "\n",
    "    return (uu @ uv + np.eye(uu.shape[0])) @ vv @ (vu @ uu @ uv @ vv - np.eye(uu.shape[0])) @ vu @ uu - uu\n",
    "\n",
    "def chi_v(uu, uv, vv, vu):\n",
    "\n",
    "    return (uu @ uv + np.eye(uu.shape[0])) @ vv @ (vu @ uu @ uv @ vv - np.eye(uu.shape[0]))"
   ]
  },
  {
   "cell_type": "markdown",
   "metadata": {},
   "source": [
    "________________"
   ]
  },
  {
   "cell_type": "code",
   "execution_count": 7,
   "metadata": {},
   "outputs": [],
   "source": [
    "V = 4\n",
    "edges = [\n",
    "    (0,1),\n",
    "    (1,2),\n",
    "    (1,3),\n",
    "    (0,2)\n",
    "]\n",
    "\n",
    "nodes = [i for i in range(V)]\n",
    "E = len(edges)"
   ]
  },
  {
   "cell_type": "code",
   "execution_count": 8,
   "metadata": {},
   "outputs": [],
   "source": [
    "d = 20\n",
    "k = 5\n",
    "N = 100000"
   ]
  },
  {
   "cell_type": "code",
   "execution_count": 9,
   "metadata": {},
   "outputs": [],
   "source": [
    "D = FB(d)"
   ]
  },
  {
   "cell_type": "code",
   "execution_count": 10,
   "metadata": {},
   "outputs": [],
   "source": [
    "subspaces = {0:np.array([0,1,2,3]),\n",
    "             1:np.array([3,4,5,6]),\n",
    "             2:np.array([1,2,3,4]),\n",
    "             3:np.array([6,7,8,9])}"
   ]
  },
  {
   "cell_type": "code",
   "execution_count": 11,
   "metadata": {},
   "outputs": [],
   "source": [
    "B = np.eye(d)"
   ]
  },
  {
   "cell_type": "code",
   "execution_count": 12,
   "metadata": {},
   "outputs": [
    {
     "data": {
      "text/plain": [
       "[(0, 1), (0, 2), (0, 3), (1, 2), (1, 3), (2, 3)]"
      ]
     },
     "execution_count": 12,
     "metadata": {},
     "output_type": "execute_result"
    }
   ],
   "source": [
    "list(combinations(range(V), 2))"
   ]
  },
  {
   "cell_type": "code",
   "execution_count": 13,
   "metadata": {},
   "outputs": [],
   "source": [
    "pair_wise_subspaces_distance = {\n",
    "    edge: GrassmanDistance(B[:,subspaces[edge[0]]], B[:,subspaces[edge[1]]])\n",
    "    for edge in list(combinations(range(V), 2))\n",
    "}"
   ]
  },
  {
   "cell_type": "code",
   "execution_count": 14,
   "metadata": {},
   "outputs": [
    {
     "data": {
      "text/plain": [
       "[(0, 1), (1, 2), (1, 3), (0, 2)]"
      ]
     },
     "execution_count": 14,
     "metadata": {},
     "output_type": "execute_result"
    }
   ],
   "source": [
    "edges"
   ]
  },
  {
   "cell_type": "code",
   "execution_count": 15,
   "metadata": {},
   "outputs": [
    {
     "data": {
      "text/plain": [
       "[((0, 2), 1.5707963267948966),\n",
       " ((1, 2), 2.221441469079183),\n",
       " ((0, 1), 2.7206990463513265),\n",
       " ((1, 3), 2.7206990463513265),\n",
       " ((0, 3), 3.141592653589793),\n",
       " ((2, 3), 3.141592653589793)]"
      ]
     },
     "execution_count": 15,
     "metadata": {},
     "output_type": "execute_result"
    }
   ],
   "source": [
    "sorted(pair_wise_subspaces_distance.items(), key = lambda x: x[1])"
   ]
  },
  {
   "cell_type": "code",
   "execution_count": 16,
   "metadata": {},
   "outputs": [],
   "source": [
    "signals = {node: B[:,subspaces[node]] @ np.random.randn(4, N) + np.random.randn(d,N)*0.01\n",
    "           for node in nodes}"
   ]
  },
  {
   "cell_type": "code",
   "execution_count": 17,
   "metadata": {},
   "outputs": [
    {
     "data": {
      "text/plain": [
       "(20, 100000)"
      ]
     },
     "execution_count": 17,
     "metadata": {},
     "output_type": "execute_result"
    }
   ],
   "source": [
    "signals[0].shape"
   ]
  },
  {
   "cell_type": "code",
   "execution_count": 18,
   "metadata": {},
   "outputs": [],
   "source": [
    "T = 0\n",
    "\n",
    "H = {\n",
    "    edge : {\n",
    "        edge[0] : None,\n",
    "        edge[1] : None\n",
    "    }\n",
    "for edge in combinations(nodes, 2)\n",
    "}"
   ]
  },
  {
   "cell_type": "code",
   "execution_count": 19,
   "metadata": {},
   "outputs": [
    {
     "name": "stderr",
     "output_type": "stream",
     "text": [
      "0it [00:00, ?it/s]"
     ]
    },
    {
     "name": "stderr",
     "output_type": "stream",
     "text": [
      "6it [00:00, 41.57it/s]\n"
     ]
    }
   ],
   "source": [
    "for e in tqdm(combinations(nodes,2)):\n",
    "    u = e[0]\n",
    "    v = e[1]\n",
    "\n",
    "    X_u = signals[u]\n",
    "    X_v = signals[v]\n",
    "    uu, uv, vv, vu = premultiplier(X_u, X_v)\n",
    "\n",
    "    H[e][u] = chi_u(uu, uv, vv, vu)\n",
    "    H[e][v] = chi_u(uu, uv, vv, vu)\n",
    "    \n",
    "    T += np.trace(H[e][u]) + np.trace(H[e][v])"
   ]
  },
  {
   "cell_type": "code",
   "execution_count": 20,
   "metadata": {},
   "outputs": [],
   "source": [
    "mu = 1e3"
   ]
  },
  {
   "cell_type": "code",
   "execution_count": 21,
   "metadata": {},
   "outputs": [],
   "source": [
    "H = {\n",
    "    edge : {\n",
    "        edge[0] : mu/T * (H[edge][edge[0]]),\n",
    "        edge[1] : mu/T * (H[edge][edge[1]])\n",
    "    }\n",
    "for edge in combinations(nodes, 2)\n",
    "}"
   ]
  },
  {
   "cell_type": "code",
   "execution_count": 22,
   "metadata": {},
   "outputs": [],
   "source": [
    "all_edges = list(combinations(range(V), 2))\n",
    "\n",
    "energies = {\n",
    "    e : 0\n",
    "    for e in all_edges\n",
    "    }\n",
    "\n",
    "for e in (all_edges):\n",
    "    u = e[0]\n",
    "    v = e[1]\n",
    "    \n",
    "    '''\n",
    "    X_ = np.zeros_like(X)\n",
    "    X_[u*d:(u+1)*d,:] = X[u*d:(u+1)*d,:]\n",
    "    X_[v*d:(v+1)*d,:] = X[v*d:(v+1)*d,:]\n",
    "    energies[e] = np.linalg.norm(BB @ X_)\n",
    "    '''\n",
    "\n",
    "    energies[e] = np.linalg.norm(H[e][e[0]] @ signals[e[0]] - H[e][e[1]] @ signals[e[1]])"
   ]
  },
  {
   "cell_type": "code",
   "execution_count": 23,
   "metadata": {},
   "outputs": [],
   "source": [
    "retrieved = sorted(energies.items(), key=lambda x:x[1])[:E]"
   ]
  },
  {
   "cell_type": "code",
   "execution_count": 24,
   "metadata": {},
   "outputs": [
    {
     "name": "stdout",
     "output_type": "stream",
     "text": [
      "Accuracy in retrieving underlying graph 1.0\n"
     ]
    }
   ],
   "source": [
    "print(f'Accuracy in retrieving underlying graph {len(set(list(map(lambda x: x[0], retrieved))).intersection(set(edges))) / E}')"
   ]
  },
  {
   "cell_type": "code",
   "execution_count": 25,
   "metadata": {},
   "outputs": [
    {
     "data": {
      "text/plain": [
       "[((0, 2), 31.740971737865042),\n",
       " ((1, 2), 44.71127590129284),\n",
       " ((0, 1), 54.751635800766984),\n",
       " ((1, 3), 54.960423543043774)]"
      ]
     },
     "execution_count": 25,
     "metadata": {},
     "output_type": "execute_result"
    }
   ],
   "source": [
    "retrieved"
   ]
  },
  {
   "cell_type": "markdown",
   "metadata": {},
   "source": [
    "_______________"
   ]
  },
  {
   "cell_type": "code",
   "execution_count": 73,
   "metadata": {},
   "outputs": [],
   "source": [
    "class GrassmanGraph:\n",
    "    def __init__(\n",
    "            self, \n",
    "            N, \n",
    "            D, \n",
    "            K, \n",
    "            E = None,\n",
    "            basis = None, \n",
    "            seed = 42,\n",
    "            snaps = 1000,\n",
    "            threshold = None,\n",
    "            basis_mode = 'Canonic'\n",
    "        ):\n",
    "        \n",
    "        assert N >= D\n",
    "        \n",
    "        self.N = N\n",
    "        self.D = D\n",
    "        self.K = K\n",
    "        self.E = E\n",
    "        \n",
    "        self.threshold = threshold\n",
    "        self.snaps = snaps\n",
    "\n",
    "        self.basis = basis\n",
    "        self.basis_mode = basis_mode\n",
    "        \n",
    "        self.seed = seed\n",
    "\n",
    "        self.setup()\n",
    "\n",
    "    def setup(self):\n",
    "\n",
    "        self.subSpaceAssignment()\n",
    "        self.pairwise_distances()\n",
    "        self.edges_generation()\n",
    "        self.signals_generation()\n",
    "\n",
    "    def subSpaceAssignment(self):\n",
    "        \n",
    "        np.random.seed(self.seed)\n",
    "        return {n: np.random.choice(self.D, self.K, replace = False) for n in range(self.N)}\n",
    "    \n",
    "    def GrassmanDistance(\n",
    "            self,\n",
    "            U_A,\n",
    "            U_B\n",
    "        ):\n",
    "        \n",
    "        assert U_A.shape == U_B.shape\n",
    "        \n",
    "        _, S, _ = np.linalg.svd(U_A.T @ U_B)\n",
    "        S = np.clip(S, -1.0, 1.0)\n",
    "        \n",
    "        return np.linalg.norm(np.arccos(S))\n",
    "    \n",
    "    def pairwise_distances(self):\n",
    "        self.SSA = self.subSpaceAssignment()\n",
    "        if self.basis_mode == 'Canonic':\n",
    "            self.basis = np.eye(self.D)\n",
    "        else:\n",
    "            self.basis = self.basis\n",
    "\n",
    "        self.pair_wise_subspaces_distance = {\n",
    "            edge: self.GrassmanDistance(self.basis[:,self.SSA[edge[0]]], self.basis[:,self.SSA[edge[1]]])\n",
    "            for edge in list(combinations(range(self.N), 2))\n",
    "            }\n",
    "        \n",
    "    def edges_generation(self):\n",
    "        if self.threshold is None and self.E is None:\n",
    "            Ds = np.array(sorted(self.pair_wise_subspaces_distance.values()))\n",
    "            self.edges = [\n",
    "                pair[0] \n",
    "                for pair in list(\n",
    "                    sorted(\n",
    "                        self.pair_wise_subspaces_distance.items(), key = lambda x: x[1] \n",
    "                        )\n",
    "                    )\n",
    "                if pair[1] < np.percentile(Ds, 50)\n",
    "                ]\n",
    "            \n",
    "        elif self.E is not None:\n",
    "            self.edges = [\n",
    "                pair[0] for pair in list(\n",
    "                    sorted(\n",
    "                        self.pair_wise_subspaces_distance.items(), key = lambda x: x[1] \n",
    "                        )\n",
    "                    )\n",
    "                ][:self.E]\n",
    "        \n",
    "        else:\n",
    "            self.edges = [\n",
    "                pair[0] for pair in list(\n",
    "                    sorted(\n",
    "                        self.pair_wise_subspaces_distance.items(), key = lambda x: x[1] \n",
    "                        )\n",
    "                    )\n",
    "                if pair[1] <= self.threshold\n",
    "                ]\n",
    "            \n",
    "    def signals_generation(self):\n",
    "\n",
    "        np.random.seed(self.seed)\n",
    "        self.signals = {\n",
    "                node: self.basis[:,self.SSA[node]] @ np.random.randn(self.K, self.snaps) + np.random.randn(self.N,self.snaps)*0.01\n",
    "                for node in range(self.N)\n",
    "                }"
   ]
  },
  {
   "cell_type": "code",
   "execution_count": 126,
   "metadata": {},
   "outputs": [],
   "source": [
    "class SheafInference:\n",
    "    def __init__(\n",
    "            self, \n",
    "            GG, \n",
    "            mu,\n",
    "            verbose = False):\n",
    "        \n",
    "        self.GG = GG\n",
    "        self.mu = mu\n",
    "\n",
    "        self.verbose = verbose\n",
    "        \n",
    "        self.KKT_solver()\n",
    "        self.graph_solver()\n",
    "        \n",
    "    def premultiplier(self, Xu, Xv):\n",
    "        uu = np.linalg.inv(Xu @ Xu.T)\n",
    "        uv = Xu @ Xv.T\n",
    "        vv = np.linalg.inv(Xv @ Xv.T)\n",
    "        vu = Xv @ Xu.T\n",
    "\n",
    "        return (uu, uv, vv, vu)\n",
    "\n",
    "    def chi_u(self, uu, uv, vv, vu):\n",
    "\n",
    "        return (uu @ uv + np.eye(uu.shape[0])) @ vv @ (vu @ uu @ uv @ vv - np.eye(uu.shape[0])) @ vu @ uu - uu\n",
    "\n",
    "    def chi_v(self, uu, uv, vv, vu):\n",
    "\n",
    "        return (uu @ uv + np.eye(uu.shape[0])) @ vv @ (vu @ uu @ uv @ vv - np.eye(uu.shape[0]))\n",
    "    \n",
    "    def KKT_solver(self):\n",
    "        T = 0\n",
    "\n",
    "        H = {\n",
    "            edge : {\n",
    "                edge[0] : None,\n",
    "                edge[1] : None\n",
    "            }\n",
    "        for edge in combinations(range(self.GG.N), 2)\n",
    "        }\n",
    "\n",
    "        for e in combinations(range(self.GG.N),2):\n",
    "            u = e[0]\n",
    "            v = e[1]\n",
    "\n",
    "            X_u = self.GG.signals[u]\n",
    "            X_v = self.GG.signals[v]\n",
    "            uu, uv, vv, vu = self.premultiplier(X_u, X_v)\n",
    "\n",
    "            H[e][u] = self.chi_u(uu, uv, vv, vu)\n",
    "            H[e][v] = self.chi_u(uu, uv, vv, vu)\n",
    "            \n",
    "            T += np.trace(H[e][u]) + np.trace(H[e][v])\n",
    "\n",
    "        self.H = {\n",
    "            edge : {\n",
    "                edge[0] : self.mu/T * (H[edge][edge[0]]),\n",
    "                edge[1] : self.mu/T * (H[edge][edge[1]])\n",
    "            }\n",
    "        for edge in combinations(range(self.GG.N), 2)\n",
    "        }\n",
    "    \n",
    "    def graph_solver(self):\n",
    "        all_edges = list(combinations(range(self.GG.N), 2))\n",
    "\n",
    "        energies = {\n",
    "            e : 0\n",
    "            for e in all_edges\n",
    "            }\n",
    "\n",
    "        for e in all_edges:\n",
    "\n",
    "            energies[e] = np.linalg.norm(self.H[e][e[0]] @ self.GG.signals[e[0]] - self.H[e][e[1]] @ self.GG.signals[e[1]])\n",
    "\n",
    "        self.retrieved = sorted(energies.items(), key=lambda x:x[1])\n",
    "\n",
    "        if self.verbose:\n",
    "            print(f'Accuracy in retrieving underlying graph {len(set(list(map(lambda x: x[0], self.retrieved[:len(self.GG.edges)]))).intersection(set(self.GG.edges))) / len(self.GG.edges)}')\n",
    "\n",
    "        self.acc = len(set(list(map(lambda x: x[0], self.retrieved[:len(self.GG.edges)]))).intersection(set(self.GG.edges))) / len(self.GG.edges)"
   ]
  },
  {
   "cell_type": "code",
   "execution_count": 123,
   "metadata": {},
   "outputs": [],
   "source": [
    "G = GrassmanGraph(20, 20, 5, E = 30)"
   ]
  },
  {
   "cell_type": "code",
   "execution_count": 124,
   "metadata": {},
   "outputs": [
    {
     "name": "stdout",
     "output_type": "stream",
     "text": [
      "Accuracy in retrieving underlying graph 0.6333333333333333\n"
     ]
    }
   ],
   "source": [
    "S = SheafInference(G, 1e2, verbose=True)"
   ]
  },
  {
   "cell_type": "markdown",
   "metadata": {},
   "source": [
    "### First experiment: range number of edges from 1 to 190 and look at accuracy"
   ]
  },
  {
   "cell_type": "code",
   "execution_count": 127,
   "metadata": {},
   "outputs": [],
   "source": [
    "G = GrassmanGraph(20, 20, 3)\n",
    "S = SheafInference(G, 1e2)"
   ]
  },
  {
   "cell_type": "code",
   "execution_count": 60,
   "metadata": {},
   "outputs": [
    {
     "name": "stderr",
     "output_type": "stream",
     "text": [
      "100%|██████████| 190/190 [01:21<00:00,  2.34it/s]\n"
     ]
    }
   ],
   "source": [
    "accs = np.zeros(190)\n",
    "for i in tqdm(range(1,191)):\n",
    "    G = GrassmanGraph(20, 20, 3, E = i)\n",
    "    S = SheafInference(G, 1e2)\n",
    "    accs[i-1] = S.acc"
   ]
  },
  {
   "cell_type": "code",
   "execution_count": 61,
   "metadata": {},
   "outputs": [
    {
     "data": {
      "text/plain": [
       "[<matplotlib.lines.Line2D at 0x169436431c0>]"
      ]
     },
     "execution_count": 61,
     "metadata": {},
     "output_type": "execute_result"
    },
    {
     "data": {
      "image/png": "[encoded data removed]",
      "text/plain": [
       "<Figure size 640x480 with 1 Axes>"
      ]
     },
     "metadata": {},
     "output_type": "display_data"
    }
   ],
   "source": [
    "plt.plot(accs)"
   ]
  },
  {
   "cell_type": "markdown",
   "metadata": {},
   "source": [
    "### Let's have a look to the reconstruction error"
   ]
  },
  {
   "cell_type": "code",
   "execution_count": 125,
   "metadata": {},
   "outputs": [],
   "source": [
    "def block_ortho_match_pursuit(Y, D, K):\n",
    "\n",
    "    S = []\n",
    "\n",
    "    X = np.zeros((D.shape[1], Y.shape[1]))\n",
    "    iters = 0\n",
    "    R = Y\n",
    "\n",
    "    while iters < K:\n",
    "\n",
    "        # Retrieve the maximum correlation between atoms and residuals of the previous iteration\n",
    "        S.append(np.argmax(np.linalg.norm(D.T @ R, axis = 1)))\n",
    "\n",
    "        # Expand the dictionary for the representation\n",
    "        dic = D[:,S]\n",
    "\n",
    "        # Solve subproblems and update x\n",
    "        X[S] = np.linalg.pinv(dic) @ Y\n",
    "        \n",
    "        # Update the residuals\n",
    "        R = Y - D @ X\n",
    "        iters += 1\n",
    "\n",
    "    return X"
   ]
  },
  {
   "cell_type": "code",
   "execution_count": 133,
   "metadata": {},
   "outputs": [],
   "source": [
    "Y = np.vstack([G.signals[v] for v in range(20)])"
   ]
  },
  {
   "cell_type": "code",
   "execution_count": 134,
   "metadata": {},
   "outputs": [
    {
     "data": {
      "text/plain": [
       "(400, 1000)"
      ]
     },
     "execution_count": 134,
     "metadata": {},
     "output_type": "execute_result"
    }
   ],
   "source": [
    "Y.shape"
   ]
  },
  {
   "cell_type": "code",
   "execution_count": 137,
   "metadata": {},
   "outputs": [
    {
     "name": "stderr",
     "output_type": "stream",
     "text": [
      "100%|██████████| 190/190 [09:54<00:00,  3.13s/it]\n"
     ]
    }
   ],
   "source": [
    "reconstruction_error = np.zeros(190)\n",
    "Y = np.vstack([G.signals[v] for v in range(20)])\n",
    "\n",
    "for i in tqdm(range(1,191)):\n",
    "\n",
    "    edges = [tup[0] for tup in S.retrieved][i:]\n",
    "    B = np.zeros((20*len(edges), 400))\n",
    "    for j, edge in enumerate(edges):\n",
    "        \n",
    "        B[j*20:(j+1)*20, edge[0]*20:(edge[0]+1)*20] = S.H[edge][edge[0]]\n",
    "        B[j*20:(j+1)*20, edge[1]*20:(edge[1]+1)*20] = - S.H[edge][edge[1]]\n",
    "\n",
    "    Lf = B.T @ B\n",
    "\n",
    "    _, U = np.linalg.eig(Lf)\n",
    "    X = block_ortho_match_pursuit(Y, U, 60)\n",
    "\n",
    "    reconstruction_error[i - 1] = np.linalg.norm(Y - U @ X)\n"
   ]
  },
  {
   "cell_type": "code",
   "execution_count": 141,
   "metadata": {},
   "outputs": [
    {
     "data": {
      "image/png": "[encoded data removed]",
      "text/plain": [
       "<Figure size 640x480 with 1 Axes>"
      ]
     },
     "metadata": {},
     "output_type": "display_data"
    }
   ],
   "source": [
    "plt.plot(reconstruction_error / 1000)\n",
    "plt.plot(accs)\n",
    "plt.yscale('log')"
   ]
  },
  {
   "cell_type": "code",
   "execution_count": null,
   "metadata": {},
   "outputs": [],
   "source": []
  }
 ],
 "metadata": {
  "kernelspec": {
   "display_name": "Python 3",
   "language": "python",
   "name": "python3"
  },
  "language_info": {
   "codemirror_mode": {
    "name": "ipython",
    "version": 3
   },
   "file_extension": ".py",
   "mimetype": "text/x-python",
   "name": "python",
   "nbconvert_exporter": "python",
   "pygments_lexer": "ipython3",
   "version": "3.10.7"
  }
 },
 "nbformat": 4,
 "nbformat_minor": 2
}
