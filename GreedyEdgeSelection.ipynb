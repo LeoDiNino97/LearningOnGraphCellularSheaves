{
 "cells": [
  {
   "cell_type": "code",
   "execution_count": 1,
   "metadata": {},
   "outputs": [],
   "source": [
    "import numpy as np\n",
    "import cvxpy as cp\n",
    "from matplotlib import pyplot as plt\n",
    "\n",
    "from scipy.linalg import fractional_matrix_power\n",
    "from sklearn.linear_model import OrthogonalMatchingPursuit\n",
    "from tqdm import tqdm\n",
    "from itertools import combinations\n",
    "\n",
    "import warnings\n",
    "warnings.filterwarnings(\"ignore\")"
   ]
  },
  {
   "cell_type": "markdown",
   "metadata": {},
   "source": [
    "The full pipeline to learn the sheaf laplacian is going to take into account several steps. \n",
    "+ First of all, we take as granted the imputation of the maps via KKT on a given set of edges: we initialize the algorithm to work on the full graph starting from all maps being identity maps. \n",
    "+ We leverage structured dictionaries based on sheaf convolutional filters to learn the best representation of the 0-cochains with a double localization quality within each subdictionary: each atom gives first of all a node domain localization, and then a rank-1 stalk subspace localization. \n",
    "+ We then define a greedy criterion to start removing edges: at each iteration we compute all the possible representation of the 0-cochains removing one of the possible edges, and we decide to remove the edge yielding the best improvement on the sparse coding in terms of reconstruction error.\n",
    "+ Finally, once an edge has been removed, we compute all the restriction maps again and repeat the procedure until a convergence criterion is met. "
   ]
  },
  {
   "cell_type": "code",
   "execution_count": 3,
   "metadata": {},
   "outputs": [],
   "source": [
    "N = 10\n",
    "edges = []\n",
    "\n",
    "cutoff = 0.5\n",
    "theta = 0.9\n",
    "\n",
    "points = np.random.rand(N, 2)\n",
    "\n",
    "A = np.zeros((N,N))\n",
    "W = np.zeros((N,N))\n",
    "\n",
    "for i in range(N):\n",
    "    for j in range(i+1, N):\n",
    "        \n",
    "        A[i,j] = np.linalg.norm(points[i,:] - points[j,:]) <= cutoff\n",
    "        A[j,i] = np.linalg.norm(points[i,:] - points[j,:]) <= cutoff\n",
    "\n",
    "        if A[i,j] == 1:\n",
    "            edges.append((i,j))"
   ]
  },
  {
   "cell_type": "code",
   "execution_count": 4,
   "metadata": {},
   "outputs": [],
   "source": [
    "def random_sheaf(\n",
    "        V:int,\n",
    "        d:int,\n",
    "        edges:list\n",
    "        ) -> np.array:\n",
    "\n",
    "    E = len(edges)\n",
    "\n",
    "    # Incidency linear maps\n",
    "\n",
    "    F = {\n",
    "        e:{\n",
    "            e[0]:np.random.randn(d,d),\n",
    "            e[1]:np.random.randn(d,d)\n",
    "            } \n",
    "            for e in edges\n",
    "        }                                           \n",
    "\n",
    "    # Coboundary maps\n",
    "\n",
    "    B = np.zeros((d*E, d*V))                        \n",
    "\n",
    "    for i in range(len(edges)):\n",
    "\n",
    "        # Main loop to populate the coboundary map\n",
    "\n",
    "        edge = edges[i]\n",
    "\n",
    "        u = edge[0] \n",
    "        v = edge[1] \n",
    "\n",
    "        B_u = F[edge][u]\n",
    "        B_v = F[edge][v]\n",
    "\n",
    "        B[i*d:(i+1)*d, u*d:(u+1)*d] = B_u           \n",
    "        B[i*d:(i+1)*d, v*d:(v+1)*d] = - B_v\n",
    "\n",
    "    L_f = B.T @ B\n",
    "\n",
    "    return L_f"
   ]
  },
  {
   "cell_type": "code",
   "execution_count": 5,
   "metadata": {},
   "outputs": [],
   "source": [
    "d = 10\n",
    "Lf = random_sheaf(N, d, edges)"
   ]
  },
  {
   "cell_type": "code",
   "execution_count": 6,
   "metadata": {},
   "outputs": [],
   "source": [
    "D = np.diag(np.diagonal(Lf))"
   ]
  },
  {
   "cell_type": "code",
   "execution_count": 7,
   "metadata": {},
   "outputs": [],
   "source": [
    "Lf = fractional_matrix_power(D, -0.5) @ Lf @ fractional_matrix_power(D, -0.5)"
   ]
  },
  {
   "cell_type": "code",
   "execution_count": 8,
   "metadata": {},
   "outputs": [],
   "source": [
    "band1 = np.array([i in range(0,25) for i in range(100)])\n",
    "band2 = np.array([i in range(25,50) for i in range(100)]) \n",
    "band3 = np.array([i in range(50,75) for i in range(100)])\n",
    "band4 = np.array([i in range(75,100) for i in range(100)])\n",
    "\n",
    "bands = [band1, band2, band3, band4]"
   ]
  },
  {
   "cell_type": "code",
   "execution_count": 9,
   "metadata": {},
   "outputs": [],
   "source": [
    "Lambda, U = np.linalg.eig(Lf)\n",
    "Lambda = np.sort(Lambda)"
   ]
  },
  {
   "cell_type": "code",
   "execution_count": 10,
   "metadata": {},
   "outputs": [],
   "source": [
    "J = 400\n",
    "DD = np.zeros((N*d, J))"
   ]
  },
  {
   "cell_type": "code",
   "execution_count": 11,
   "metadata": {},
   "outputs": [],
   "source": [
    "for j in range(J): \n",
    "\n",
    "    B = j // 100\n",
    "    h = np.copy(Lambda)\n",
    "    h[~bands[B]] = 0\n",
    "    h *= np.random.rand(h.shape[0],1)[:,0]\n",
    "    n = np.random.choice(d*N)\n",
    "\n",
    "    DD[:,j] = (U @ np.diag(h) @ U.T)[:,n]"
   ]
  },
  {
   "cell_type": "code",
   "execution_count": 12,
   "metadata": {},
   "outputs": [],
   "source": [
    "M = 1000 \n",
    "Y_train = np.zeros((N*d,M))\n",
    "\n",
    "for m in range(M):\n",
    "    T = np.random.choice(J, 4)\n",
    "    Y_train[:,m] = DD[:,T] @ np.random.rand(4)\n",
    "\n",
    "test_size = 2000\n",
    "Y_test = np.zeros((N*d,test_size))\n",
    "\n",
    "for t in range(test_size):\n",
    "    T = np.random.choice(J, 4)\n",
    "    Y_test[:,t] = DD[:,T] @ np.random.rand(4)"
   ]
  },
  {
   "cell_type": "code",
   "execution_count": 13,
   "metadata": {},
   "outputs": [
    {
     "data": {
      "text/plain": [
       "(100, 1000)"
      ]
     },
     "execution_count": 13,
     "metadata": {},
     "output_type": "execute_result"
    }
   ],
   "source": [
    "Y_train.shape"
   ]
  },
  {
   "cell_type": "code",
   "execution_count": 14,
   "metadata": {},
   "outputs": [],
   "source": [
    "c = 1\n",
    "eps = 0.01\n",
    "\n",
    "T0 = 20         # Assumed sparsity\n",
    "S = 4           # Number of dictionaries\n",
    "K = 5           # Power of the laplacian"
   ]
  },
  {
   "cell_type": "code",
   "execution_count": 15,
   "metadata": {},
   "outputs": [],
   "source": [
    "def vecOMP(Y, D, T0):\n",
    "    \n",
    "    batch_size, _ = Y.shape\n",
    "    dictionary_dim = D.shape[1]\n",
    "\n",
    "    # Initialize the coefficient matrix\n",
    "    X = np.zeros((batch_size, dictionary_dim))\n",
    "\n",
    "    # Initialize the OMP model\n",
    "    omp = OrthogonalMatchingPursuit(n_nonzero_coefs=T0)\n",
    "\n",
    "    # Loop through each sample in the batch\n",
    "    for i in range(batch_size):\n",
    "        # Fit the model to each sample\n",
    "        omp.fit(D, Y[i])\n",
    "\n",
    "        # Get the estimated coefficients for the current sample\n",
    "        X[i, :] = omp.coef_\n",
    "    \n",
    "    return X"
   ]
  },
  {
   "cell_type": "code",
   "execution_count": 15,
   "metadata": {},
   "outputs": [
    {
     "data": {
      "text/plain": [
       "'\\ndef vecOMP(Y, D, T0):\\n    batch_size, _ = Y.shape\\n    dictionary_dim = D.shape[1]\\n    \\n    S = np.zeros((T0, batch_size), dtype=int)\\n    X = np.zeros((batch_size, dictionary_dim))\\n    R = np.copy(Y)\\n    \\n    for k in range(T0):\\n\\n        corr = np.abs(R @ D)\\n\\n        # Masking the previously selected atoms\\n        mask_1 = np.zeros_like(corr, dtype=bool)\\n        mask_1[np.arange(batch_size)[:, None], S[:k,:].transpose(1,0)] = True\\n        corr[mask_1] = -np.inf\\n\\n        # Selected highest correlated atoms\\n        selected = np.argmax(corr, axis=1)\\n        S[k, :] = selected\\n\\n        # Solve least square problem\\n        dics = np.linalg.pinv(D[:, S[:k+1,:]].transpose(2,0,1))\\n        X_hat = np.matmul(dics, Y  [:,:,None])[:,:,0]\\n\\n        # Update the estimate\\n        mask_2 = np.zeros_like(X, dtype=bool)\\n        mask_2[np.arange(batch_size)[:, None], S[:k+1,:].transpose(1,0)] = True\\n        X[mask_2] = X_hat.reshape(-1)\\n\\n        # Update the residuals\\n        R = Y - (X @ D.T)\\n    \\n    return X\\n'"
      ]
     },
     "execution_count": 15,
     "metadata": {},
     "output_type": "execute_result"
    }
   ],
   "source": [
    "'''\n",
    "def vecOMP(Y, D, T0):\n",
    "    batch_size, _ = Y.shape\n",
    "    dictionary_dim = D.shape[1]\n",
    "    \n",
    "    S = np.zeros((T0, batch_size), dtype=int)\n",
    "    X = np.zeros((batch_size, dictionary_dim))\n",
    "    R = np.copy(Y)\n",
    "    \n",
    "    for k in range(T0):\n",
    "\n",
    "        corr = np.abs(R @ D)\n",
    "\n",
    "        # Masking the previously selected atoms\n",
    "        mask_1 = np.zeros_like(corr, dtype=bool)\n",
    "        mask_1[np.arange(batch_size)[:, None], S[:k,:].transpose(1,0)] = True\n",
    "        corr[mask_1] = -np.inf\n",
    "\n",
    "        # Selected highest correlated atoms\n",
    "        selected = np.argmax(corr, axis=1)\n",
    "        S[k, :] = selected\n",
    "\n",
    "        # Solve least square problem\n",
    "        dics = np.linalg.pinv(D[:, S[:k+1,:]].transpose(2,0,1))\n",
    "        X_hat = np.matmul(dics, Y  [:,:,None])[:,:,0]\n",
    "\n",
    "        # Update the estimate\n",
    "        mask_2 = np.zeros_like(X, dtype=bool)\n",
    "        mask_2[np.arange(batch_size)[:, None], S[:k+1,:].transpose(1,0)] = True\n",
    "        X[mask_2] = X_hat.reshape(-1)\n",
    "\n",
    "        # Update the residuals\n",
    "        R = Y - (X @ D.T)\n",
    "    \n",
    "    return X\n",
    "'''"
   ]
  },
  {
   "cell_type": "code",
   "execution_count": 16,
   "metadata": {},
   "outputs": [],
   "source": [
    "# Dictionary update subroutine\n",
    "\n",
    "def LaplacianPowers(L, K):\n",
    "    powers = np.zeros((K+1, L.shape[0], L.shape[1]))\n",
    "    for k in range(K+1):\n",
    "        powers[k,:,:] = np.linalg.matrix_power(L, k)\n",
    "\n",
    "    return powers \n",
    "\n",
    "def DicUp(LaplPowers, K, S, Y, X, d, N, c, eps, mu = 1):\n",
    "    # Variables\n",
    "    alpha = cp.Variable((K+1, S))\n",
    "\n",
    "    # Define D_s expressions\n",
    "    D_s_list = []\n",
    "    for s in range(S):\n",
    "        D_s = sum(alpha[k, s] * LaplPowers[k,:,:] for k in range(K+1))\n",
    "        D_s_list.append(D_s)\n",
    "\n",
    "    # Objective function\n",
    "    D = cp.hstack(D_s_list)\n",
    "    objective = cp.Minimize(cp.norm(Y - D @ X, 'fro')**2 + mu * cp.norm(alpha, 2)**2)\n",
    "\n",
    "    # Constraints\n",
    "    constraints = []\n",
    "    for s in range(S):\n",
    "        constraints.append(D_s_list[s] >> 0)\n",
    "        constraints.append(D_s_list[s] << c * np.eye(d*N))\n",
    "\n",
    "    sum_D_s = sum(D_s_list)\n",
    "    constraints.append(sum_D_s >> (c - eps) * np.eye(d*N))\n",
    "    constraints.append(sum_D_s << (c + eps) * np.eye(d*N))\n",
    "\n",
    "    # Problem definition and solving\n",
    "    prob = cp.Problem(objective, constraints)\n",
    "    prob.solve(solver=cp.MOSEK,\n",
    "               mosek_params = { 'MSK_IPAR_INTPNT_SOLVE_FORM':   'MSK_SOLVE_PRIMAL' })\n",
    "\n",
    "    alpha_star = alpha.value\n",
    "    D_s_list = []\n",
    "    for s in range(S):\n",
    "        D_s = sum(alpha_star[k, s] * LaplPowers[k,:,:] for k in range(K+1))\n",
    "        D_s_list.append(D_s)\n",
    "\n",
    "    # Objective function\n",
    "    D = np.hstack(D_s_list)\n",
    "    return D, alpha_star"
   ]
  },
  {
   "cell_type": "code",
   "execution_count": 17,
   "metadata": {},
   "outputs": [],
   "source": [
    "# Parametric dictionary learning algorithm \n",
    "\n",
    "def ParametricDictionaryLearning(Lf, Y, T0, K, S, d, N, c, eps, mu = 1, MAX_ITER = 5):\n",
    "\n",
    "    loss = []\n",
    "\n",
    "    # Precompute Laplacian powers\n",
    "    LP = LaplacianPowers(Lf, K)\n",
    "\n",
    "    # Dictionary initialization \n",
    "    D_s_list = []\n",
    "    for _ in range(S):\n",
    "        D_s = sum(LP[k,:,:] for k in range(K+1))\n",
    "        D_s_list.append(D_s)\n",
    "\n",
    "    D = np.hstack(D_s_list)\n",
    "\n",
    "    # Alternated learning procedure\n",
    "    for _ in tqdm(range(MAX_ITER)):\n",
    "        \n",
    "        # Sparse coding update\n",
    "        X = vecOMP(Y.T, D, T0).T\n",
    "\n",
    "        # Dictionary update\n",
    "        D, alpha_star = DicUp(LP, K, S, Y, X, d, N, c, eps, mu)\n",
    "        D = np.apply_along_axis(lambda x: x / np.linalg.norm(x), axis = 0, arr = D)\n",
    "\n",
    "        loss.append(np.linalg.norm(Y - D @ X, ord = 'fro'))\n",
    "        \n",
    "    return D, X, alpha_star, loss"
   ]
  },
  {
   "cell_type": "code",
   "execution_count": 18,
   "metadata": {},
   "outputs": [],
   "source": [
    "def GreedySelection(alpha, edges, d, Lf, maps, K, Y, D, X):\n",
    "    \n",
    "    impros = {edge:None for edge in edges}\n",
    "\n",
    "    for edge in edges:\n",
    "\n",
    "        # Mask the sheaf laplacian assuming that such an edge is removed\n",
    "        L = np.copy(Lf)\n",
    "        u = edge[0]\n",
    "        v = edge[1]\n",
    "\n",
    "        L[u*d:(u+1)*d,v*d:(v+1)*d] = 0\n",
    "        L[v*d:(v+1)*d,u*d:(u+1)*d] = 0\n",
    "\n",
    "        L[u*d:(u+1)*d,u*d:(u+1)*d] -= maps[edge][u].T @ maps[edge][u]\n",
    "        L[v*d:(v+1)*d,v*d:(v+1)*d] -= maps[edge][v].T @ maps[edge][v]\n",
    "\n",
    "        LaplPowers = LaplacianPowers(L, K)\n",
    "\n",
    "        # Compute the retrieved dictionary \n",
    "        D_s_list = []\n",
    "        for s in range(S):\n",
    "            D_s = sum(alpha[k, s] * LaplPowers[k,:,:] for k in range(K+1))\n",
    "            D_s_list.append(D_s)\n",
    "\n",
    "        D_ = np.hstack(D_s_list)\n",
    "\n",
    "        # Store the improvement\n",
    "        impros[edge] = np.linalg.norm(Y - D @ X) - np.linalg.norm(Y - D_ @ X)\n",
    "\n",
    "    return [edge for edge in edges if edge != max(impros, key = impros.get)]"
   ]
  },
  {
   "cell_type": "code",
   "execution_count": 19,
   "metadata": {},
   "outputs": [],
   "source": [
    "def KKTLaplacianUpdate(D, X, d, edges, N, Q, Y = None):\n",
    "       \n",
    "    def premultiplier(Xu, Xv):\n",
    "        uu = np.linalg.inv(Xu @ Xu.T)\n",
    "        uv = Xu @ Xv.T\n",
    "        vv = np.linalg.inv(Xv @ Xv.T)\n",
    "        vu = Xv @ Xu.T\n",
    "\n",
    "        return (uu, uv, vv, vu)\n",
    "\n",
    "    def chi_u(uu, uv, vv, vu):\n",
    "\n",
    "        return (uu @ uv + np.eye(uu.shape[0])) @ vv @ (vu @ uu @ uv @ vv - np.eye(uu.shape[0])) @ vu @ uu - uu\n",
    "\n",
    "    def chi_v(uu, uv, vv, vu):\n",
    "\n",
    "        return (uu @ uv + np.eye(uu.shape[0])) @ vv @ (vu @ uu @ uv @ vv - np.eye(uu.shape[0]))\n",
    "\n",
    "    T = 0\n",
    "    if Y is None:\n",
    "        Y = D @ X\n",
    "        \n",
    "    maps_ = {\n",
    "        edge : {\n",
    "            edge[0] : np.zeros((d,d)),\n",
    "            edge[1] : np.zeros((d,d))\n",
    "        }\n",
    "    for edge in edges\n",
    "    }\n",
    "\n",
    "    for e in edges:\n",
    "        \n",
    "        u = e[0]\n",
    "        v = e[1]\n",
    "\n",
    "        X_u = Y[u*d:(u+1)*d,:]\n",
    "        X_v = Y[v*d:(v+1)*d,:]\n",
    "        \n",
    "        uu, uv, vv, vu = premultiplier(X_u, X_v)\n",
    "\n",
    "        maps_[e][u] = chi_u(uu, uv, vv, vu)\n",
    "        maps_[e][v] = chi_v(uu, uv, vv, vu)\n",
    "        \n",
    "        T += np.trace(maps_[e][u]) + np.trace(maps_[e][v])\n",
    "\n",
    "    maps_ = {\n",
    "        edge : {\n",
    "            edge[0] : Q/T * maps_[edge][edge[0]],\n",
    "            edge[1] : Q/T * maps_[edge][edge[1]]\n",
    "        }\n",
    "    for edge in edges\n",
    "    }\n",
    "\n",
    "    E = len(edges)\n",
    "    B_hat = np.zeros((d*E, d*N))\n",
    "\n",
    "    for i, edge in enumerate(edges):\n",
    "\n",
    "        u = edge[0] \n",
    "        v = edge[1] \n",
    "\n",
    "        B_u = maps_[edge][u]\n",
    "        B_v = maps_[edge][v]\n",
    "\n",
    "        B_hat[i*d:(i+1)*d, u*d:(u+1)*d] = B_u\n",
    "        B_hat[i*d:(i+1)*d, v*d:(v+1)*d] = - B_v\n",
    "\n",
    "    # Sheaf Laplacian\n",
    "\n",
    "    L_f = B_hat.T @ B_hat\n",
    "\n",
    "    return L_f, maps_"
   ]
  },
  {
   "cell_type": "code",
   "execution_count": 20,
   "metadata": {},
   "outputs": [],
   "source": [
    "def MapsSolver(Y, d, edges, N):\n",
    "\n",
    "    obj = 0\n",
    "    trace = 0\n",
    "\n",
    "    Fs = {\n",
    "        edge: {\n",
    "            edge[0]:None,\n",
    "            edge[1]:None\n",
    "        }\n",
    "        for edge in edges\n",
    "    }\n",
    "\n",
    "    # Loop over edges to define variables and construct objective\n",
    "    for edge in edges:\n",
    "        u = edge[0]\n",
    "        v = edge[1]\n",
    "\n",
    "        Y_u = Y[u*d:(u+1)*d, :]\n",
    "        Y_v = Y[v*d:(v+1)*d, :]\n",
    "\n",
    "        # Define optimization variables for each edge\n",
    "        Fs[edge][u] = cp.Variable((d, d))\n",
    "        Fs[edge][v] = cp.Variable((d, d))\n",
    "\n",
    "        # Update objective and trace\n",
    "        obj += cp.norm(Fs[edge][u] @ Y_u - Fs[edge][v] @ Y_v, 'fro')**2\n",
    "        trace += cp.trace(Fs[edge][u]) + cp.trace(Fs[edge][v])\n",
    "\n",
    "    # Define the trace constraint\n",
    "    trace_constraint = (trace == N)\n",
    "\n",
    "    # Define the problem\n",
    "    problem = cp.Problem(cp.Minimize(obj), [trace_constraint])\n",
    "\n",
    "    # Solve the problem\n",
    "    problem.solve(solver=cp.MOSEK,\n",
    "                  mosek_params = { 'MSK_IPAR_INTPNT_SOLVE_FORM':   'MSK_SOLVE_PRIMAL' })\n",
    "\n",
    "    # Return the solution\n",
    "    return Fs\n",
    "\n",
    "def ImplicitLaplacianUpdate(D, X, d, edges, N, Q, Y = None):    \n",
    "    T = 0\n",
    "    if Y is None:\n",
    "        Y = D @ X\n",
    "\n",
    "    maps_ = MapsSolver(Y, d, edges, Q)\n",
    "\n",
    "    for edge in edges:\n",
    "        T += np.trace(maps_[edge][edge[0]].value) + np.trace(maps_[edge][edge[1]].value)\n",
    "\n",
    "    maps = {\n",
    "        edge: {\n",
    "            edge[0] : Q/T * maps_[edge][edge[0]].value,\n",
    "            edge[1] : Q/T * maps_[edge][edge[1]].value\n",
    "        }\n",
    "        for edge in edges\n",
    "    }\n",
    "\n",
    "    Lf = np.zeros((d*N, d*N))\n",
    "    for edge in edges:\n",
    "\n",
    "        u = edge[0] \n",
    "        v = edge[1] \n",
    "\n",
    "        Lf[u*d:(u+1)*d,u*d:(u+1)*d] += maps[edge][u].T @ maps[edge][u]\n",
    "        Lf[v*d:(v+1)*d,v*d:(v+1)*d] += maps[edge][v].T @ maps[edge][v]\n",
    "        Lf[u*d:(u+1)*d,v*d:(v+1)*d] = - maps[edge][u].T @ maps[edge][v]\n",
    "        Lf[v*d:(v+1)*d,u*d:(u+1)*d] = - maps[edge][v].T @ maps[edge][u]\n",
    "\n",
    "    return Lf, maps\n"
   ]
  },
  {
   "cell_type": "code",
   "execution_count": 21,
   "metadata": {},
   "outputs": [],
   "source": [
    "def LaplacianLearningPipeline(\n",
    "        Y, \n",
    "        E0,\n",
    "        T0, \n",
    "        K, \n",
    "        S, \n",
    "        d, \n",
    "        N, \n",
    "        c, \n",
    "        eps, \n",
    "        Q = 1,\n",
    "        mu = 1, \n",
    "        MAX_ITER = 10,\n",
    "        KKT = False):\n",
    "    \n",
    "    # Initialization - Full graph with Gaussian random maps\n",
    "\n",
    "    edges = list(combinations(range(N),2))\n",
    "\n",
    "    '''\n",
    "    maps = {\n",
    "    edge: {\n",
    "        edge[0]:None,\n",
    "        edge[1]:None\n",
    "    } for edge in edges\n",
    "    }\n",
    "\n",
    "    B = np.zeros((d*len(edges), d*N))                        \n",
    "\n",
    "    for i in range(len(edges)):\n",
    "\n",
    "        # Main loop to populate the coboundary map\n",
    "        edge = edges[i]\n",
    "\n",
    "        u = edge[0] \n",
    "        v = edge[1] \n",
    "\n",
    "        B_u = np.random.randn(d,d)\n",
    "        B_v = np.random.randn(d,d)\n",
    "\n",
    "        maps[edge][u] = B_u\n",
    "        maps[edge][v] = B_v\n",
    "\n",
    "        B[i*d:(i+1)*d, u*d:(u+1)*d] = B_u           \n",
    "        B[i*d:(i+1)*d, v*d:(v+1)*d] = - B_v\n",
    "    Lf = B.T @ B\n",
    "    '''\n",
    "\n",
    "    if KKT:\n",
    "        Lf, maps = KKTLaplacianUpdate(None, None, d, edges, N, Q, Y)\n",
    "    else:\n",
    "        Lf, maps = ImplicitLaplacianUpdate(None, None, d, edges, N, Q, Y)\n",
    "\n",
    "    Lf = fractional_matrix_power(np.diag(np.diagonal(Lf)), -0.5) @ Lf @ fractional_matrix_power(np.diag(np.diagonal(Lf)), -0.5)\n",
    "\n",
    "    # Main loop - First try with a priori knowledge of the number of connections\n",
    "    loss = []\n",
    "\n",
    "    while len(edges) > E0:\n",
    "        \n",
    "        # Dictionary learning phase\n",
    "        D, X, alpha, loss_ = ParametricDictionaryLearning(Lf, Y, T0, K, S, d, N, c, eps, mu, MAX_ITER)\n",
    "        loss += loss_\n",
    "\n",
    "        # Greedy deleting one edge from the graph\n",
    "        edges = GreedySelection(alpha, edges, d, Lf, maps, K, Y, D, X)\n",
    "\n",
    "        # Rebuilding the sheaf laplacian on the new graph\n",
    "        if KKT:\n",
    "            Lf, maps = KKTLaplacianUpdate(D, X, d, edges, N, Q)\n",
    "        else:\n",
    "            Lf, maps = ImplicitLaplacianUpdate(D, X, d, edges, N, Q)\n",
    "\n",
    "        Lf = fractional_matrix_power(np.diag(np.diagonal(Lf)), -0.5) @ Lf @ fractional_matrix_power(np.diag(np.diagonal(Lf)), -0.5)\n",
    "        \n",
    "    return Lf, edges, loss, maps, D, X "
   ]
  },
  {
   "cell_type": "code",
   "execution_count": 22,
   "metadata": {},
   "outputs": [
    {
     "name": "stdout",
     "output_type": "stream",
     "text": [
      "19\n"
     ]
    }
   ],
   "source": [
    "E0 = len(edges)\n",
    "print(E0)"
   ]
  },
  {
   "cell_type": "code",
   "execution_count": 23,
   "metadata": {},
   "outputs": [
    {
     "name": "stderr",
     "output_type": "stream",
     "text": [
      "100%|██████████| 5/5 [00:47<00:00,  9.49s/it]\n",
      "100%|██████████| 5/5 [00:46<00:00,  9.28s/it]\n",
      "100%|██████████| 5/5 [00:46<00:00,  9.25s/it]\n",
      "100%|██████████| 5/5 [00:49<00:00,  9.88s/it]\n",
      "100%|██████████| 5/5 [00:52<00:00, 10.55s/it]\n",
      "100%|██████████| 5/5 [00:51<00:00, 10.38s/it]\n",
      "100%|██████████| 5/5 [00:51<00:00, 10.33s/it]\n",
      "100%|██████████| 5/5 [00:44<00:00,  8.93s/it]\n",
      "100%|██████████| 5/5 [00:44<00:00,  8.98s/it]\n",
      "100%|██████████| 5/5 [00:45<00:00,  9.01s/it]\n",
      "100%|██████████| 5/5 [00:44<00:00,  8.86s/it]\n",
      "100%|██████████| 5/5 [00:45<00:00,  9.04s/it]\n",
      "100%|██████████| 5/5 [00:44<00:00,  8.96s/it]\n",
      "100%|██████████| 5/5 [00:45<00:00,  9.09s/it]\n",
      "100%|██████████| 5/5 [00:44<00:00,  8.97s/it]\n",
      "100%|██████████| 5/5 [00:46<00:00,  9.23s/it]\n",
      "100%|██████████| 5/5 [00:44<00:00,  9.00s/it]\n",
      "100%|██████████| 5/5 [00:46<00:00,  9.25s/it]\n",
      "100%|██████████| 5/5 [00:45<00:00,  9.16s/it]\n",
      "100%|██████████| 5/5 [00:44<00:00,  8.98s/it]\n",
      "100%|██████████| 5/5 [00:44<00:00,  8.93s/it]\n",
      "100%|██████████| 5/5 [00:45<00:00,  9.16s/it]\n",
      "100%|██████████| 5/5 [00:44<00:00,  8.92s/it]\n",
      "100%|██████████| 5/5 [00:46<00:00,  9.26s/it]\n",
      "100%|██████████| 5/5 [00:46<00:00,  9.21s/it]\n",
      "100%|██████████| 5/5 [00:46<00:00,  9.26s/it]\n"
     ]
    }
   ],
   "source": [
    "L_hat, edges_, loss, maps, D, X = LaplacianLearningPipeline(Y_train, E0, T0, K, S, d, N, c, eps, MAX_ITER=5)"
   ]
  },
  {
   "cell_type": "code",
   "execution_count": 24,
   "metadata": {},
   "outputs": [
    {
     "data": {
      "text/plain": [
       "[<matplotlib.lines.Line2D at 0x1cc41cc4220>]"
      ]
     },
     "execution_count": 24,
     "metadata": {},
     "output_type": "execute_result"
    },
    {
     "data": {
      "image/png": "[encoded data removed]",
      "text/plain": [
       "<Figure size 640x480 with 1 Axes>"
      ]
     },
     "metadata": {},
     "output_type": "display_data"
    }
   ],
   "source": [
    "plt.plot([L / Y_train.shape[1] for L in loss])"
   ]
  },
  {
   "cell_type": "code",
   "execution_count": 25,
   "metadata": {},
   "outputs": [
    {
     "data": {
      "text/plain": [
       "array([[ 1.        , -0.61424513, -0.71923502, ..., -0.09899134,\n",
       "        -0.05731279,  0.00780764],\n",
       "       [-0.61424513,  1.        ,  0.64785059, ...,  0.02216975,\n",
       "        -0.03352373, -0.05850861],\n",
       "       [-0.71923502,  0.64785059,  1.        , ...,  0.00768402,\n",
       "        -0.00660584, -0.06945727],\n",
       "       ...,\n",
       "       [-0.09899134,  0.02216975,  0.00768402, ...,  1.        ,\n",
       "        -0.06111332, -0.3512898 ],\n",
       "       [-0.05731279, -0.03352373, -0.00660584, ..., -0.06111332,\n",
       "         1.        ,  0.46907552],\n",
       "       [ 0.00780764, -0.05850861, -0.06945727, ..., -0.3512898 ,\n",
       "         0.46907552,  1.        ]])"
      ]
     },
     "execution_count": 25,
     "metadata": {},
     "output_type": "execute_result"
    }
   ],
   "source": [
    "L_hat"
   ]
  },
  {
   "cell_type": "code",
   "execution_count": 26,
   "metadata": {},
   "outputs": [],
   "source": [
    "EDG = set(edges)\n",
    "EDG_HAT = set(edges_)"
   ]
  },
  {
   "cell_type": "code",
   "execution_count": 27,
   "metadata": {},
   "outputs": [
    {
     "data": {
      "text/plain": [
       "0.8947368421052632"
      ]
     },
     "execution_count": 27,
     "metadata": {},
     "output_type": "execute_result"
    }
   ],
   "source": [
    "len(EDG.intersection(EDG_HAT))/E0"
   ]
  },
  {
   "cell_type": "code",
   "execution_count": 28,
   "metadata": {},
   "outputs": [
    {
     "data": {
      "text/plain": [
       "106.87401459455732"
      ]
     },
     "execution_count": 28,
     "metadata": {},
     "output_type": "execute_result"
    }
   ],
   "source": [
    "np.trace(Y_train.T @ Lf @ Y_train)"
   ]
  },
  {
   "cell_type": "code",
   "execution_count": 29,
   "metadata": {},
   "outputs": [
    {
     "data": {
      "text/plain": [
       "45.207519273983074"
      ]
     },
     "execution_count": 29,
     "metadata": {},
     "output_type": "execute_result"
    }
   ],
   "source": [
    "np.trace(Y_train.T @ L_hat @ Y_train)"
   ]
  },
  {
   "cell_type": "markdown",
   "metadata": {},
   "source": [
    "Best result so far!"
   ]
  }
 ],
 "metadata": {
  "kernelspec": {
   "display_name": "Python 3",
   "language": "python",
   "name": "python3"
  },
  "language_info": {
   "codemirror_mode": {
    "name": "ipython",
    "version": 3
   },
   "file_extension": ".py",
   "mimetype": "text/x-python",
   "name": "python",
   "nbconvert_exporter": "python",
   "pygments_lexer": "ipython3",
   "version": "3.10.7"
  }
 },
 "nbformat": 4,
 "nbformat_minor": 2
}
