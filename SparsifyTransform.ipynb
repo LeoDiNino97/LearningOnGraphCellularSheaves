{
 "cells": [
  {
   "cell_type": "code",
   "execution_count": 1,
   "metadata": {},
   "outputs": [],
   "source": [
    "import numpy as np\n",
    "import cvxpy as cp\n",
    "from matplotlib import pyplot as plt\n",
    "\n",
    "from tqdm import tqdm\n",
    "from itertools import combinations\n",
    "\n",
    "import warnings\n",
    "warnings.filterwarnings(\"ignore\")"
   ]
  },
  {
   "cell_type": "code",
   "execution_count": 2,
   "metadata": {},
   "outputs": [],
   "source": [
    "N = 10\n",
    "edges = []\n",
    "\n",
    "cutoff = 0.5\n",
    "theta = 0.9\n",
    "\n",
    "points = np.random.rand(N, 2)\n",
    "\n",
    "A = np.zeros((N,N))\n",
    "W = np.zeros((N,N))\n",
    "\n",
    "for i in range(N):\n",
    "    for j in range(i+1, N):\n",
    "        \n",
    "        A[i,j] = np.linalg.norm(points[i,:] - points[j,:]) <= cutoff\n",
    "        A[j,i] = np.linalg.norm(points[i,:] - points[j,:]) <= cutoff\n",
    "\n",
    "        if A[i,j] == 1:\n",
    "            edges.append((i,j))"
   ]
  },
  {
   "cell_type": "code",
   "execution_count": 3,
   "metadata": {},
   "outputs": [],
   "source": [
    "def random_sheaf(\n",
    "        V:int,\n",
    "        d:int,\n",
    "        edges:list\n",
    "        ) -> np.array:\n",
    "\n",
    "    E = len(edges)\n",
    "\n",
    "    # Incidency linear maps\n",
    "\n",
    "    F = {\n",
    "        e:{\n",
    "            e[0]:np.random.randn(d,d),\n",
    "            e[1]:np.random.randn(d,d)\n",
    "            } \n",
    "            for e in edges\n",
    "        }                                           \n",
    "\n",
    "    # Coboundary maps\n",
    "\n",
    "    B = np.zeros((d*E, d*V))                        \n",
    "\n",
    "    for i in range(len(edges)):\n",
    "\n",
    "        # Main loop to populate the coboundary map\n",
    "\n",
    "        edge = edges[i]\n",
    "\n",
    "        u = edge[0] \n",
    "        v = edge[1] \n",
    "\n",
    "        B_u = F[edge][u]\n",
    "        B_v = F[edge][v]\n",
    "\n",
    "        B[i*d:(i+1)*d, u*d:(u+1)*d] = B_u           \n",
    "        B[i*d:(i+1)*d, v*d:(v+1)*d] = - B_v\n",
    "\n",
    "    L_f = B.T @ B\n",
    "\n",
    "    return L_f"
   ]
  },
  {
   "cell_type": "code",
   "execution_count": 4,
   "metadata": {},
   "outputs": [],
   "source": [
    "d = 10\n",
    "Lf = random_sheaf(N, d, edges)"
   ]
  },
  {
   "cell_type": "code",
   "execution_count": 5,
   "metadata": {},
   "outputs": [],
   "source": [
    "D = np.diag(np.diagonal(Lf))"
   ]
  },
  {
   "cell_type": "code",
   "execution_count": 6,
   "metadata": {},
   "outputs": [],
   "source": [
    "#Lf = fractional_matrix_power(D, -0.5) @ Lf @ fractional_matrix_power(D, -0.5)"
   ]
  },
  {
   "cell_type": "code",
   "execution_count": 6,
   "metadata": {},
   "outputs": [],
   "source": [
    "# Data generation \n",
    "np.random.seed(42)\n",
    "M = 1000\n",
    "X = np.random.randn(N*d,M)\n",
    "\n",
    "# Tikhonov inspired filtering\n",
    "\n",
    "Lambda, U = np.linalg.eig(Lf)\n",
    "H = 1/(1 + 10*Lambda)\n",
    "\n",
    "# Filter the signal accordingly to the true sheaf laplacian\n",
    "\n",
    "Y = U @ np.diag(H) @ U.T @ X\n",
    "\n",
    "# Normalize data\n",
    "Y = np.apply_along_axis(lambda d: d/np.linalg.norm(d), axis=0, arr=Y)\n",
    "\n",
    "# Add noise\n",
    "Y += np.random.normal(0, 10e-2, size=Y.shape)\n",
    "\n",
    "# Remap the signals back on each node\n",
    "\n",
    "signals = {\n",
    "    node: Y[node*d:(node + 1)*d,:]\n",
    "    for node in range(N)\n",
    "    }"
   ]
  },
  {
   "cell_type": "code",
   "execution_count": 8,
   "metadata": {},
   "outputs": [
    {
     "data": {
      "text/plain": [
       "'\\ndef groupOMP(Y, D, K):\\n    \\n    S = []  # List to store selected atom indices\\n    X = np.zeros((D.shape[1], Y.shape[1]))  # Coefficient matrix\\n    R = Y  # Residual matrix\\n    iters = 0\\n\\n    while iters < K:\\n        # Step 1: Select the atom with the maximum correlation\\n        correlations = np.linalg.norm(D.T @ R, axis=1)\\n        selected_atom = np.argmax(correlations)\\n        S.append(selected_atom)\\n\\n        # Step 2: Extract the dictionary subset for the selected atoms\\n        dic = D[:, S]\\n\\n        # Step 3: Solve the least squares problem for the coefficients\\n        X_subset = np.linalg.pinv(dic) @ Y\\n\\n        # Step 4: Update the coefficients in X\\n        X[S, :] = X_subset  # Update only the rows corresponding to S\\n\\n        # Step 5: Update the residuals\\n        R = Y - D @ X\\n\\n        iters += 1\\n\\n    return X\\n'"
      ]
     },
     "execution_count": 8,
     "metadata": {},
     "output_type": "execute_result"
    }
   ],
   "source": [
    "'''\n",
    "def groupOMP(Y, D, K):\n",
    "    \n",
    "    S = []  # List to store selected atom indices\n",
    "    X = np.zeros((D.shape[1], Y.shape[1]))  # Coefficient matrix\n",
    "    R = Y  # Residual matrix\n",
    "    iters = 0\n",
    "\n",
    "    while iters < K:\n",
    "        # Step 1: Select the atom with the maximum correlation\n",
    "        correlations = np.linalg.norm(D.T @ R, axis=1)\n",
    "        selected_atom = np.argmax(correlations)\n",
    "        S.append(selected_atom)\n",
    "\n",
    "        # Step 2: Extract the dictionary subset for the selected atoms\n",
    "        dic = D[:, S]\n",
    "\n",
    "        # Step 3: Solve the least squares problem for the coefficients\n",
    "        X_subset = np.linalg.pinv(dic) @ Y\n",
    "\n",
    "        # Step 4: Update the coefficients in X\n",
    "        X[S, :] = X_subset  # Update only the rows corresponding to S\n",
    "\n",
    "        # Step 5: Update the residuals\n",
    "        R = Y - D @ X\n",
    "\n",
    "        iters += 1\n",
    "\n",
    "    return X\n",
    "'''"
   ]
  },
  {
   "cell_type": "code",
   "execution_count": 7,
   "metadata": {},
   "outputs": [],
   "source": [
    "def ADMM_GroGlobLocSparseCoder(Y, U, V, d, mu, Lambda, rho, MAXITER = 100):\n",
    "\n",
    "    def prox21(X, \n",
    "           gamma):\n",
    "    \n",
    "        def prox21_col(x,\n",
    "                    gamma):\n",
    "            return ( 1 - gamma / (np.max([np.linalg.norm(x), gamma])) ) * x\n",
    "    \n",
    "        return np.apply_along_axis(prox21_col, axis = 1, arr = X, gamma = gamma)\n",
    "    \n",
    "    # Variable initialization\n",
    "    S = np.random.randn(U.shape[1], Y.shape[1])\n",
    "    Z = np.random.randn(U.shape[1], Y.shape[1])\n",
    "    M = np.random.randn(U.shape[1], Y.shape[1])\n",
    "\n",
    "    # Precomputations \n",
    "    Phi = U.T\n",
    "    Theta = U.T @ U + rho * np.eye(U.shape[1])\n",
    "\n",
    "    for v in range(V):\n",
    "\n",
    "        Pv = np.zeros((d, U.shape[0]))\n",
    "\n",
    "        for j in range(d):\n",
    "            Pv[j, v*d + j] = 1\n",
    "\n",
    "        Phi += mu[v] * U.T @ Pv.T @ Pv\n",
    "        Theta += mu[v] * U.T @ Pv.T @ Pv @ U\n",
    "    \n",
    "    Theta = np.linalg.inv(Theta)\n",
    "\n",
    "    # Main loop\n",
    "    for _ in range(MAXITER):\n",
    "        S = Theta @ (Phi @ X + rho*(Z - M))\n",
    "        Z = prox21(S + M, Lambda/rho)\n",
    "        M = M + (S - Z)\n",
    "\n",
    "    return S"
   ]
  },
  {
   "cell_type": "code",
   "execution_count": 8,
   "metadata": {},
   "outputs": [],
   "source": [
    "def GreedySelection(edges, nodes, d, maps, D, X):\n",
    "    \n",
    "    energies = {}\n",
    "    Y_hat = D @ X\n",
    "    signals = {node: Y_hat[node*d : (node+1)*d, :] for node in nodes}\n",
    "\n",
    "    for edge in edges:\n",
    "\n",
    "        u = edge[0]\n",
    "        v = edge[1]\n",
    "\n",
    "        energies[edge] = np.linalg.norm(maps[edge][u] @ signals[u] - maps[edge][v] @ signals[v])\n",
    "\n",
    "    return [edge for edge in edges if edge != max(energies, key = energies.get)]"
   ]
  },
  {
   "cell_type": "code",
   "execution_count": 9,
   "metadata": {},
   "outputs": [],
   "source": [
    "def KKTLaplacianUpdate(D, X, d, edges, N, Q, Y = None):\n",
    "       \n",
    "    def premultiplier(Xu, Xv):\n",
    "        uu = np.linalg.pinv(Xu @ Xu.T)\n",
    "        uv = Xu @ Xv.T\n",
    "        vv = Xv @ Xv.T\n",
    "        vu = Xv @ Xu.T\n",
    "\n",
    "        return (uu, uv, vv, vu)\n",
    "\n",
    "    def chi_u(uu, uv, vv, vu):\n",
    "\n",
    "        return (uu @ uv + np.eye(uu.shape[0])) @ (np.linalg.pinv(vu @ uu @ uv - vv) @ vu - np.eye(uu.shape[0])) @ uu \n",
    "\n",
    "    def chi_v(uu, uv, vv, vu):\n",
    "\n",
    "        return (uu @ uv + np.eye(uu.shape[0])) @ (np.linalg.pinv(vu @ uu @ uv - vv) @ vu)\n",
    "\n",
    "    T = 0\n",
    "    if Y is None:\n",
    "        Y = D @ X\n",
    "        \n",
    "    maps_ = {\n",
    "        edge : {\n",
    "            edge[0] : np.zeros((d,d)),\n",
    "            edge[1] : np.zeros((d,d))\n",
    "        }\n",
    "    for edge in edges\n",
    "    }\n",
    "\n",
    "    for e in edges:\n",
    "        \n",
    "        u = e[0]\n",
    "        v = e[1]\n",
    "\n",
    "        X_u = Y[u*d:(u+1)*d,:]\n",
    "        X_v = Y[v*d:(v+1)*d,:]\n",
    "        \n",
    "        uu, uv, vv, vu = premultiplier(X_u, X_v)\n",
    "\n",
    "        maps_[e][u] = chi_u(uu, uv, vv, vu)\n",
    "        maps_[e][v] = chi_v(uu, uv, vv, vu)\n",
    "        \n",
    "        T += np.trace(maps_[e][u]) + np.trace(maps_[e][v])\n",
    "\n",
    "    maps_ = {\n",
    "        edge : {\n",
    "            edge[0] : Q/T * maps_[edge][edge[0]],\n",
    "            edge[1] : Q/T * maps_[edge][edge[1]]\n",
    "        }\n",
    "    for edge in edges\n",
    "    }\n",
    "\n",
    "    E = len(edges)\n",
    "    B_hat = np.zeros((d*E, d*N))\n",
    "\n",
    "    for i, edge in enumerate(edges):\n",
    "\n",
    "        u = edge[0] \n",
    "        v = edge[1] \n",
    "\n",
    "        B_u = maps_[edge][u]\n",
    "        B_v = maps_[edge][v]\n",
    "\n",
    "        B_hat[i*d:(i+1)*d, u*d:(u+1)*d] = B_u\n",
    "        B_hat[i*d:(i+1)*d, v*d:(v+1)*d] = - B_v\n",
    "\n",
    "    # Sheaf Laplacian\n",
    "\n",
    "    L_f = B_hat.T @ B_hat\n",
    "\n",
    "    return L_f, maps_"
   ]
  },
  {
   "cell_type": "code",
   "execution_count": 10,
   "metadata": {},
   "outputs": [],
   "source": [
    "def MapsSolver(Y, d, edges, N):\n",
    "\n",
    "    obj = 0\n",
    "    trace = 0\n",
    "\n",
    "    Fs = {\n",
    "        edge: {\n",
    "            edge[0]:None,\n",
    "            edge[1]:None\n",
    "        }\n",
    "        for edge in edges\n",
    "    }\n",
    "\n",
    "    # Loop over edges to define variables and construct objective\n",
    "    for edge in edges:\n",
    "        u = edge[0]\n",
    "        v = edge[1]\n",
    "\n",
    "        Y_u = Y[u*d:(u+1)*d, :]\n",
    "        Y_v = Y[v*d:(v+1)*d, :]\n",
    "\n",
    "        # Define optimization variables for each edge\n",
    "        Fs[edge][u] = cp.Variable((d, d))\n",
    "        Fs[edge][v] = cp.Variable((d, d))\n",
    "\n",
    "        # Update objective and trace\n",
    "        obj += cp.norm(Fs[edge][u] @ Y_u - Fs[edge][v] @ Y_v, 'fro')**2\n",
    "        trace += cp.trace(Fs[edge][u]) + cp.trace(Fs[edge][v])\n",
    "\n",
    "    # Define the trace constraint\n",
    "    trace_constraint = (trace == N)\n",
    "\n",
    "    # Define the problem\n",
    "    problem = cp.Problem(cp.Minimize(obj), [trace_constraint])\n",
    "\n",
    "    # Solve the problem\n",
    "    problem.solve(solver=cp.MOSEK,\n",
    "                  mosek_params = { 'MSK_IPAR_INTPNT_SOLVE_FORM':   'MSK_SOLVE_PRIMAL' })\n",
    "\n",
    "    # Return the solution\n",
    "    return Fs\n",
    "\n",
    "def ImplicitLaplacianUpdate(D, X, d, edges, N, Q, Y = None):    \n",
    "    T = 0\n",
    "    if Y is None:\n",
    "        Y = D @ X\n",
    "\n",
    "    maps_ = MapsSolver(Y, d, edges, Q)\n",
    "\n",
    "    for edge in edges:\n",
    "        T += np.trace(maps_[edge][edge[0]].value) + np.trace(maps_[edge][edge[1]].value)\n",
    "\n",
    "    maps = {\n",
    "        edge: {\n",
    "            edge[0] : Q/T * maps_[edge][edge[0]].value,\n",
    "            edge[1] : Q/T * maps_[edge][edge[1]].value\n",
    "        }\n",
    "        for edge in edges\n",
    "    }\n",
    "\n",
    "    Lf = np.zeros((d*N, d*N))\n",
    "    \n",
    "    for edge in edges:\n",
    "\n",
    "        u = edge[0] \n",
    "        v = edge[1] \n",
    "\n",
    "        Lf[u*d:(u+1)*d,u*d:(u+1)*d] += maps[edge][u].T @ maps[edge][u]\n",
    "        Lf[v*d:(v+1)*d,v*d:(v+1)*d] += maps[edge][v].T @ maps[edge][v]\n",
    "        Lf[u*d:(u+1)*d,v*d:(v+1)*d] = - maps[edge][u].T @ maps[edge][v]\n",
    "        Lf[v*d:(v+1)*d,u*d:(u+1)*d] = - maps[edge][v].T @ maps[edge][u]\n",
    "\n",
    "    return Lf, maps\n"
   ]
  },
  {
   "cell_type": "code",
   "execution_count": 11,
   "metadata": {},
   "outputs": [],
   "source": [
    "def LaplacianLearningPipeline(\n",
    "        Y, \n",
    "        E0,\n",
    "        K, \n",
    "        d, \n",
    "        N, \n",
    "        Q = 1e2,\n",
    "        KKT = False):\n",
    "    \n",
    "    # Initialization - Full graph with Gaussian random maps\n",
    "\n",
    "    edges = list(combinations(range(N),2))\n",
    "\n",
    "    if KKT:\n",
    "        Lf, maps = KKTLaplacianUpdate(None, None, d, edges, N, Q, Y)\n",
    "    else:\n",
    "        Lf, maps = ImplicitLaplacianUpdate(None, None, d, edges, N, Q, Y)\n",
    "\n",
    "    #Lf = fractional_matrix_power(np.diag(np.diagonal(Lf)), -0.5) @ Lf @ fractional_matrix_power(np.diag(np.diagonal(Lf)), -0.5)\n",
    "\n",
    "    # Main loop - First try with a priori knowledge of the number of connections\n",
    "    loss = []\n",
    "\n",
    "    while len(edges) > E0:\n",
    "        print('Removing one edge...')\n",
    "        _, U = np.linalg.eig(Lf)\n",
    "        X = ADMM_GroGlobLocSparseCoder(Y, U, N, d, np.ones(N), 0.0075, 1)\n",
    "        \n",
    "        # Greedy deleting one edge from the graph\n",
    "        edges = GreedySelection(edges, range(N), d, maps, U, X)\n",
    "\n",
    "        # Rebuilding the sheaf laplacian on the new graph\n",
    "        if KKT:\n",
    "            Lf, maps = KKTLaplacianUpdate(U, X, d, edges, N, Q)\n",
    "        else:\n",
    "            Lf, maps = ImplicitLaplacianUpdate(U, X, d, edges, N, Q)\n",
    "\n",
    "        #Lf = fractional_matrix_power(np.diag(np.diagonal(Lf)), -0.5) @ Lf @ fractional_matrix_power(np.diag(np.diagonal(Lf)), -0.5)\n",
    "        loss.append(np.trace(Y.T @ Lf @ Y))\n",
    "        \n",
    "    return Lf, edges, loss, maps, D, X "
   ]
  },
  {
   "cell_type": "code",
   "execution_count": 12,
   "metadata": {},
   "outputs": [
    {
     "name": "stdout",
     "output_type": "stream",
     "text": [
      "17\n"
     ]
    }
   ],
   "source": [
    "E0 = len(edges)\n",
    "print(E0)"
   ]
  },
  {
   "cell_type": "code",
   "execution_count": 24,
   "metadata": {},
   "outputs": [
    {
     "name": "stdout",
     "output_type": "stream",
     "text": [
      "Removing one edge...\n",
      "Removing one edge...\n",
      "Removing one edge...\n",
      "Removing one edge...\n",
      "Removing one edge...\n",
      "Removing one edge...\n",
      "Removing one edge...\n",
      "Removing one edge...\n",
      "Removing one edge...\n",
      "Removing one edge...\n",
      "Removing one edge...\n",
      "Removing one edge...\n",
      "Removing one edge...\n",
      "Removing one edge...\n",
      "Removing one edge...\n",
      "Removing one edge...\n",
      "Removing one edge...\n",
      "Removing one edge...\n",
      "Removing one edge...\n",
      "Removing one edge...\n",
      "Removing one edge...\n",
      "Removing one edge...\n",
      "Removing one edge...\n",
      "Removing one edge...\n",
      "Removing one edge...\n",
      "Removing one edge...\n",
      "Removing one edge...\n",
      "Removing one edge...\n"
     ]
    }
   ],
   "source": [
    "L_hat, edges_, loss, maps, D, X = LaplacianLearningPipeline(Y, E0, 100, d, N, KKT = False)"
   ]
  },
  {
   "cell_type": "code",
   "execution_count": 14,
   "metadata": {},
   "outputs": [
    {
     "data": {
      "text/plain": [
       "(100, 1000)"
      ]
     },
     "execution_count": 14,
     "metadata": {},
     "output_type": "execute_result"
    }
   ],
   "source": [
    "X.shape"
   ]
  },
  {
   "cell_type": "code",
   "execution_count": 25,
   "metadata": {},
   "outputs": [
    {
     "data": {
      "text/plain": [
       "[<matplotlib.lines.Line2D at 0x2b4df3208b0>]"
      ]
     },
     "execution_count": 25,
     "metadata": {},
     "output_type": "execute_result"
    },
    {
     "data": {
      "image/png": "[encoded data removed]",
      "text/plain": [
       "<Figure size 640x480 with 1 Axes>"
      ]
     },
     "metadata": {},
     "output_type": "display_data"
    }
   ],
   "source": [
    "plt.plot(loss)"
   ]
  },
  {
   "cell_type": "code",
   "execution_count": 26,
   "metadata": {},
   "outputs": [],
   "source": [
    "EDG = set(edges)\n",
    "EDG_HAT = set(edges_)"
   ]
  },
  {
   "cell_type": "code",
   "execution_count": 27,
   "metadata": {},
   "outputs": [
    {
     "data": {
      "text/plain": [
       "0.29411764705882354"
      ]
     },
     "execution_count": 27,
     "metadata": {},
     "output_type": "execute_result"
    }
   ],
   "source": [
    "len(EDG.intersection(EDG_HAT))/E0"
   ]
  },
  {
   "cell_type": "code",
   "execution_count": 28,
   "metadata": {},
   "outputs": [
    {
     "data": {
      "text/plain": [
       "38303.13399615786"
      ]
     },
     "execution_count": 28,
     "metadata": {},
     "output_type": "execute_result"
    }
   ],
   "source": [
    "np.trace(Y.T @ Lf @ Y)"
   ]
  },
  {
   "cell_type": "code",
   "execution_count": 29,
   "metadata": {},
   "outputs": [
    {
     "data": {
      "text/plain": [
       "626.5145364590737"
      ]
     },
     "execution_count": 29,
     "metadata": {},
     "output_type": "execute_result"
    }
   ],
   "source": [
    "np.trace(Y.T @ L_hat @ Y)"
   ]
  },
  {
   "cell_type": "code",
   "execution_count": 30,
   "metadata": {},
   "outputs": [
    {
     "data": {
      "text/plain": [
       "3.7827237832050695"
      ]
     },
     "execution_count": 30,
     "metadata": {},
     "output_type": "execute_result"
    }
   ],
   "source": [
    "np.linalg.norm(L_hat)"
   ]
  },
  {
   "cell_type": "markdown",
   "metadata": {},
   "source": [
    "Best result so far!"
   ]
  }
 ],
 "metadata": {
  "kernelspec": {
   "display_name": "Python 3",
   "language": "python",
   "name": "python3"
  },
  "language_info": {
   "codemirror_mode": {
    "name": "ipython",
    "version": 3
   },
   "file_extension": ".py",
   "mimetype": "text/x-python",
   "name": "python",
   "nbconvert_exporter": "python",
   "pygments_lexer": "ipython3",
   "version": "3.10.7"
  }
 },
 "nbformat": 4,
 "nbformat_minor": 2
}
