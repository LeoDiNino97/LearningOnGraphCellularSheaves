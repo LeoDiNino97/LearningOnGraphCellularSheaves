{
 "cells": [
  {
   "cell_type": "markdown",
   "metadata": {},
   "source": [
    "### Generating a toy-case topology"
   ]
  },
  {
   "cell_type": "code",
   "execution_count": 1,
   "metadata": {},
   "outputs": [],
   "source": [
    "import numpy as np \n",
    "import cvxpy as cp\n",
    "\n",
    "from itertools import combinations\n",
    "from tqdm import tqdm"
   ]
  },
  {
   "cell_type": "code",
   "execution_count": 2,
   "metadata": {},
   "outputs": [],
   "source": [
    "# Let's generate a toy topology for our example\n",
    "\n",
    "nodes = [i for i in range(7)]\n",
    "edges = [\n",
    "    (0,1),\n",
    "    (0,3),\n",
    "    (0,6),\n",
    "    (1,2),\n",
    "    (1,5),\n",
    "    (2,4),\n",
    "    (4,6),\n",
    "    (5,6)\n",
    "]\n",
    "\n",
    "V = 7\n",
    "E = len(edges)\n",
    "\n",
    "d = 3                                           # Node and edges stalks dimension\n",
    "\n",
    "F = {\n",
    "    e:{\n",
    "        e[0]:np.random.randn(d,d),\n",
    "        e[1]:np.random.randn(d,d)\n",
    "        } \n",
    "        for e in edges\n",
    "    }                                           # Incidency linear maps\n",
    "\n",
    "# Sheaf representation \n",
    "\n",
    "# Coboundary map\n",
    "\n",
    "B = np.zeros((d*E, d*V))\n",
    "\n",
    "for i in range(len(edges)):\n",
    "    edge = edges[i]\n",
    "\n",
    "    u = edge[0] \n",
    "    v = edge[1] \n",
    "\n",
    "    B_u = F[edge][u]\n",
    "    B_v = F[edge][v]\n",
    "\n",
    "    B[i*d:(i+1)*d, u*d:(u+1)*d] = B_u\n",
    "    B[i*d:(i+1)*d, v*d:(v+1)*d] = - B_v\n",
    "\n",
    "# Sheaf Laplacian\n",
    "\n",
    "L_f = B.T @ B"
   ]
  },
  {
   "cell_type": "markdown",
   "metadata": {},
   "source": [
    "# Generating a smooth signals dataset "
   ]
  },
  {
   "cell_type": "markdown",
   "metadata": {},
   "source": [
    "*(from Hansen J., \"Learning sheaf Laplacians from smooth signals\")* \n",
    "\n",
    "In order to retrieve a dataset of smoothsignals, first of all we sample random gaussians vectors on the nodes of the graph. Then we smooth them according to their expansion in terms of the eigenvectors of the sheaf Laplacian $L_0$."
   ]
  },
  {
   "cell_type": "markdown",
   "metadata": {},
   "source": [
    "So let's firstly define a dataset of random gaussian vectors. "
   ]
  },
  {
   "cell_type": "code",
   "execution_count": 3,
   "metadata": {},
   "outputs": [],
   "source": [
    "N = 100\n",
    "X = np.random.randn(V*d,N)"
   ]
  },
  {
   "cell_type": "markdown",
   "metadata": {},
   "source": [
    "Now we'll use the Fourier-domain embedded in the Laplacian spectrum. "
   ]
  },
  {
   "cell_type": "markdown",
   "metadata": {},
   "source": [
    "We'll consider a Tikhonov inspired procedure where we firstly project our dataset over the space spanned by the eigenvectors of the sheaf laplacian: namely $U$ the matrix collecting this eigenvectors we have \n",
    "\\begin{equation}\n",
    "    \\hat{x} = U^T x\n",
    "\\end{equation}\n",
    "\n",
    "So that defining $h(\\lambda) = \\frac{1}{1 + 10\\lambda}$ and $H = \\mathrm{diag}\\{h(\\lambda)\\}_{\\lambda}$, we now have\n",
    "\n",
    "\\begin{equation}\n",
    "    \\hat{y} = H(\\Lambda) \\hat{x}\n",
    "\\end{equation}\n",
    "\n",
    "and finally our dataset is just reprojected back into the vertex domain:\n",
    "\n",
    "\\begin{equation}\n",
    "    y = U H(\\Lambda) \\hat{x} = U H(\\Lambda) U^T x\n",
    "\\end{equation}"
   ]
  },
  {
   "cell_type": "code",
   "execution_count": 4,
   "metadata": {},
   "outputs": [],
   "source": [
    "Lambda, U = np.linalg.eig(L_f)\n",
    "H = 1/(1 + 10*Lambda)"
   ]
  },
  {
   "cell_type": "code",
   "execution_count": 5,
   "metadata": {},
   "outputs": [],
   "source": [
    "Y = U @ np.diag(H) @ U.T @ X\n",
    "\n",
    "#Y += np.random.normal(0, 10e-2, size=Y.shape)"
   ]
  },
  {
   "cell_type": "code",
   "execution_count": 6,
   "metadata": {},
   "outputs": [
    {
     "data": {
      "text/plain": [
       "13638.720275074294"
      ]
     },
     "execution_count": 6,
     "metadata": {},
     "output_type": "execute_result"
    }
   ],
   "source": [
    "np.trace(X.T @ L_f @ X)"
   ]
  },
  {
   "cell_type": "code",
   "execution_count": 7,
   "metadata": {},
   "outputs": [
    {
     "data": {
      "text/plain": [
       "9.565305954913251"
      ]
     },
     "execution_count": 7,
     "metadata": {},
     "output_type": "execute_result"
    }
   ],
   "source": [
    "np.trace(Y.T @ L_f @ Y)"
   ]
  },
  {
   "cell_type": "code",
   "execution_count": 8,
   "metadata": {},
   "outputs": [
    {
     "name": "stdout",
     "output_type": "stream",
     "text": [
      "6.983802450991694 4.206960829585515\n",
      "(0, 1) True 1.440294217831587\n",
      "5.764450607841412 4.206960829585515\n",
      "(0, 3) True 1.0180201266978748\n",
      "4.373151743018024 4.206960829585515\n",
      "(0, 6) True 1.1647711091415438\n",
      "5.659202709335148 5.297308929003016\n",
      "(1, 2) True 1.0125850945767727\n",
      "4.5853387089971935 5.297308929003016\n",
      "(1, 5) True 0.8138985625980523\n",
      "2.256325480657027 2.009558616535624\n",
      "(2, 4) True 1.037551548707249\n",
      "1.445910079993538 1.6028552084701946\n",
      "(4, 6) True 1.0720146981535497\n",
      "4.384806776371905 3.0054478726483564\n",
      "(5, 6) True 1.0882617482486012\n"
     ]
    }
   ],
   "source": [
    "for edge in edges:\n",
    "    u = edge[0]\n",
    "    v = edge[1]\n",
    "\n",
    "    X_u = Y[u*d:(u+1)*d,:]\n",
    "    X_v = Y[v*d:(v+1)*d,:]\n",
    "\n",
    "    Fu = F[edge][u]\n",
    "    Fv = F[edge][v]\n",
    "    print(np.linalg.norm(X_u - Fu @ X_u), np.linalg.norm(X_u))\n",
    "    print(edge, edge in edges, np.linalg.norm(Fu @ X_u - Fv @ X_v ))"
   ]
  },
  {
   "cell_type": "markdown",
   "metadata": {},
   "source": [
    "____________"
   ]
  },
  {
   "cell_type": "code",
   "execution_count": 10,
   "metadata": {},
   "outputs": [],
   "source": [
    "def premultiplier(Xu, Xv, d, beta = 1e-3):\n",
    "    A11 = np.kron((Xu @ Xu.T), np.eye(d)) + beta * np.eye(d**2)\n",
    "    A12 = - np.kron((Xu @ Xv.T), np.eye(d))\n",
    "    A21 = - np.kron((Xv @ Xu.T), np.eye(d))\n",
    "    A22 = np.kron((Xv @ Xv.T), np.eye(d)) + beta * np.eye(d**2)\n",
    "\n",
    "    return np.block([[A11, A12], [A21, A22]])\n",
    "\n",
    "def solver(Xu, Xv, d): \n",
    "    A = premultiplier(Xu, Xv, d)\n",
    "    b = np.block([[np.eye(d).flatten().reshape(-1,1)],[np.eye(d).flatten().reshape(-1,1)]])\n",
    "\n",
    "    sol = np.linalg.solve(A,b)\n",
    "\n",
    "    Fu = sol[0:d*d,:]\n",
    "    Fv = sol[d*d:,:]\n",
    "\n",
    "    return Fu.reshape(d,d), Fv.reshape(d,d)\n",
    "\n",
    "def KKT_solver(V, mu, Y, d):\n",
    "    T = 0\n",
    "\n",
    "    H = {\n",
    "        edge : {\n",
    "            edge[0] : None,\n",
    "            edge[1] : None\n",
    "        }\n",
    "    for edge in combinations(range(V), 2)\n",
    "    }\n",
    "\n",
    "    for e in combinations(range(V),2):\n",
    "        u = e[0]\n",
    "        v = e[1]\n",
    "\n",
    "        X_u = Y[u*d:(u+1)*d,:]\n",
    "        X_v = Y[v*d:(v+1)*d,:]\n",
    "\n",
    "        Fu, Fv = solver(X_u, X_v, d)\n",
    "\n",
    "        H[e][u] = Fu\n",
    "        H[e][v] = Fv\n",
    "        \n",
    "        T += np.trace(H[e][u]) + np.trace(H[e][v])\n",
    "\n",
    "    F = {\n",
    "        edge : {\n",
    "            edge[0] : - mu/T * (H[edge][edge[0]]),\n",
    "            edge[1] : - mu/T * (H[edge][edge[1]])\n",
    "        }\n",
    "    for edge in combinations(range(V), 2)\n",
    "    }\n",
    "    \n",
    "    return F"
   ]
  },
  {
   "cell_type": "code",
   "execution_count": 11,
   "metadata": {},
   "outputs": [],
   "source": [
    "maps_ = KKT_solver(V, 70, Y, 3)"
   ]
  },
  {
   "cell_type": "code",
   "execution_count": 12,
   "metadata": {},
   "outputs": [],
   "source": [
    "B_hat_2 = np.zeros((d*E, d*V))\n",
    "\n",
    "for i, edge in enumerate(edges):\n",
    "\n",
    "    u = edge[0] \n",
    "    v = edge[1] \n",
    "\n",
    "    B_u = maps_[edge][u]\n",
    "    B_v = maps_[edge][v]\n",
    "\n",
    "    B_hat_2[i*d:(i+1)*d, u*d:(u+1)*d] = B_u\n",
    "    B_hat_2[i*d:(i+1)*d, v*d:(v+1)*d] = - B_v\n",
    "\n",
    "# Sheaf Laplacian\n",
    "\n",
    "L_f_hat_2 = B_hat_2.T @ B_hat_2"
   ]
  },
  {
   "cell_type": "code",
   "execution_count": 13,
   "metadata": {},
   "outputs": [
    {
     "data": {
      "text/plain": [
       "280.9230791541997"
      ]
     },
     "execution_count": 13,
     "metadata": {},
     "output_type": "execute_result"
    }
   ],
   "source": [
    "np.trace(Y.T @ L_f_hat_2 @ Y)"
   ]
  },
  {
   "cell_type": "code",
   "execution_count": 14,
   "metadata": {},
   "outputs": [],
   "source": [
    "E0 = len(edges)\n",
    "all_edges = list(combinations(range(V), 2))\n",
    "\n",
    "energies = {\n",
    "    e : 0\n",
    "    for e in all_edges\n",
    "    }\n",
    "\n",
    "for e in all_edges:\n",
    "    X_u = Y[d*e[0]:(e[0]+1)*d,:]\n",
    "    X_v = Y[d*e[1]:(e[1]+1)*d,:]\n",
    "\n",
    "    energies[e] = np.linalg.norm(maps_[e][e[0]] @ X_u - maps_[e][e[1]] @ X_v)\n",
    "\n",
    "retrieved = sorted(energies.items(), key=lambda x:x[1])\n",
    "\n",
    "acc = len(set(list(map(lambda x: x[0], retrieved[:E0]))).intersection(set(edges[:E0]))) / E0\n",
    "\n",
    "edges_subset = list(set(list(map(lambda x: x[0], retrieved[:E0]))).intersection(set(edges[:E0])))"
   ]
  },
  {
   "cell_type": "code",
   "execution_count": 15,
   "metadata": {},
   "outputs": [
    {
     "data": {
      "text/plain": [
       "[((2, 5), 0.11739848185247624),\n",
       " ((4, 5), 0.2450092898153875),\n",
       " ((2, 3), 0.39750611496625743),\n",
       " ((2, 4), 0.5290603687203558),\n",
       " ((0, 2), 0.5619913176999537),\n",
       " ((3, 4), 0.6502483122428856),\n",
       " ((0, 1), 0.6558713003723936),\n",
       " ((4, 6), 0.6563954704868576),\n",
       " ((1, 3), 0.8410992503684015),\n",
       " ((1, 4), 1.2508618580372362),\n",
       " ((2, 6), 1.356615160289579),\n",
       " ((0, 4), 1.5142178131288502),\n",
       " ((1, 2), 1.5693118437756368),\n",
       " ((3, 5), 1.8298238785406236),\n",
       " ((3, 6), 1.915886157046632),\n",
       " ((0, 5), 2.6490303678417755),\n",
       " ((1, 6), 2.899509225682434),\n",
       " ((0, 6), 3.539704264427376),\n",
       " ((5, 6), 3.8362261019818225),\n",
       " ((1, 5), 4.736969232044972),\n",
       " ((0, 3), 15.087557719877468)]"
      ]
     },
     "execution_count": 15,
     "metadata": {},
     "output_type": "execute_result"
    }
   ],
   "source": [
    "retrieved"
   ]
  },
  {
   "cell_type": "code",
   "execution_count": 16,
   "metadata": {},
   "outputs": [
    {
     "data": {
      "text/plain": [
       "{0: array([[ 0.4049829 ,  0.37917453, -1.57785554],\n",
       "        [-0.29087592,  1.44032104,  0.5504921 ],\n",
       "        [ 0.24729945, -0.101183  , -0.49140756]]),\n",
       " 1: array([[-0.04367096, -1.02449401,  0.20367415],\n",
       "        [-0.16662979, -0.76331149, -0.07396818],\n",
       "        [ 1.10366836, -0.45751093, -0.5156448 ]])}"
      ]
     },
     "execution_count": 16,
     "metadata": {},
     "output_type": "execute_result"
    }
   ],
   "source": [
    "F[(0,1)]"
   ]
  },
  {
   "cell_type": "markdown",
   "metadata": {},
   "source": [
    "____________"
   ]
  },
  {
   "cell_type": "code",
   "execution_count": 17,
   "metadata": {},
   "outputs": [],
   "source": [
    "class SheafSolver():\n",
    "    def __init__(\n",
    "            self, \n",
    "            d, \n",
    "            V, \n",
    "            mu, \n",
    "            gamma, \n",
    "            alpha, \n",
    "            beta, \n",
    "            Y):\n",
    "\n",
    "        # Sheaf structure\n",
    "        self.d = d\n",
    "        self.V = V\n",
    "\n",
    "        # ADMM hyperparameters\n",
    "        self.mu = mu\n",
    "        self.gamma = gamma\n",
    "\n",
    "        # Sparsification hyperparameters\n",
    "        self.alpha = alpha\n",
    "        self.beta = beta\n",
    "\n",
    "        # Observsed signals\n",
    "        self.Y = Y\n",
    "        \n",
    "        # Initialization\n",
    "        self.F = {\n",
    "            edge: {\n",
    "                edge[0]: None,\n",
    "                edge[1]: None\n",
    "            } for edge in combinations(range(self.V),2)\n",
    "        }\n",
    "\n",
    "        # Setup\n",
    "        self.BlockMatricesPrecomp()\n",
    "\n",
    "    def BlockMatricesPrecomp(self):\n",
    "        self.A = {edge:None for edge in combinations(range(self.V),2)}\n",
    "        for edge in tqdm(combinations(range(self.V),2)):\n",
    "            u = edge[0]\n",
    "            v = edge[1]\n",
    "\n",
    "            Yu = self.Y[u*self.d:(u+1)*self.d,:]\n",
    "            Yv = self.Y[v*self.d:(v+1)*self.d,:]\n",
    "\n",
    "            A11 = np.kron(Yu @ Yu.T, np.eye(self.d)) + 1e-3*np.eye(self.d**2)\n",
    "            A12 = - np.kron(Yu @ Yv.T, np.eye(self.d)) + self.gamma*np.eye(self.d**2)\n",
    "            A21 = - np.kron(Yv @ Yu.T, np.eye(self.d)) + self.gamma*np.eye(self.d**2)\n",
    "            A22 = np.kron(Yv @ Yv.T, np.eye(self.d)) + 1e-3 *np.eye(self.d**2)\n",
    "\n",
    "            A = np.block([[A11, A12],[A21, A22]])\n",
    "            self.A[edge] = np.linalg.inv(A)\n",
    "\n",
    "    # Phase 1 - Optimize the restriction maps\n",
    "\n",
    "    def MapsOptimization(self):\n",
    "        for edge in combinations(range(self.V),2):\n",
    "            b = np.block([[- self.mu *np.eye(self.d).flatten().reshape(-1,1)],\n",
    "                          [- self.mu *np.eye(self.d).flatten().reshape(-1,1)]])\n",
    "\n",
    "            sol = np.linalg.solve(self.A[edge],b)\n",
    "\n",
    "            self.F[edge][edge[0]] = sol[0:self.d*self.d,:].reshape(self.d,self.d)\n",
    "            self.F[edge][edge[1]] = sol[self.d*self.d:,:].reshape(self.d,self.d)\n",
    "\n",
    "    # Phase 2 - Sparsify the graph (Kalofolias)\n",
    "\n",
    "    def PairwiseDistances(self):\n",
    "        self.Z = np.zeros((self.V,self.V))\n",
    "        for u in range(self.V):\n",
    "            for v in range(u+1, self.V):\n",
    "                Yu = self.Y[u*self.d:(u+1)*self.d,:]\n",
    "                Yv = self.Y[v*self.d:(v+1)*self.d,:]\n",
    "\n",
    "                dist = np.linalg.norm(self.F[(u,v)][u] @ Yu - self.F[(u,v)][v] @ Yv)\n",
    "\n",
    "                self.Z[u,v] = dist\n",
    "                self.Z[v,u] = dist\n",
    "\n",
    "    def KalofoliasOptimization(self):\n",
    "        # Define the variable\n",
    "        W = cp.Variable((self.V, self.V), symmetric=True)\n",
    "\n",
    "        # Constraints: diagonal elements must be zero\n",
    "        constraints = [cp.diag(W) == 0]\n",
    "\n",
    "        # Objective function components\n",
    "        term1 = cp.norm1(cp.multiply(W, self.Z))  # ||W ∘ Z||_1,1\n",
    "        term2 = - self.alpha * cp.sum(cp.log(cp.sum(W, axis=1)))  # -α * 1^T log(W1)\n",
    "        term3 = (self.beta / 2) * cp.norm(W, 'fro')**2  # (β/2) * ||W||_F^2\n",
    "\n",
    "        # Define the objective\n",
    "        objective = cp.Minimize(term1 + term2 + term3)\n",
    "\n",
    "        # Define the problem\n",
    "        problem = cp.Problem(objective, constraints)\n",
    "\n",
    "        # Solve the problem\n",
    "        problem.solve()\n",
    "\n",
    "        # Return the optimal solution\n",
    "        self.W = W.value\n",
    "        \n",
    "    def EdgeRetrieval(self):\n",
    "        for u in range(self.V):\n",
    "            for v in range(u+1,V):\n",
    "                if self.W[u,v] < 1e-5:\n",
    "                    self.W[u,v] = 0\n",
    "                    self.W[v,u] = 0\n",
    "        retrieved_edges = []\n",
    "\n",
    "        for u in range(V):\n",
    "            for v in range(u,V):\n",
    "                if self.W[u,v] != 0:\n",
    "                    retrieved_edges.append((u,v))\n",
    "\n",
    "        self.retrieved_edges = retrieved_edges\n",
    "    \n",
    "    def MapsCorrection(self):\n",
    "        for u in range(self.V):\n",
    "            for v in range(u+1,V):\n",
    "                self.F[(u,v)][u] *= self.W[u,v]**2\n",
    "                self.F[(u,v)][v] *= self.W[u,v]**2 \n",
    "\n",
    "    def Learning(self):\n",
    "        self.MapsOptimization()\n",
    "        self.PairwiseDistances()\n",
    "        self.KalofoliasOptimization()\n",
    "        self.EdgeRetrieval()\n",
    "        self.MapsCorrection()"
   ]
  },
  {
   "cell_type": "code",
   "execution_count": 18,
   "metadata": {},
   "outputs": [],
   "source": [
    "# Let's generate a toy topology for our example\n",
    "\n",
    "V = 100\n",
    "nodes = np.arange(V)\n",
    "\n",
    "# Probability p = 1.1 * log(V) / V\n",
    "p = 1.1 * np.log(V) / V\n",
    "\n",
    "edges = []\n",
    "for u in range(V):\n",
    "    for v in range(u+1, V):\n",
    "        s = np.random.rand()\n",
    "        if s < p:\n",
    "            edges.append((u,v))\n",
    "\n",
    "\n",
    "d = 10                                           # Node and edges stalks dimension\n",
    "E = len(edges)\n",
    "F = {\n",
    "    e:{\n",
    "        e[0]:np.random.randn(d,d),\n",
    "        e[1]:np.random.randn(d,d)\n",
    "        } \n",
    "        for e in edges\n",
    "    }                                           # Incidency linear maps\n",
    "\n",
    "# Sheaf representation \n",
    "\n",
    "# Coboundary map\n",
    "\n",
    "B = np.zeros((d*E, d*V))\n",
    "\n",
    "for i in range(len(edges)):\n",
    "    edge = edges[i]\n",
    "\n",
    "    u = edge[0] \n",
    "    v = edge[1] \n",
    "\n",
    "    B_u = F[edge][u]\n",
    "    B_v = F[edge][v]\n",
    "\n",
    "    B[i*d:(i+1)*d, u*d:(u+1)*d] = B_u\n",
    "    B[i*d:(i+1)*d, v*d:(v+1)*d] = - B_v\n",
    "\n",
    "# Sheaf Laplacian\n",
    "\n",
    "L_f = B.T @ B"
   ]
  },
  {
   "cell_type": "code",
   "execution_count": 19,
   "metadata": {},
   "outputs": [],
   "source": [
    "N = 100\n",
    "X = np.random.randn(V*d,N)"
   ]
  },
  {
   "cell_type": "code",
   "execution_count": 20,
   "metadata": {},
   "outputs": [],
   "source": [
    "Lambda, U = np.linalg.eig(L_f)\n",
    "H = 1/(1 + 10*Lambda)"
   ]
  },
  {
   "cell_type": "code",
   "execution_count": 21,
   "metadata": {},
   "outputs": [],
   "source": [
    "Y = U @ np.diag(H) @ U.T @ X"
   ]
  },
  {
   "cell_type": "code",
   "execution_count": 22,
   "metadata": {},
   "outputs": [
    {
     "name": "stderr",
     "output_type": "stream",
     "text": [
      "0it [00:00, ?it/s]"
     ]
    },
    {
     "name": "stderr",
     "output_type": "stream",
     "text": [
      "4950it [00:43, 112.61it/s]\n"
     ]
    }
   ],
   "source": [
    "solver = SheafSolver(d, V, 1, 10, 3, 5, Y)"
   ]
  },
  {
   "cell_type": "code",
   "execution_count": 23,
   "metadata": {},
   "outputs": [],
   "source": [
    "solver.Learning()"
   ]
  },
  {
   "cell_type": "code",
   "execution_count": 24,
   "metadata": {},
   "outputs": [
    {
     "data": {
      "text/plain": [
       "0.92578125"
      ]
     },
     "execution_count": 24,
     "metadata": {},
     "output_type": "execute_result"
    }
   ],
   "source": [
    "len(set(solver.retrieved_edges).intersection(set(edges)))/len(edges)"
   ]
  },
  {
   "cell_type": "code",
   "execution_count": 25,
   "metadata": {},
   "outputs": [
    {
     "data": {
      "text/plain": [
       "0.0602287166454892"
      ]
     },
     "execution_count": 25,
     "metadata": {},
     "output_type": "execute_result"
    }
   ],
   "source": [
    "len(set(solver.retrieved_edges).intersection(set(edges)))/len(solver.retrieved_edges)"
   ]
  },
  {
   "cell_type": "code",
   "execution_count": null,
   "metadata": {},
   "outputs": [],
   "source": []
  }
 ],
 "metadata": {
  "kernelspec": {
   "display_name": "Python 3",
   "language": "python",
   "name": "python3"
  },
  "language_info": {
   "codemirror_mode": {
    "name": "ipython",
    "version": 3
   },
   "file_extension": ".py",
   "mimetype": "text/x-python",
   "name": "python",
   "nbconvert_exporter": "python",
   "pygments_lexer": "ipython3",
   "version": "3.10.7"
  }
 },
 "nbformat": 4,
 "nbformat_minor": 2
}
