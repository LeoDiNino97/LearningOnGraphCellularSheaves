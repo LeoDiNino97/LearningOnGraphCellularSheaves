{
 "cells": [
  {
   "cell_type": "markdown",
   "metadata": {},
   "source": [
    "### Generating a toy-case topology"
   ]
  },
  {
   "cell_type": "code",
   "execution_count": 1,
   "metadata": {},
   "outputs": [],
   "source": [
    "import numpy as np \n",
    "import cvxpy as cp\n",
    "\n",
    "from itertools import combinations\n",
    "from tqdm import tqdm"
   ]
  },
  {
   "cell_type": "code",
   "execution_count": 2,
   "metadata": {},
   "outputs": [],
   "source": [
    "# Let's generate a toy topology for our example\n",
    "\n",
    "nodes = [i for i in range(7)]\n",
    "edges = [\n",
    "    (0,1),\n",
    "    (0,3),\n",
    "    (0,6),\n",
    "    (1,2),\n",
    "    (1,5),\n",
    "    (2,4),\n",
    "    (4,6),\n",
    "    (5,6)\n",
    "]\n",
    "\n",
    "V = 7\n",
    "E = len(edges)\n",
    "\n",
    "d = 3                                           # Node and edges stalks dimension\n",
    "\n",
    "F = {\n",
    "    e:{\n",
    "        e[0]:np.random.randn(d,d),\n",
    "        e[1]:np.random.randn(d,d)\n",
    "        } \n",
    "        for e in edges\n",
    "    }                                           # Incidency linear maps\n",
    "\n",
    "# Sheaf representation \n",
    "\n",
    "# Coboundary map\n",
    "\n",
    "B = np.zeros((d*E, d*V))\n",
    "\n",
    "for i in range(len(edges)):\n",
    "    edge = edges[i]\n",
    "\n",
    "    u = edge[0] \n",
    "    v = edge[1] \n",
    "\n",
    "    B_u = F[edge][u]\n",
    "    B_v = F[edge][v]\n",
    "\n",
    "    B[i*d:(i+1)*d, u*d:(u+1)*d] = B_u\n",
    "    B[i*d:(i+1)*d, v*d:(v+1)*d] = - B_v\n",
    "\n",
    "# Sheaf Laplacian\n",
    "\n",
    "L_f = B.T @ B"
   ]
  },
  {
   "cell_type": "markdown",
   "metadata": {},
   "source": [
    "# Generating a smooth signals dataset "
   ]
  },
  {
   "cell_type": "markdown",
   "metadata": {},
   "source": [
    "*(from Hansen J., \"Learning sheaf Laplacians from smooth signals\")* \n",
    "\n",
    "In order to retrieve a dataset of smoothsignals, first of all we sample random gaussians vectors on the nodes of the graph. Then we smooth them according to their expansion in terms of the eigenvectors of the sheaf Laplacian $L_0$."
   ]
  },
  {
   "cell_type": "markdown",
   "metadata": {},
   "source": [
    "So let's firstly define a dataset of random gaussian vectors. "
   ]
  },
  {
   "cell_type": "code",
   "execution_count": 3,
   "metadata": {},
   "outputs": [],
   "source": [
    "N = 100\n",
    "X = np.random.randn(V*d,N)"
   ]
  },
  {
   "cell_type": "markdown",
   "metadata": {},
   "source": [
    "Now we'll use the Fourier-domain embedded in the Laplacian spectrum. "
   ]
  },
  {
   "cell_type": "markdown",
   "metadata": {},
   "source": [
    "We'll consider a Tikhonov inspired procedure where we firstly project our dataset over the space spanned by the eigenvectors of the sheaf laplacian: namely $U$ the matrix collecting this eigenvectors we have \n",
    "\\begin{equation}\n",
    "    \\hat{x} = U^T x\n",
    "\\end{equation}\n",
    "\n",
    "So that defining $h(\\lambda) = \\frac{1}{1 + 10\\lambda}$ and $H = \\mathrm{diag}\\{h(\\lambda)\\}_{\\lambda}$, we now have\n",
    "\n",
    "\\begin{equation}\n",
    "    \\hat{y} = H(\\Lambda) \\hat{x}\n",
    "\\end{equation}\n",
    "\n",
    "and finally our dataset is just reprojected back into the vertex domain:\n",
    "\n",
    "\\begin{equation}\n",
    "    y = U H(\\Lambda) \\hat{x} = U H(\\Lambda) U^T x\n",
    "\\end{equation}"
   ]
  },
  {
   "cell_type": "code",
   "execution_count": 4,
   "metadata": {},
   "outputs": [],
   "source": [
    "Lambda, U = np.linalg.eig(L_f)\n",
    "H = 1/(1 + 10*Lambda)"
   ]
  },
  {
   "cell_type": "code",
   "execution_count": 5,
   "metadata": {},
   "outputs": [],
   "source": [
    "Y = U @ np.diag(H) @ U.T @ X\n",
    "\n",
    "Y += np.random.normal(0, 10e-2, size=Y.shape)"
   ]
  },
  {
   "cell_type": "code",
   "execution_count": 6,
   "metadata": {},
   "outputs": [
    {
     "data": {
      "text/plain": [
       "12186.655518829697"
      ]
     },
     "execution_count": 6,
     "metadata": {},
     "output_type": "execute_result"
    }
   ],
   "source": [
    "np.trace(X.T @ L_f @ X)"
   ]
  },
  {
   "cell_type": "code",
   "execution_count": 7,
   "metadata": {},
   "outputs": [
    {
     "data": {
      "text/plain": [
       "134.33099570958169"
      ]
     },
     "execution_count": 7,
     "metadata": {},
     "output_type": "execute_result"
    }
   ],
   "source": [
    "np.trace(Y.T @ L_f @ Y)"
   ]
  },
  {
   "cell_type": "markdown",
   "metadata": {},
   "source": [
    "____________"
   ]
  },
  {
   "cell_type": "code",
   "execution_count": 8,
   "metadata": {},
   "outputs": [],
   "source": [
    "def solver(Y, d, edges, N):\n",
    "\n",
    "    obj = 0\n",
    "    trace = 0\n",
    "\n",
    "    Fs = {\n",
    "        edge: {\n",
    "            edge[0]:None,\n",
    "            edge[1]:None\n",
    "        }\n",
    "        for edge in edges\n",
    "    }\n",
    "\n",
    "    # Loop over edges to define variables and construct objective\n",
    "    for edge in edges:\n",
    "        u = edge[0]\n",
    "        v = edge[1]\n",
    "\n",
    "        Y_u = Y[u*d:(u+1)*d, :]\n",
    "        Y_v = Y[v*d:(v+1)*d, :]\n",
    "\n",
    "        # Define optimization variables for each edge\n",
    "        Fs[edge][u] = cp.Variable((d, d))\n",
    "        Fs[edge][v] = cp.Variable((d, d))\n",
    "\n",
    "        # Update objective and trace\n",
    "        obj += cp.norm(Fs[edge][u] @ Y_u - Fs[edge][v] @ Y_v, 'fro')**2\n",
    "        trace += cp.trace(Fs[edge][u]) + cp.trace(Fs[edge][v])\n",
    "\n",
    "    # Define the trace constraint\n",
    "    trace_constraint = (trace == N)\n",
    "\n",
    "    # Define the problem\n",
    "    problem = cp.Problem(cp.Minimize(obj), [trace_constraint])\n",
    "\n",
    "    # Solve the problem\n",
    "    problem.solve(solver=cp.MOSEK,\n",
    "                  mosek_params = { 'MSK_IPAR_INTPNT_SOLVE_FORM': 'MSK_SOLVE_PRIMAL' },\n",
    "                  verbose=True)\n",
    "\n",
    "    # Return the solution\n",
    "    return Fs"
   ]
  },
  {
   "cell_type": "code",
   "execution_count": 9,
   "metadata": {},
   "outputs": [
    {
     "name": "stdout",
     "output_type": "stream",
     "text": [
      "===============================================================================\n",
      "                                     CVXPY                                     \n",
      "                                     v1.4.2                                    \n",
      "===============================================================================\n",
      "(CVXPY) Aug 24 11:27:34 AM: Your problem has 144 variables, 1 constraints, and 0 parameters.\n",
      "(CVXPY) Aug 24 11:27:34 AM: It is compliant with the following grammars: DCP, DQCP\n",
      "(CVXPY) Aug 24 11:27:34 AM: (If you need to solve this problem multiple times, but with different data, consider using parameters.)\n",
      "(CVXPY) Aug 24 11:27:34 AM: CVXPY will first compile your problem; then, it will invoke a numerical solver to obtain a solution.\n",
      "(CVXPY) Aug 24 11:27:34 AM: Your problem is compiled with the CPP canonicalization backend.\n",
      "-------------------------------------------------------------------------------\n",
      "                                  Compilation                                  \n",
      "-------------------------------------------------------------------------------\n",
      "(CVXPY) Aug 24 11:27:34 AM: Compiling problem (target solver=MOSEK).\n",
      "(CVXPY) Aug 24 11:27:34 AM: Reduction chain: Dcp2Cone -> CvxAttr2Constr -> ConeMatrixStuffing -> MOSEK\n",
      "(CVXPY) Aug 24 11:27:34 AM: Applying reduction Dcp2Cone\n",
      "(CVXPY) Aug 24 11:27:34 AM: Applying reduction CvxAttr2Constr\n",
      "(CVXPY) Aug 24 11:27:34 AM: Applying reduction ConeMatrixStuffing\n",
      "(CVXPY) Aug 24 11:27:34 AM: Applying reduction MOSEK\n",
      "(CVXPY) Aug 24 11:27:34 AM: Finished problem compilation (took 9.097e-02 seconds).\n",
      "-------------------------------------------------------------------------------\n",
      "                                Numerical solver                               \n",
      "-------------------------------------------------------------------------------\n",
      "(CVXPY) Aug 24 11:27:34 AM: Invoking solver MOSEK  to obtain a solution.\n",
      "\n",
      "\n",
      "(CVXPY) Aug 24 11:27:34 AM: Problem\n",
      "(CVXPY) Aug 24 11:27:34 AM:   Name                   :                 \n",
      "(CVXPY) Aug 24 11:27:34 AM:   Objective sense        : maximize        \n",
      "(CVXPY) Aug 24 11:27:34 AM:   Type                   : CONIC (conic optimization problem)\n",
      "(CVXPY) Aug 24 11:27:34 AM:   Constraints            : 160             \n",
      "(CVXPY) Aug 24 11:27:34 AM:   Affine conic cons.     : 0               \n",
      "(CVXPY) Aug 24 11:27:34 AM:   Disjunctive cons.      : 0               \n",
      "(CVXPY) Aug 24 11:27:34 AM:   Cones                  : 16              \n",
      "(CVXPY) Aug 24 11:27:34 AM:   Scalar variables       : 2433            \n",
      "(CVXPY) Aug 24 11:27:34 AM:   Matrix variables       : 0               \n",
      "(CVXPY) Aug 24 11:27:34 AM:   Integer variables      : 0               \n",
      "(CVXPY) Aug 24 11:27:34 AM: \n",
      "(CVXPY) Aug 24 11:27:34 AM: Optimizer started.\n",
      "(CVXPY) Aug 24 11:27:34 AM: Presolve started.\n",
      "(CVXPY) Aug 24 11:27:34 AM: Linear dependency checker started.\n",
      "(CVXPY) Aug 24 11:27:34 AM: Linear dependency checker terminated.\n",
      "(CVXPY) Aug 24 11:27:34 AM: Eliminator started.\n",
      "(CVXPY) Aug 24 11:27:34 AM: Freed constraints in eliminator : 0\n",
      "(CVXPY) Aug 24 11:27:34 AM: Eliminator terminated.\n",
      "(CVXPY) Aug 24 11:27:34 AM: Eliminator - tries                  : 1                 time                   : 0.00            \n",
      "(CVXPY) Aug 24 11:27:34 AM: Lin. dep.  - tries                  : 1                 time                   : 0.00            \n",
      "(CVXPY) Aug 24 11:27:34 AM: Lin. dep.  - primal attempts        : 1                 successes              : 1               \n",
      "(CVXPY) Aug 24 11:27:34 AM: Lin. dep.  - dual attempts          : 0                 successes              : 0               \n",
      "(CVXPY) Aug 24 11:27:34 AM: Lin. dep.  - primal deps.           : 0                 dual deps.             : 0               \n",
      "(CVXPY) Aug 24 11:27:34 AM: Presolve terminated. Time: 0.02    \n",
      "(CVXPY) Aug 24 11:27:34 AM: Optimizer  - threads                : 8               \n",
      "(CVXPY) Aug 24 11:27:34 AM: Optimizer  - solved problem         : the primal      \n",
      "(CVXPY) Aug 24 11:27:34 AM: Optimizer  - Constraints            : 160             \n",
      "(CVXPY) Aug 24 11:27:34 AM: Optimizer  - Cones                  : 17              \n",
      "(CVXPY) Aug 24 11:27:34 AM: Optimizer  - Scalar variables       : 2434              conic                  : 2434            \n",
      "(CVXPY) Aug 24 11:27:34 AM: Optimizer  - Semi-definite variables: 0                 scalarized             : 0               \n",
      "(CVXPY) Aug 24 11:27:34 AM: Factor     - setup time             : 0.00            \n",
      "(CVXPY) Aug 24 11:27:34 AM: Factor     - dense det. time        : 0.00              GP order time          : 0.00            \n",
      "(CVXPY) Aug 24 11:27:34 AM: Factor     - nonzeros before factor : 2544              after factor           : 2544            \n",
      "(CVXPY) Aug 24 11:27:34 AM: Factor     - dense dim.             : 0                 flops                  : 1.66e+05        \n",
      "(CVXPY) Aug 24 11:27:34 AM: ITE PFEAS    DFEAS    GFEAS    PRSTATUS   POBJ              DOBJ              MU       TIME  \n",
      "(CVXPY) Aug 24 11:27:34 AM: 0   2.5e-01  7.0e+01  9.0e+00  0.00e+00   -8.000000000e+00  -0.000000000e+00  1.0e+00  0.03  \n",
      "(CVXPY) Aug 24 11:27:34 AM: 1   3.5e-02  9.8e+00  2.8e+00  -8.31e-01  1.819277521e+01   2.025558195e+01   1.4e-01  0.05  \n",
      "(CVXPY) Aug 24 11:27:34 AM: 2   5.8e-03  1.6e+00  6.1e-01  -5.28e-01  9.637336769e+01   9.108508363e+01   2.3e-02  0.05  \n",
      "(CVXPY) Aug 24 11:27:34 AM: 3   2.9e-04  8.2e-02  6.6e-03  5.23e-01   1.346972679e+02   1.344950412e+02   1.2e-03  0.05  \n",
      "(CVXPY) Aug 24 11:27:34 AM: 4   5.3e-07  1.5e-04  4.2e-07  9.86e-01   1.361633566e+02   1.361632135e+02   2.1e-06  0.06  \n",
      "(CVXPY) Aug 24 11:27:34 AM: 5   6.5e-09  1.8e-06  5.7e-10  1.00e+00   1.361650248e+02   1.361650232e+02   2.6e-08  0.06  \n",
      "(CVXPY) Aug 24 11:27:34 AM: 6   8.2e-10  2.3e-07  2.6e-11  1.00e+00   1.361650537e+02   1.361650535e+02   3.3e-09  0.06  \n",
      "(CVXPY) Aug 24 11:27:34 AM: 7   1.5e-10  4.2e-08  2.0e-12  1.00e+00   1.361650576e+02   1.361650576e+02   5.9e-10  0.06  \n",
      "(CVXPY) Aug 24 11:27:34 AM: Optimizer terminated. Time: 0.08    \n",
      "(CVXPY) Aug 24 11:27:34 AM: \n",
      "(CVXPY) Aug 24 11:27:34 AM: \n",
      "(CVXPY) Aug 24 11:27:34 AM: Interior-point solution summary\n",
      "(CVXPY) Aug 24 11:27:34 AM:   Problem status  : PRIMAL_AND_DUAL_FEASIBLE\n",
      "(CVXPY) Aug 24 11:27:34 AM:   Solution status : OPTIMAL\n",
      "(CVXPY) Aug 24 11:27:34 AM:   Primal.  obj: 1.3616505764e+02    nrm: 1e+01    Viol.  con: 1e-08    var: 0e+00    cones: 0e+00  \n",
      "(CVXPY) Aug 24 11:27:34 AM:   Dual.    obj: 1.3616505760e+02    nrm: 2e+01    Viol.  con: 0e+00    var: 8e-07    cones: 0e+00  \n",
      "-------------------------------------------------------------------------------\n",
      "                                    Summary                                    \n",
      "-------------------------------------------------------------------------------\n",
      "(CVXPY) Aug 24 11:27:34 AM: Problem status: optimal\n",
      "(CVXPY) Aug 24 11:27:34 AM: Optimal value: 1.362e+02\n",
      "(CVXPY) Aug 24 11:27:34 AM: Compilation took 9.097e-02 seconds\n",
      "(CVXPY) Aug 24 11:27:34 AM: Solver (including time spent in interface) took 1.335e-01 seconds\n",
      "Average reconstruction error for trace barrier with N = 100: 0.08231687528284476\n"
     ]
    }
   ],
   "source": [
    "Fs = solver(Y, d, edges,70)\n",
    "B_hat = np.zeros((d*E, d*V))\n",
    "\n",
    "for i in range(len(edges)):\n",
    "    edge = edges[i]\n",
    "\n",
    "    u = edge[0] \n",
    "    v = edge[1] \n",
    "\n",
    "    B_u = Fs[edge][u].value\n",
    "    B_v = Fs[edge][v].value\n",
    "\n",
    "    B_hat[i*d:(i+1)*d, u*d:(u+1)*d] = B_u\n",
    "    B_hat[i*d:(i+1)*d, v*d:(v+1)*d] = - B_v\n",
    "\n",
    "# Sheaf Laplacian\n",
    "\n",
    "L_f_hat = B_hat.T @ B_hat\n",
    "print(f'Average reconstruction error for trace barrier with N = {N}: {np.linalg.norm(L_f - L_f_hat) / L_f.size}')"
   ]
  },
  {
   "cell_type": "code",
   "execution_count": 10,
   "metadata": {},
   "outputs": [
    {
     "data": {
      "text/plain": [
       "134.33099570958169"
      ]
     },
     "execution_count": 10,
     "metadata": {},
     "output_type": "execute_result"
    }
   ],
   "source": [
    "np.trace(Y.T @ L_f @ Y)"
   ]
  },
  {
   "cell_type": "code",
   "execution_count": 11,
   "metadata": {},
   "outputs": [
    {
     "data": {
      "text/plain": [
       "136.16505557834063"
      ]
     },
     "execution_count": 11,
     "metadata": {},
     "output_type": "execute_result"
    }
   ],
   "source": [
    "np.trace(Y.T @ L_f_hat @ Y) "
   ]
  },
  {
   "cell_type": "markdown",
   "metadata": {},
   "source": [
    "_______________"
   ]
  },
  {
   "cell_type": "code",
   "execution_count": 12,
   "metadata": {},
   "outputs": [],
   "source": [
    "def premultiplier(Xu, Xv):\n",
    "    uu = np.linalg.inv(Xu @ Xu.T)\n",
    "    uv = Xu @ Xv.T\n",
    "    vv = np.linalg.inv(Xv @ Xv.T)\n",
    "    vu = Xv @ Xu.T\n",
    "\n",
    "    return (uu, uv, vv, vu)\n",
    "\n",
    "def chi_u(uu, uv, vv, vu):\n",
    "\n",
    "    return (uu @ uv + np.eye(uu.shape[0])) @ vv @ (vu @ uu @ uv @ vv - np.eye(uu.shape[0])) @ vu @ uu - uu\n",
    "\n",
    "def chi_v(uu, uv, vv, vu):\n",
    "\n",
    "    return (uu @ uv + np.eye(uu.shape[0])) @ vv @ (vu @ uu @ uv @ vv - np.eye(uu.shape[0]))"
   ]
  },
  {
   "cell_type": "code",
   "execution_count": 13,
   "metadata": {},
   "outputs": [],
   "source": [
    "T = 0\n",
    "\n",
    "maps_ = {\n",
    "    edge : {\n",
    "        edge[0] : np.zeros((d,d)),\n",
    "        edge[1] : np.zeros((d,d))\n",
    "    }\n",
    "for edge in edges\n",
    "}"
   ]
  },
  {
   "cell_type": "code",
   "execution_count": 14,
   "metadata": {},
   "outputs": [],
   "source": [
    "for e in edges:\n",
    "    \n",
    "    u = e[0]\n",
    "    v = e[1]\n",
    "\n",
    "    X_u = Y[u*d:(u+1)*d,:]\n",
    "    X_v = Y[v*d:(v+1)*d,:]\n",
    "    \n",
    "    uu, uv, vv, vu = premultiplier(X_u, X_v)\n",
    "\n",
    "    maps_[e][u] = chi_u(uu, uv, vv, vu)\n",
    "    maps_[e][v] = chi_v(uu, uv, vv, vu)\n",
    "    \n",
    "    T += np.trace(maps_[e][u]) + np.trace(maps_[e][v])"
   ]
  },
  {
   "cell_type": "code",
   "execution_count": 15,
   "metadata": {},
   "outputs": [
    {
     "data": {
      "text/plain": [
       "{(0,\n",
       "  1): {0: array([[-1.14438111,  0.39792821, -0.22560556],\n",
       "         [ 0.49617598, -0.78473805, -0.38389537],\n",
       "         [-0.13320602, -0.4317819 , -0.8154591 ]]), 1: array([[-1.21055325,  0.38919862, -0.14265232],\n",
       "         [ 0.29095085, -0.7541883 ,  0.03486775],\n",
       "         [-0.23505186,  0.08275427, -0.71240735]])},\n",
       " (0,\n",
       "  3): {0: array([[-0.88984643,  0.2973406 , -0.13143303],\n",
       "         [ 0.24099473, -0.84302112, -0.31595405],\n",
       "         [-0.20642857, -0.31338833, -0.74159045]]), 3: array([[-0.00896437, -0.04558887, -0.00994589],\n",
       "         [ 0.010757  , -0.16012805, -0.21231497],\n",
       "         [ 0.06504965, -0.21488069, -0.93588108]])},\n",
       " (0,\n",
       "  6): {0: array([[-0.90335588,  0.43036218, -0.07486933],\n",
       "         [ 0.36702726, -0.80054534, -0.26988445],\n",
       "         [ 0.01744623, -0.45382203, -0.6649501 ]]), 6: array([[-0.63515863, -0.19391963,  0.36748948],\n",
       "         [-0.13058471, -0.34990602, -0.35259368],\n",
       "         [ 0.27517392, -0.1686561 , -0.6392148 ]])},\n",
       " (1,\n",
       "  2): {1: array([[-1.1444694 ,  0.06755399, -0.1007292 ],\n",
       "         [ 0.13455881, -1.01890005,  0.2252892 ],\n",
       "         [ 0.0504719 ,  0.2895651 , -0.66094215]]), 2: array([[-0.90386461, -0.15204463,  0.06680074],\n",
       "         [-0.21904945, -0.11494962,  0.11462051],\n",
       "         [-0.08440036,  0.05034461, -0.46190211]])},\n",
       " (1,\n",
       "  5): {1: array([[-1.04175863,  0.30688344, -0.0763874 ],\n",
       "         [ 0.25279325, -1.01061054,  0.22886565],\n",
       "         [-0.06200766,  0.0838494 , -0.75412989]]), 5: array([[-0.53635792,  0.25513284,  0.10211681],\n",
       "         [ 0.30922304, -0.56446754, -0.15149491],\n",
       "         [ 0.08773707, -0.00647866, -0.69568308]])},\n",
       " (2,\n",
       "  4): {2: array([[-1.0529934 , -0.14122023, -0.06447262],\n",
       "         [-0.29674587, -0.19165355, -0.1850978 ],\n",
       "         [-0.23809709, -0.07755971, -0.65509689]]), 4: array([[-0.21790819,  0.12625964, -0.29425951],\n",
       "         [ 0.28178528, -0.42291022,  0.12378636],\n",
       "         [-0.12063504,  0.01624828, -0.22021886]])},\n",
       " (4,\n",
       "  6): {4: array([[-0.40356161,  0.309531  , -0.31494742],\n",
       "         [ 0.26856073, -0.53742787,  0.04378367],\n",
       "         [-0.24742739,  0.07811713, -0.37125959]]), 6: array([[-0.72687099, -0.18282829,  0.24282479],\n",
       "         [-0.14185802, -0.39554433, -0.25741885],\n",
       "         [ 0.17530476, -0.29175231, -0.69511727]])},\n",
       " (5,\n",
       "  6): {5: array([[-0.63617292,  0.13320404,  0.08961425],\n",
       "         [ 0.08925668, -0.64800297, -0.00499141],\n",
       "         [-0.06434205, -0.00462248, -0.6432347 ]]), 6: array([[-0.61332511, -0.2950383 ,  0.14381493],\n",
       "         [-0.25109094, -0.35636029, -0.15462279],\n",
       "         [ 0.29777123, -0.15499172, -0.62621241]])}}"
      ]
     },
     "execution_count": 15,
     "metadata": {},
     "output_type": "execute_result"
    }
   ],
   "source": [
    "maps_"
   ]
  },
  {
   "cell_type": "code",
   "execution_count": 16,
   "metadata": {},
   "outputs": [],
   "source": [
    "maps_ = {\n",
    "    edge : {\n",
    "        edge[0] : 70/T * maps_[edge][edge[0]],\n",
    "        edge[1] : 70/T * maps_[edge][edge[1]]\n",
    "    }\n",
    "for edge in edges\n",
    "}"
   ]
  },
  {
   "cell_type": "code",
   "execution_count": 17,
   "metadata": {},
   "outputs": [],
   "source": [
    "B_hat_2 = np.zeros((d*E, d*V))\n",
    "\n",
    "for i, edge in enumerate(edges):\n",
    "\n",
    "    u = edge[0] \n",
    "    v = edge[1] \n",
    "\n",
    "    B_u = maps_[edge][u]\n",
    "    B_v = maps_[edge][v]\n",
    "\n",
    "    B_hat_2[i*d:(i+1)*d, u*d:(u+1)*d] = B_u\n",
    "    B_hat_2[i*d:(i+1)*d, v*d:(v+1)*d] = - B_v\n",
    "\n",
    "# Sheaf Laplacian\n",
    "\n",
    "L_f_hat_2 = B_hat_2.T @ B_hat_2"
   ]
  },
  {
   "cell_type": "code",
   "execution_count": 18,
   "metadata": {},
   "outputs": [
    {
     "data": {
      "text/plain": [
       "146.23851723637512"
      ]
     },
     "execution_count": 18,
     "metadata": {},
     "output_type": "execute_result"
    }
   ],
   "source": [
    "np.trace(Y.T @ L_f_hat_2 @ Y)"
   ]
  }
 ],
 "metadata": {
  "kernelspec": {
   "display_name": "Python 3",
   "language": "python",
   "name": "python3"
  },
  "language_info": {
   "codemirror_mode": {
    "name": "ipython",
    "version": 3
   },
   "file_extension": ".py",
   "mimetype": "text/x-python",
   "name": "python",
   "nbconvert_exporter": "python",
   "pygments_lexer": "ipython3",
   "version": "3.10.7"
  }
 },
 "nbformat": 4,
 "nbformat_minor": 2
}
