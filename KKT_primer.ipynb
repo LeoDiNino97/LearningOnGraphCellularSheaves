{
 "cells": [
  {
   "cell_type": "markdown",
   "metadata": {},
   "source": [
    "### Generating a toy-case topology"
   ]
  },
  {
   "cell_type": "code",
   "execution_count": 1,
   "metadata": {},
   "outputs": [],
   "source": [
    "import numpy as np \n",
    "import cvxpy as cp\n",
    "\n",
    "from itertools import combinations\n",
    "from tqdm import tqdm"
   ]
  },
  {
   "cell_type": "code",
   "execution_count": 2,
   "metadata": {},
   "outputs": [],
   "source": [
    "# Let's generate a toy topology for our example\n",
    "\n",
    "nodes = [i for i in range(7)]\n",
    "edges = [\n",
    "    (0,1),\n",
    "    (0,3),\n",
    "    (0,6),\n",
    "    (1,2),\n",
    "    (1,5),\n",
    "    (2,4),\n",
    "    (4,6),\n",
    "    (5,6)\n",
    "]\n",
    "\n",
    "V = 7\n",
    "E = len(edges)\n",
    "\n",
    "d = 3                                           # Node and edges stalks dimension\n",
    "\n",
    "F = {\n",
    "    e:{\n",
    "        e[0]:np.random.randn(d,d),\n",
    "        e[1]:np.random.randn(d,d)\n",
    "        } \n",
    "        for e in edges\n",
    "    }                                           # Incidency linear maps\n",
    "\n",
    "# Sheaf representation \n",
    "\n",
    "# Coboundary map\n",
    "\n",
    "B = np.zeros((d*E, d*V))\n",
    "\n",
    "for i in range(len(edges)):\n",
    "    edge = edges[i]\n",
    "\n",
    "    u = edge[0] \n",
    "    v = edge[1] \n",
    "\n",
    "    B_u = F[edge][u]\n",
    "    B_v = F[edge][v]\n",
    "\n",
    "    B[i*d:(i+1)*d, u*d:(u+1)*d] = B_u\n",
    "    B[i*d:(i+1)*d, v*d:(v+1)*d] = - B_v\n",
    "\n",
    "# Sheaf Laplacian\n",
    "\n",
    "L_f = B.T @ B"
   ]
  },
  {
   "cell_type": "markdown",
   "metadata": {},
   "source": [
    "# Generating a smooth signals dataset "
   ]
  },
  {
   "cell_type": "markdown",
   "metadata": {},
   "source": [
    "*(from Hansen J., \"Learning sheaf Laplacians from smooth signals\")* \n",
    "\n",
    "In order to retrieve a dataset of smoothsignals, first of all we sample random gaussians vectors on the nodes of the graph. Then we smooth them according to their expansion in terms of the eigenvectors of the sheaf Laplacian $L_0$."
   ]
  },
  {
   "cell_type": "markdown",
   "metadata": {},
   "source": [
    "So let's firstly define a dataset of random gaussian vectors. "
   ]
  },
  {
   "cell_type": "code",
   "execution_count": 3,
   "metadata": {},
   "outputs": [],
   "source": [
    "N = 100\n",
    "X = np.random.randn(V*d,N)"
   ]
  },
  {
   "cell_type": "markdown",
   "metadata": {},
   "source": [
    "Now we'll use the Fourier-domain embedded in the Laplacian spectrum. "
   ]
  },
  {
   "cell_type": "markdown",
   "metadata": {},
   "source": [
    "We'll consider a Tikhonov inspired procedure where we firstly project our dataset over the space spanned by the eigenvectors of the sheaf laplacian: namely $U$ the matrix collecting this eigenvectors we have \n",
    "\\begin{equation}\n",
    "    \\hat{x} = U^T x\n",
    "\\end{equation}\n",
    "\n",
    "So that defining $h(\\lambda) = \\frac{1}{1 + 10\\lambda}$ and $H = \\mathrm{diag}\\{h(\\lambda)\\}_{\\lambda}$, we now have\n",
    "\n",
    "\\begin{equation}\n",
    "    \\hat{y} = H(\\Lambda) \\hat{x}\n",
    "\\end{equation}\n",
    "\n",
    "and finally our dataset is just reprojected back into the vertex domain:\n",
    "\n",
    "\\begin{equation}\n",
    "    y = U H(\\Lambda) \\hat{x} = U H(\\Lambda) U^T x\n",
    "\\end{equation}"
   ]
  },
  {
   "cell_type": "code",
   "execution_count": 4,
   "metadata": {},
   "outputs": [],
   "source": [
    "Lambda, U = np.linalg.eig(L_f)\n",
    "H = 1/(1 + 10*Lambda)"
   ]
  },
  {
   "cell_type": "code",
   "execution_count": 5,
   "metadata": {},
   "outputs": [],
   "source": [
    "Y = U @ np.diag(H) @ U.T @ X\n",
    "\n",
    "#Y += np.random.normal(0, 10e-2, size=Y.shape)"
   ]
  },
  {
   "cell_type": "code",
   "execution_count": 6,
   "metadata": {},
   "outputs": [
    {
     "data": {
      "text/plain": [
       "15537.127389250383"
      ]
     },
     "execution_count": 6,
     "metadata": {},
     "output_type": "execute_result"
    }
   ],
   "source": [
    "np.trace(X.T @ L_f @ X)"
   ]
  },
  {
   "cell_type": "code",
   "execution_count": 7,
   "metadata": {},
   "outputs": [
    {
     "data": {
      "text/plain": [
       "10.704190403435613"
      ]
     },
     "execution_count": 7,
     "metadata": {},
     "output_type": "execute_result"
    }
   ],
   "source": [
    "np.trace(Y.T @ L_f @ Y)"
   ]
  },
  {
   "cell_type": "code",
   "execution_count": 18,
   "metadata": {},
   "outputs": [
    {
     "name": "stdout",
     "output_type": "stream",
     "text": [
      "4.345419886375109 2.7174357389526924\n",
      "(0, 1) True 1.235773733562942\n",
      "4.032246595721804 2.7174357389526924\n",
      "(0, 3) True 1.4739273838766742\n",
      "4.817299948004261 2.7174357389526924\n",
      "(0, 6) True 1.3501755933947872\n",
      "4.4156628954647354 2.040136448727908\n",
      "(1, 2) True 1.1967230469471044\n",
      "2.4152050051448235 2.040136448727908\n",
      "(1, 5) True 1.137978203289909\n",
      "4.632258183962418 1.9476133171351953\n",
      "(2, 4) True 1.1390937486964174\n",
      "2.8216049154338676 1.6046554989310529\n",
      "(4, 6) True 1.0038338437161096\n",
      "2.0020220752138256 1.2505056345015337\n",
      "(5, 6) True 0.9102334040992546\n"
     ]
    }
   ],
   "source": [
    "for edge in edges:\n",
    "    u = edge[0]\n",
    "    v = edge[1]\n",
    "\n",
    "    X_u = Y[u*d:(u+1)*d,:]\n",
    "    X_v = Y[v*d:(v+1)*d,:]\n",
    "\n",
    "    Fu = F[edge][u]\n",
    "    Fv = F[edge][v]\n",
    "    print(np.linalg.norm(X_u - Fu @ X_u),np.linalg.norm(X_u))\n",
    "    print(edge, edge in edges, np.linalg.norm(Fu @ X_u - Fv @ X_v ))"
   ]
  },
  {
   "cell_type": "code",
   "execution_count": 20,
   "metadata": {},
   "outputs": [
    {
     "data": {
      "text/plain": [
       "array([5.72492039, 3.05845238, 1.26802309])"
      ]
     },
     "execution_count": 20,
     "metadata": {},
     "output_type": "execute_result"
    }
   ],
   "source": [
    "np.linalg.eigvals(Fu.T @ Fu)"
   ]
  },
  {
   "cell_type": "markdown",
   "metadata": {},
   "source": [
    "____________"
   ]
  },
  {
   "cell_type": "code",
   "execution_count": 9,
   "metadata": {},
   "outputs": [],
   "source": [
    "def premultiplier(Xu, Xv, d, beta = 1e-3):\n",
    "    A11 = np.kron((Xu @ Xu.T), np.eye(d)) + beta * np.eye(d**2)\n",
    "    A12 = - np.kron((Xu @ Xv.T), np.eye(d))\n",
    "    A21 = - np.kron((Xv @ Xu.T), np.eye(d))\n",
    "    A22 = np.kron((Xv @ Xv.T), np.eye(d)) + beta * np.eye(d**2)\n",
    "\n",
    "    return np.block([[A11, A12], [A21, A22]])\n",
    "\n",
    "def solver(Xu, Xv, d): \n",
    "    A = premultiplier(Xu, Xv, d)\n",
    "    b = np.block([[np.eye(d).flatten().reshape(-1,1)],[np.eye(d).flatten().reshape(-1,1)]])\n",
    "\n",
    "    sol = np.linalg.solve(A,b)\n",
    "\n",
    "    Fu = sol[0:d*d,:]\n",
    "    Fv = sol[d*d:,:]\n",
    "\n",
    "    return Fu.reshape(d,d), Fv.reshape(d,d)\n",
    "\n",
    "def KKT_solver(V, mu, Y, d):\n",
    "    T = 0\n",
    "\n",
    "    H = {\n",
    "        edge : {\n",
    "            edge[0] : None,\n",
    "            edge[1] : None\n",
    "        }\n",
    "    for edge in combinations(range(V), 2)\n",
    "    }\n",
    "\n",
    "    for e in combinations(range(V),2):\n",
    "        u = e[0]\n",
    "        v = e[1]\n",
    "\n",
    "        X_u = Y[u*d:(u+1)*d,:]\n",
    "        X_v = Y[v*d:(v+1)*d,:]\n",
    "\n",
    "        Fu, Fv = solver(X_u, X_v, d)\n",
    "\n",
    "        H[e][u] = Fu\n",
    "        H[e][v] = Fv\n",
    "        \n",
    "        T += np.trace(H[e][u]) + np.trace(H[e][v])\n",
    "\n",
    "    F = {\n",
    "        edge : {\n",
    "            edge[0] : - mu/T * (H[edge][edge[0]]),\n",
    "            edge[1] : - mu/T * (H[edge][edge[1]])\n",
    "        }\n",
    "    for edge in combinations(range(V), 2)\n",
    "    }\n",
    "    \n",
    "    return F"
   ]
  },
  {
   "cell_type": "code",
   "execution_count": 10,
   "metadata": {},
   "outputs": [],
   "source": [
    "maps_ = KKT_solver(V, 70, Y, 3)"
   ]
  },
  {
   "cell_type": "code",
   "execution_count": 11,
   "metadata": {},
   "outputs": [],
   "source": [
    "B_hat_2 = np.zeros((d*E, d*V))\n",
    "\n",
    "for i, edge in enumerate(edges):\n",
    "\n",
    "    u = edge[0] \n",
    "    v = edge[1] \n",
    "\n",
    "    B_u = maps_[edge][u]\n",
    "    B_v = maps_[edge][v]\n",
    "\n",
    "    B_hat_2[i*d:(i+1)*d, u*d:(u+1)*d] = B_u\n",
    "    B_hat_2[i*d:(i+1)*d, v*d:(v+1)*d] = - B_v\n",
    "\n",
    "# Sheaf Laplacian\n",
    "\n",
    "L_f_hat_2 = B_hat_2.T @ B_hat_2"
   ]
  },
  {
   "cell_type": "code",
   "execution_count": 12,
   "metadata": {},
   "outputs": [
    {
     "data": {
      "text/plain": [
       "168.98145120122294"
      ]
     },
     "execution_count": 12,
     "metadata": {},
     "output_type": "execute_result"
    }
   ],
   "source": [
    "np.trace(Y.T @ L_f_hat_2 @ Y)"
   ]
  },
  {
   "cell_type": "code",
   "execution_count": 13,
   "metadata": {},
   "outputs": [],
   "source": [
    "E0 = len(edges)\n",
    "all_edges = list(combinations(range(V), 2))\n",
    "\n",
    "energies = {\n",
    "    e : 0\n",
    "    for e in all_edges\n",
    "    }\n",
    "\n",
    "for e in all_edges:\n",
    "    X_u = Y[d*e[0]:(e[0]+1)*d,:]\n",
    "    X_v = Y[d*e[1]:(e[1]+1)*d,:]\n",
    "\n",
    "    energies[e] = np.linalg.norm(maps_[e][e[0]] @ X_u - maps_[e][e[1]] @ X_v)\n",
    "\n",
    "retrieved = sorted(energies.items(), key=lambda x:x[1])\n",
    "\n",
    "acc = len(set(list(map(lambda x: x[0], retrieved[:E0]))).intersection(set(edges[:E0]))) / E0\n",
    "\n",
    "edges_subset = list(set(list(map(lambda x: x[0], retrieved[:E0]))).intersection(set(edges[:E0])))"
   ]
  },
  {
   "cell_type": "code",
   "execution_count": 14,
   "metadata": {},
   "outputs": [
    {
     "data": {
      "text/plain": [
       "[((0, 2), 0.34011503927084397),\n",
       " ((0, 5), 0.42636625349396057),\n",
       " ((3, 5), 0.4610516618600957),\n",
       " ((2, 5), 0.48884067473700377),\n",
       " ((2, 3), 0.4977318302758919),\n",
       " ((1, 4), 0.5753857466730101),\n",
       " ((1, 6), 0.5787263722418954),\n",
       " ((1, 3), 0.6130792174923494),\n",
       " ((2, 6), 0.7191054267883448),\n",
       " ((3, 6), 0.8992570261862826),\n",
       " ((0, 6), 1.2794606452023207),\n",
       " ((3, 4), 1.2921756017476476),\n",
       " ((0, 1), 1.6416977712069984),\n",
       " ((4, 5), 1.6539725676448278),\n",
       " ((0, 4), 1.783072196212106),\n",
       " ((1, 2), 2.159174840146782),\n",
       " ((4, 6), 3.264826275195797),\n",
       " ((5, 6), 3.7238000441947636),\n",
       " ((0, 3), 5.56975963320549),\n",
       " ((1, 5), 5.934128569943202),\n",
       " ((2, 4), 8.320176828868313)]"
      ]
     },
     "execution_count": 14,
     "metadata": {},
     "output_type": "execute_result"
    }
   ],
   "source": [
    "retrieved"
   ]
  },
  {
   "cell_type": "code",
   "execution_count": 15,
   "metadata": {},
   "outputs": [
    {
     "data": {
      "text/plain": [
       "{0: array([[-3.9859816 , -1.02031674,  0.27664241],\n",
       "        [ 1.01350436, -0.63569311,  0.70183677],\n",
       "        [-0.08200074,  0.00933178, -0.53037381]]),\n",
       " 1: array([[ 0.06595382, -0.39388521,  0.64264961],\n",
       "        [ 0.66152901,  1.164728  ,  0.71426141],\n",
       "        [ 0.1032471 ,  0.54461355,  1.50344181]])}"
      ]
     },
     "execution_count": 15,
     "metadata": {},
     "output_type": "execute_result"
    }
   ],
   "source": [
    "F[(0,1)]"
   ]
  },
  {
   "cell_type": "markdown",
   "metadata": {},
   "source": [
    "____________"
   ]
  },
  {
   "cell_type": "code",
   "execution_count": 2,
   "metadata": {},
   "outputs": [],
   "source": [
    "class SheafSolver():\n",
    "    def __init__(\n",
    "            self, \n",
    "            d, \n",
    "            V, \n",
    "            mu, \n",
    "            gamma, \n",
    "            alpha, \n",
    "            beta, \n",
    "            Y):\n",
    "\n",
    "        # Sheaf structure\n",
    "        self.d = d\n",
    "        self.V = V\n",
    "\n",
    "        # ADMM hyperparameters\n",
    "        self.mu = mu\n",
    "        self.gamma = gamma\n",
    "\n",
    "        # Sparsification hyperparameters\n",
    "        self.alpha = alpha\n",
    "        self.beta = beta\n",
    "\n",
    "        # Observsed signals\n",
    "        self.Y = Y\n",
    "        \n",
    "        # Initialization\n",
    "        self.F = {\n",
    "            edge: {\n",
    "                edge[0]: None,\n",
    "                edge[1]: None\n",
    "            } for edge in combinations(range(self.V),2)\n",
    "        }\n",
    "\n",
    "        # Setup\n",
    "        self.BlockMatricesPrecomp()\n",
    "\n",
    "    def BlockMatricesPrecomp(self):\n",
    "        self.A = {edge:None for edge in combinations(range(self.V),2)}\n",
    "        for edge in tqdm(combinations(range(self.V),2)):\n",
    "            u = edge[0]\n",
    "            v = edge[1]\n",
    "\n",
    "            Yu = self.Y[u*self.d:(u+1)*self.d,:]\n",
    "            Yv = self.Y[v*self.d:(v+1)*self.d,:]\n",
    "\n",
    "            A11 = np.kron(Yu @ Yu.T, np.eye(self.d)) + 1e-3*np.eye(self.d**2)\n",
    "            A12 = - np.kron(Yu @ Yv.T, np.eye(self.d)) + self.gamma*np.eye(self.d**2)\n",
    "            A21 = - np.kron(Yv @ Yu.T, np.eye(self.d)) + self.gamma*np.eye(self.d**2)\n",
    "            A22 = np.kron(Yv @ Yv.T, np.eye(self.d)) + 1e-3 *np.eye(self.d**2)\n",
    "\n",
    "            A = np.block([[A11, A12],[A21, A22]])\n",
    "            self.A[edge] = np.linalg.inv(A)\n",
    "\n",
    "    # Phase 1 - Optimize the restriction maps\n",
    "\n",
    "    def MapsOptimization(self):\n",
    "        for edge in combinations(range(self.V),2):\n",
    "            b = np.block([[- self.mu *np.eye(self.d).flatten().reshape(-1,1)],\n",
    "                          [- self.mu *np.eye(self.d).flatten().reshape(-1,1)]])\n",
    "\n",
    "            sol = np.linalg.solve(self.A[edge],b)\n",
    "\n",
    "            self.F[edge][edge[0]] = sol[0:self.d*self.d,:].reshape(self.d,self.d)\n",
    "            self.F[edge][edge[1]] = sol[self.d*self.d:,:].reshape(self.d,self.d)\n",
    "\n",
    "    # Phase 2 - Sparsify the graph (Kalofolias)\n",
    "\n",
    "    def PairwiseDistances(self):\n",
    "        self.Z = np.zeros((self.V,self.V))\n",
    "        for u in range(self.V):\n",
    "            for v in range(u+1, self.V):\n",
    "                Yu = self.Y[u*self.d:(u+1)*self.d,:]\n",
    "                Yv = self.Y[v*self.d:(v+1)*self.d,:]\n",
    "\n",
    "                dist = np.linalg.norm(self.F[(u,v)][u] @ Yu - self.F[(u,v)][v] @ Yv)\n",
    "\n",
    "                self.Z[u,v] = dist\n",
    "                self.Z[v,u] = dist\n",
    "\n",
    "    def KalofoliasOptimization(self):\n",
    "        # Define the variable\n",
    "        W = cp.Variable((self.V, self.V), symmetric=True)\n",
    "\n",
    "        # Constraints: diagonal elements must be zero\n",
    "        constraints = [cp.diag(W) == 0]\n",
    "\n",
    "        # Objective function components\n",
    "        term1 = cp.norm1(cp.multiply(W, self.Z))  # ||W ∘ Z||_1,1\n",
    "        term2 = - self.alpha * cp.sum(cp.log(cp.sum(W, axis=1)))  # -α * 1^T log(W1)\n",
    "        term3 = (self.beta / 2) * cp.norm(W, 'fro')**2  # (β/2) * ||W||_F^2\n",
    "\n",
    "        # Define the objective\n",
    "        objective = cp.Minimize(term1 + term2 + term3)\n",
    "\n",
    "        # Define the problem\n",
    "        problem = cp.Problem(objective, constraints)\n",
    "\n",
    "        # Solve the problem\n",
    "        problem.solve()\n",
    "\n",
    "        # Return the optimal solution\n",
    "        self.W = W.value\n",
    "        \n",
    "    def EdgeRetrieval(self):\n",
    "        for u in range(self.V):\n",
    "            for v in range(u+1,V):\n",
    "                if self.W[u,v] < 1e-5:\n",
    "                    self.W[u,v] = 0\n",
    "                    self.W[v,u] = 0\n",
    "        retrieved_edges = []\n",
    "\n",
    "        for u in range(V):\n",
    "            for v in range(u,V):\n",
    "                if self.W[u,v] != 0:\n",
    "                    retrieved_edges.append((u,v))\n",
    "\n",
    "        self.retrieved_edges = retrieved_edges\n",
    "    \n",
    "    def MapsCorrection(self):\n",
    "        for u in range(self.V):\n",
    "            for v in range(u+1,V):\n",
    "                self.F[(u,v)][u] *= self.W[u,v]**2\n",
    "                self.F[(u,v)][v] *= self.W[u,v]**2 \n",
    "\n",
    "    def Learning(self):\n",
    "        self.MapsOptimization()\n",
    "        self.PairwiseDistances()\n",
    "        self.KalofoliasOptimization()\n",
    "        self.EdgeRetrieval()\n",
    "        self.MapsCorrection()"
   ]
  },
  {
   "cell_type": "code",
   "execution_count": 8,
   "metadata": {},
   "outputs": [],
   "source": [
    "# Let's generate a toy topology for our example\n",
    "\n",
    "V = 100\n",
    "nodes = np.arange(V)\n",
    "\n",
    "# Probability p = 1.1 * log(V) / V\n",
    "p = 1.1 * np.log(V) / V\n",
    "\n",
    "edges = []\n",
    "for u in range(V):\n",
    "    for v in range(u+1, V):\n",
    "        s = np.random.rand()\n",
    "        if s < p:\n",
    "            edges.append((u,v))\n",
    "\n",
    "\n",
    "d = 10                                           # Node and edges stalks dimension\n",
    "E = len(edges)\n",
    "F = {\n",
    "    e:{\n",
    "        e[0]:np.random.randn(d,d),\n",
    "        e[1]:np.random.randn(d,d)\n",
    "        } \n",
    "        for e in edges\n",
    "    }                                           # Incidency linear maps\n",
    "\n",
    "# Sheaf representation \n",
    "\n",
    "# Coboundary map\n",
    "\n",
    "B = np.zeros((d*E, d*V))\n",
    "\n",
    "for i in range(len(edges)):\n",
    "    edge = edges[i]\n",
    "\n",
    "    u = edge[0] \n",
    "    v = edge[1] \n",
    "\n",
    "    B_u = F[edge][u]\n",
    "    B_v = F[edge][v]\n",
    "\n",
    "    B[i*d:(i+1)*d, u*d:(u+1)*d] = B_u\n",
    "    B[i*d:(i+1)*d, v*d:(v+1)*d] = - B_v\n",
    "\n",
    "# Sheaf Laplacian\n",
    "\n",
    "L_f = B.T @ B"
   ]
  },
  {
   "cell_type": "code",
   "execution_count": 9,
   "metadata": {},
   "outputs": [],
   "source": [
    "N = 100\n",
    "X = np.random.randn(V*d,N)"
   ]
  },
  {
   "cell_type": "code",
   "execution_count": 10,
   "metadata": {},
   "outputs": [],
   "source": [
    "Lambda, U = np.linalg.eig(L_f)\n",
    "H = 1/(1 + 10*Lambda)"
   ]
  },
  {
   "cell_type": "code",
   "execution_count": 11,
   "metadata": {},
   "outputs": [],
   "source": [
    "Y = U @ np.diag(H) @ U.T @ X"
   ]
  },
  {
   "cell_type": "code",
   "execution_count": 44,
   "metadata": {},
   "outputs": [
    {
     "name": "stderr",
     "output_type": "stream",
     "text": [
      "4950it [00:35, 138.83it/s]\n"
     ]
    }
   ],
   "source": [
    "solver = SheafSolver(d, V, 1, 10, 3, 5, Y)"
   ]
  },
  {
   "cell_type": "code",
   "execution_count": 45,
   "metadata": {},
   "outputs": [],
   "source": [
    "solver.Learning()"
   ]
  },
  {
   "cell_type": "code",
   "execution_count": 46,
   "metadata": {},
   "outputs": [
    {
     "data": {
      "text/plain": [
       "0.7759336099585062"
      ]
     },
     "execution_count": 46,
     "metadata": {},
     "output_type": "execute_result"
    }
   ],
   "source": [
    "len(set(solver.retrieved_edges).intersection(set(edges)))/len(edges)"
   ]
  },
  {
   "cell_type": "code",
   "execution_count": 47,
   "metadata": {},
   "outputs": [
    {
     "data": {
      "text/plain": [
       "0.0650887573964497"
      ]
     },
     "execution_count": 47,
     "metadata": {},
     "output_type": "execute_result"
    }
   ],
   "source": [
    "len(set(solver.retrieved_edges).intersection(set(edges)))/len(solver.retrieved_edges)"
   ]
  },
  {
   "cell_type": "code",
   "execution_count": null,
   "metadata": {},
   "outputs": [],
   "source": []
  }
 ],
 "metadata": {
  "kernelspec": {
   "display_name": "Python 3",
   "language": "python",
   "name": "python3"
  },
  "language_info": {
   "codemirror_mode": {
    "name": "ipython",
    "version": 3
   },
   "file_extension": ".py",
   "mimetype": "text/x-python",
   "name": "python",
   "nbconvert_exporter": "python",
   "pygments_lexer": "ipython3",
   "version": "3.10.7"
  }
 },
 "nbformat": 4,
 "nbformat_minor": 2
}
