{
 "cells": [
  {
   "cell_type": "markdown",
   "metadata": {},
   "source": [
    "### Generating a toy-case topology"
   ]
  },
  {
   "cell_type": "code",
   "execution_count": 1,
   "metadata": {},
   "outputs": [],
   "source": [
    "import numpy as np \n",
    "import cvxpy as cp\n",
    "\n",
    "from itertools import combinations\n",
    "from tqdm import tqdm"
   ]
  },
  {
   "cell_type": "code",
   "execution_count": 2,
   "metadata": {},
   "outputs": [],
   "source": [
    "# Let's generate a toy topology for our example\n",
    "\n",
    "nodes = [i for i in range(7)]\n",
    "edges = [\n",
    "    (0,1),\n",
    "    (0,3),\n",
    "    (0,6),\n",
    "    (1,2),\n",
    "    (1,5),\n",
    "    (2,4),\n",
    "    (4,6),\n",
    "    (5,6)\n",
    "]\n",
    "\n",
    "V = 7\n",
    "E = len(edges)\n",
    "\n",
    "d = 3                                           # Node and edges stalks dimension\n",
    "\n",
    "F = {\n",
    "    e:{\n",
    "        e[0]:np.random.randn(d,d),\n",
    "        e[1]:np.random.randn(d,d)\n",
    "        } \n",
    "        for e in edges\n",
    "    }                                           # Incidency linear maps\n",
    "\n",
    "# Sheaf representation \n",
    "\n",
    "# Coboundary map\n",
    "\n",
    "B = np.zeros((d*E, d*V))\n",
    "\n",
    "for i in range(len(edges)):\n",
    "    edge = edges[i]\n",
    "\n",
    "    u = edge[0] \n",
    "    v = edge[1] \n",
    "\n",
    "    B_u = F[edge][u]\n",
    "    B_v = F[edge][v]\n",
    "\n",
    "    B[i*d:(i+1)*d, u*d:(u+1)*d] = B_u\n",
    "    B[i*d:(i+1)*d, v*d:(v+1)*d] = - B_v\n",
    "\n",
    "# Sheaf Laplacian\n",
    "\n",
    "L_f = B.T @ B"
   ]
  },
  {
   "cell_type": "markdown",
   "metadata": {},
   "source": [
    "# Generating a smooth signals dataset "
   ]
  },
  {
   "cell_type": "markdown",
   "metadata": {},
   "source": [
    "*(from Hansen J., \"Learning sheaf Laplacians from smooth signals\")* \n",
    "\n",
    "In order to retrieve a dataset of smoothsignals, first of all we sample random gaussians vectors on the nodes of the graph. Then we smooth them according to their expansion in terms of the eigenvectors of the sheaf Laplacian $L_0$."
   ]
  },
  {
   "cell_type": "markdown",
   "metadata": {},
   "source": [
    "So let's firstly define a dataset of random gaussian vectors. "
   ]
  },
  {
   "cell_type": "code",
   "execution_count": 3,
   "metadata": {},
   "outputs": [],
   "source": [
    "N = 100\n",
    "X = np.random.randn(V*d,N)"
   ]
  },
  {
   "cell_type": "markdown",
   "metadata": {},
   "source": [
    "Now we'll use the Fourier-domain embedded in the Laplacian spectrum. "
   ]
  },
  {
   "cell_type": "markdown",
   "metadata": {},
   "source": [
    "We'll consider a Tikhonov inspired procedure where we firstly project our dataset over the space spanned by the eigenvectors of the sheaf laplacian: namely $U$ the matrix collecting this eigenvectors we have \n",
    "\\begin{equation}\n",
    "    \\hat{x} = U^T x\n",
    "\\end{equation}\n",
    "\n",
    "So that defining $h(\\lambda) = \\frac{1}{1 + 10\\lambda}$ and $H = \\mathrm{diag}\\{h(\\lambda)\\}_{\\lambda}$, we now have\n",
    "\n",
    "\\begin{equation}\n",
    "    \\hat{y} = H(\\Lambda) \\hat{x}\n",
    "\\end{equation}\n",
    "\n",
    "and finally our dataset is just reprojected back into the vertex domain:\n",
    "\n",
    "\\begin{equation}\n",
    "    y = U H(\\Lambda) \\hat{x} = U H(\\Lambda) U^T x\n",
    "\\end{equation}"
   ]
  },
  {
   "cell_type": "code",
   "execution_count": 4,
   "metadata": {},
   "outputs": [],
   "source": [
    "Lambda, U = np.linalg.eig(L_f)\n",
    "H = 1/(1 + 10*Lambda)"
   ]
  },
  {
   "cell_type": "code",
   "execution_count": 5,
   "metadata": {},
   "outputs": [],
   "source": [
    "Y = U @ np.diag(H) @ U.T @ X\n",
    "\n",
    "Y += np.random.normal(0, 10e-2, size=Y.shape)"
   ]
  },
  {
   "cell_type": "code",
   "execution_count": 6,
   "metadata": {},
   "outputs": [
    {
     "data": {
      "text/plain": [
       "16918.49606176653"
      ]
     },
     "execution_count": 6,
     "metadata": {},
     "output_type": "execute_result"
    }
   ],
   "source": [
    "np.trace(X.T @ L_f @ X)"
   ]
  },
  {
   "cell_type": "code",
   "execution_count": 7,
   "metadata": {},
   "outputs": [
    {
     "data": {
      "text/plain": [
       "173.17412379035653"
      ]
     },
     "execution_count": 7,
     "metadata": {},
     "output_type": "execute_result"
    }
   ],
   "source": [
    "np.trace(Y.T @ L_f @ Y)"
   ]
  },
  {
   "cell_type": "markdown",
   "metadata": {},
   "source": [
    "____________"
   ]
  },
  {
   "cell_type": "code",
   "execution_count": 8,
   "metadata": {},
   "outputs": [],
   "source": [
    "def solver(Y, d, edges, N):\n",
    "\n",
    "    obj = 0\n",
    "    trace = 0\n",
    "\n",
    "    Fs = {\n",
    "        edge: {\n",
    "            edge[0]:None,\n",
    "            edge[1]:None\n",
    "        }\n",
    "        for edge in edges\n",
    "    }\n",
    "\n",
    "    # Loop over edges to define variables and construct objective\n",
    "    for edge in edges:\n",
    "        u = edge[0]\n",
    "        v = edge[1]\n",
    "\n",
    "        Y_u = Y[u*d:(u+1)*d, :]\n",
    "        Y_v = Y[v*d:(v+1)*d, :]\n",
    "\n",
    "        # Define optimization variables for each edge\n",
    "        Fs[edge][u] = cp.Variable((d, d))\n",
    "        Fs[edge][v] = cp.Variable((d, d))\n",
    "\n",
    "        # Update objective and trace\n",
    "        obj += cp.norm(Fs[edge][u] @ Y_u - Fs[edge][v] @ Y_v, 'fro')**2\n",
    "        trace += cp.trace(Fs[edge][u]) + cp.trace(Fs[edge][v])\n",
    "\n",
    "    # Define the trace constraint\n",
    "    trace_constraint = (trace == N)\n",
    "\n",
    "    # Define the problem\n",
    "    problem = cp.Problem(cp.Minimize(obj), [trace_constraint])\n",
    "\n",
    "    # Solve the problem\n",
    "    problem.solve(solver=cp.MOSEK,\n",
    "                  mosek_params = { 'MSK_IPAR_INTPNT_SOLVE_FORM': 'MSK_SOLVE_PRIMAL' },\n",
    "                  verbose=True)\n",
    "\n",
    "    # Return the solution\n",
    "    return Fs"
   ]
  },
  {
   "cell_type": "code",
   "execution_count": 28,
   "metadata": {},
   "outputs": [
    {
     "name": "stdout",
     "output_type": "stream",
     "text": [
      "===============================================================================\n",
      "                                     CVXPY                                     \n",
      "                                     v1.4.2                                    \n",
      "===============================================================================\n",
      "(CVXPY) Sep 17 12:13:39 PM: Your problem has 144 variables, 1 constraints, and 0 parameters.\n",
      "(CVXPY) Sep 17 12:13:39 PM: It is compliant with the following grammars: DCP, DQCP\n",
      "(CVXPY) Sep 17 12:13:39 PM: (If you need to solve this problem multiple times, but with different data, consider using parameters.)\n",
      "(CVXPY) Sep 17 12:13:39 PM: CVXPY will first compile your problem; then, it will invoke a numerical solver to obtain a solution.\n",
      "(CVXPY) Sep 17 12:13:39 PM: Your problem is compiled with the CPP canonicalization backend.\n",
      "-------------------------------------------------------------------------------\n",
      "                                  Compilation                                  \n",
      "-------------------------------------------------------------------------------\n",
      "(CVXPY) Sep 17 12:13:39 PM: Compiling problem (target solver=MOSEK).\n",
      "(CVXPY) Sep 17 12:13:39 PM: Reduction chain: Dcp2Cone -> CvxAttr2Constr -> ConeMatrixStuffing -> MOSEK\n",
      "(CVXPY) Sep 17 12:13:39 PM: Applying reduction Dcp2Cone\n",
      "(CVXPY) Sep 17 12:13:39 PM: Applying reduction CvxAttr2Constr\n",
      "(CVXPY) Sep 17 12:13:39 PM: Applying reduction ConeMatrixStuffing\n",
      "(CVXPY) Sep 17 12:13:39 PM: Applying reduction MOSEK\n",
      "(CVXPY) Sep 17 12:13:39 PM: Finished problem compilation (took 3.854e-02 seconds).\n",
      "-------------------------------------------------------------------------------\n",
      "                                Numerical solver                               \n",
      "-------------------------------------------------------------------------------\n",
      "(CVXPY) Sep 17 12:13:39 PM: Invoking solver MOSEK  to obtain a solution.\n",
      "\n",
      "\n",
      "(CVXPY) Sep 17 12:13:39 PM: Problem\n",
      "(CVXPY) Sep 17 12:13:39 PM:   Name                   :                 \n",
      "(CVXPY) Sep 17 12:13:39 PM:   Objective sense        : maximize        \n",
      "(CVXPY) Sep 17 12:13:39 PM:   Type                   : CONIC (conic optimization problem)\n",
      "(CVXPY) Sep 17 12:13:39 PM:   Constraints            : 160             \n",
      "(CVXPY) Sep 17 12:13:39 PM:   Affine conic cons.     : 0               \n",
      "(CVXPY) Sep 17 12:13:39 PM:   Disjunctive cons.      : 0               \n",
      "(CVXPY) Sep 17 12:13:39 PM:   Cones                  : 16              \n",
      "(CVXPY) Sep 17 12:13:39 PM:   Scalar variables       : 2433            \n",
      "(CVXPY) Sep 17 12:13:39 PM:   Matrix variables       : 0               \n",
      "(CVXPY) Sep 17 12:13:39 PM:   Integer variables      : 0               \n",
      "(CVXPY) Sep 17 12:13:39 PM: \n",
      "(CVXPY) Sep 17 12:13:39 PM: Optimizer started.\n",
      "(CVXPY) Sep 17 12:13:39 PM: Presolve started.\n",
      "(CVXPY) Sep 17 12:13:39 PM: Linear dependency checker started.\n",
      "(CVXPY) Sep 17 12:13:39 PM: Linear dependency checker terminated.\n",
      "(CVXPY) Sep 17 12:13:39 PM: Eliminator started.\n",
      "(CVXPY) Sep 17 12:13:39 PM: Freed constraints in eliminator : 0\n",
      "(CVXPY) Sep 17 12:13:39 PM: Eliminator terminated.\n",
      "(CVXPY) Sep 17 12:13:39 PM: Eliminator - tries                  : 1                 time                   : 0.00            \n",
      "(CVXPY) Sep 17 12:13:39 PM: Lin. dep.  - tries                  : 1                 time                   : 0.00            \n",
      "(CVXPY) Sep 17 12:13:39 PM: Lin. dep.  - primal attempts        : 1                 successes              : 1               \n",
      "(CVXPY) Sep 17 12:13:39 PM: Lin. dep.  - dual attempts          : 0                 successes              : 0               \n",
      "(CVXPY) Sep 17 12:13:39 PM: Lin. dep.  - primal deps.           : 0                 dual deps.             : 0               \n",
      "(CVXPY) Sep 17 12:13:39 PM: Presolve terminated. Time: 0.00    \n",
      "(CVXPY) Sep 17 12:13:39 PM: Optimizer  - threads                : 8               \n",
      "(CVXPY) Sep 17 12:13:39 PM: Optimizer  - solved problem         : the primal      \n",
      "(CVXPY) Sep 17 12:13:39 PM: Optimizer  - Constraints            : 160             \n",
      "(CVXPY) Sep 17 12:13:39 PM: Optimizer  - Cones                  : 17              \n",
      "(CVXPY) Sep 17 12:13:39 PM: Optimizer  - Scalar variables       : 2434              conic                  : 2434            \n",
      "(CVXPY) Sep 17 12:13:39 PM: Optimizer  - Semi-definite variables: 0                 scalarized             : 0               \n",
      "(CVXPY) Sep 17 12:13:39 PM: Factor     - setup time             : 0.00            \n",
      "(CVXPY) Sep 17 12:13:39 PM: Factor     - dense det. time        : 0.00              GP order time          : 0.00            \n",
      "(CVXPY) Sep 17 12:13:39 PM: Factor     - nonzeros before factor : 2544              after factor           : 2544            \n",
      "(CVXPY) Sep 17 12:13:39 PM: Factor     - dense dim.             : 0                 flops                  : 1.66e+05        \n",
      "(CVXPY) Sep 17 12:13:39 PM: ITE PFEAS    DFEAS    GFEAS    PRSTATUS   POBJ              DOBJ              MU       TIME  \n",
      "(CVXPY) Sep 17 12:13:39 PM: 0   2.5e-01  7.0e+01  9.0e+00  0.00e+00   -8.000000000e+00  -0.000000000e+00  1.0e+00  0.02  \n",
      "(CVXPY) Sep 17 12:13:39 PM: 1   3.4e-02  9.7e+00  2.8e+00  -8.22e-01  1.820372373e+01   2.019056288e+01   1.4e-01  0.03  \n",
      "(CVXPY) Sep 17 12:13:39 PM: 2   5.1e-03  1.4e+00  5.2e-01  -5.00e-01  9.676205126e+01   9.152330777e+01   2.1e-02  0.03  \n",
      "(CVXPY) Sep 17 12:13:39 PM: 3   2.3e-04  6.5e-02  4.8e-03  6.17e-01   1.269241994e+02   1.267394812e+02   9.2e-04  0.03  \n",
      "(CVXPY) Sep 17 12:13:39 PM: 4   9.4e-07  2.6e-04  1.1e-06  9.92e-01   1.279292632e+02   1.279288041e+02   3.8e-06  0.03  \n",
      "(CVXPY) Sep 17 12:13:39 PM: 5   3.0e-08  8.4e-06  6.3e-09  1.00e+00   1.279322841e+02   1.279322697e+02   1.2e-07  0.03  \n",
      "(CVXPY) Sep 17 12:13:39 PM: 6   4.1e-09  1.1e-06  3.1e-10  1.00e+00   1.279323890e+02   1.279323871e+02   1.6e-08  0.03  \n",
      "(CVXPY) Sep 17 12:13:39 PM: 7   7.9e-10  2.2e-07  2.7e-11  1.00e+00   1.279324026e+02   1.279324022e+02   3.2e-09  0.03  \n",
      "(CVXPY) Sep 17 12:13:39 PM: 8   1.6e-10  4.4e-08  2.4e-12  1.00e+00   1.279324053e+02   1.279324052e+02   6.3e-10  0.05  \n",
      "(CVXPY) Sep 17 12:13:39 PM: Optimizer terminated. Time: 0.06    \n",
      "(CVXPY) Sep 17 12:13:39 PM: \n",
      "(CVXPY) Sep 17 12:13:39 PM: \n",
      "(CVXPY) Sep 17 12:13:39 PM: Interior-point solution summary\n",
      "(CVXPY) Sep 17 12:13:39 PM:   Problem status  : PRIMAL_AND_DUAL_FEASIBLE\n",
      "(CVXPY) Sep 17 12:13:39 PM:   Solution status : OPTIMAL\n",
      "(CVXPY) Sep 17 12:13:39 PM:   Primal.  obj: 1.2793240530e+02    nrm: 1e+01    Viol.  con: 1e-08    var: 0e+00    cones: 0e+00  \n",
      "(CVXPY) Sep 17 12:13:39 PM:   Dual.    obj: 1.2793240522e+02    nrm: 2e+01    Viol.  con: 0e+00    var: 8e-07    cones: 0e+00  \n",
      "-------------------------------------------------------------------------------\n",
      "                                    Summary                                    \n",
      "-------------------------------------------------------------------------------\n",
      "(CVXPY) Sep 17 12:13:39 PM: Problem status: optimal\n",
      "(CVXPY) Sep 17 12:13:39 PM: Optimal value: 1.279e+02\n",
      "(CVXPY) Sep 17 12:13:39 PM: Compilation took 3.854e-02 seconds\n",
      "(CVXPY) Sep 17 12:13:39 PM: Solver (including time spent in interface) took 7.724e-02 seconds\n",
      "Average reconstruction error for trace barrier with N = 100: 0.08668375198942073\n"
     ]
    }
   ],
   "source": [
    "Fs = solver(Y, d, edges, 70)\n",
    "B_hat = np.zeros((d*E, d*V))\n",
    "\n",
    "for i in range(len(edges)):\n",
    "    edge = edges[i]\n",
    "\n",
    "    u = edge[0] \n",
    "    v = edge[1] \n",
    "\n",
    "    B_u = Fs[edge][u].value\n",
    "    B_v = Fs[edge][v].value\n",
    "\n",
    "    B_hat[i*d:(i+1)*d, u*d:(u+1)*d] = B_u\n",
    "    B_hat[i*d:(i+1)*d, v*d:(v+1)*d] = - B_v\n",
    "\n",
    "# Sheaf Laplacian\n",
    "\n",
    "L_f_hat = B_hat.T @ B_hat\n",
    "print(f'Average reconstruction error for trace barrier with N = {N}: {np.linalg.norm(L_f - L_f_hat) / L_f.size}')"
   ]
  },
  {
   "cell_type": "code",
   "execution_count": 10,
   "metadata": {},
   "outputs": [
    {
     "data": {
      "text/plain": [
       "173.17412379035653"
      ]
     },
     "execution_count": 10,
     "metadata": {},
     "output_type": "execute_result"
    }
   ],
   "source": [
    "np.trace(Y.T @ L_f @ Y)"
   ]
  },
  {
   "cell_type": "code",
   "execution_count": 29,
   "metadata": {},
   "outputs": [
    {
     "data": {
      "text/plain": [
       "127.93240319322629"
      ]
     },
     "execution_count": 29,
     "metadata": {},
     "output_type": "execute_result"
    }
   ],
   "source": [
    "np.trace(Y.T @ L_f_hat @ Y) "
   ]
  },
  {
   "cell_type": "markdown",
   "metadata": {},
   "source": [
    "_______________"
   ]
  },
  {
   "cell_type": "code",
   "execution_count": 59,
   "metadata": {},
   "outputs": [],
   "source": [
    "def premultiplier(Xu, Xv):\n",
    "    uu = np.linalg.pinv(Xu @ Xu.T)\n",
    "    uv = Xu @ Xv.T\n",
    "    vv = np.linalg.pinv(Xv @ Xv.T)\n",
    "    vu = Xv @ Xu.T\n",
    "\n",
    "    return (uu, uv, vv, vu)\n",
    "\n",
    "def chi_u(uu, uv, vv, vu):\n",
    "\n",
    "    return chi_v(uu, uv, vv, vu) @ uv - np.eye(uv.shape[0]) @ vv\n",
    "\n",
    "def chi_v(uu, uv, vv, vu):\n",
    "\n",
    "    return (vv @ vu @ uu + uu) @ np.linalg.pinv(uv @ vv @ vu @ uu - np.eye(uv.shape[0]))"
   ]
  },
  {
   "cell_type": "code",
   "execution_count": 41,
   "metadata": {},
   "outputs": [],
   "source": [
    "def premultiplier(Xu, Xv):\n",
    "    uu = Xu @ Xu.T\n",
    "    uv = Xu @ Xv.T\n",
    "    vv = Xv @ Xv.T\n",
    "    vu = Xv @ Xu.T\n",
    "\n",
    "    return (uu, uv, vv, vu)\n",
    "\n",
    "def chi_u(uu, uv, vv, vu):\n",
    "\n",
    "    return chi_v( uu, uv, vv, vu ) @ (vu + vv) @ np.linalg.pinv( uu + uv)\n",
    "\n",
    "def chi_v(uu, uv, vv, vu):\n",
    "\n",
    "    return ( vu + vv ) @ np.linalg.pinv( uu + uv ) @ uu - vu"
   ]
  },
  {
   "cell_type": "code",
   "execution_count": 49,
   "metadata": {},
   "outputs": [],
   "source": [
    "def premultiplier(Xu, Xv):\n",
    "    uu = np.linalg.inv(Xu @ Xu.T)\n",
    "    uv = Xu @ Xv.T\n",
    "    vv = Xv @ Xv.T\n",
    "    vu = Xv @ Xu.T\n",
    "\n",
    "    return (uu, uv, vv, vu)\n",
    "\n",
    "def chi_u(uu, uv, vv, vu):\n",
    "\n",
    "    return (uu @ uv + np.eye(uu.shape[0])) @ (np.linalg.inv(vu @ uu @ uv - vv) @ vu - np.eye(uu.shape[0])) @ uu \n",
    "\n",
    "def chi_v(uu, uv, vv, vu):\n",
    "\n",
    "    return (uu @ uv + np.eye(uu.shape[0])) @ (np.linalg.inv(vu @ uu @ uv - vv) @ vu)"
   ]
  },
  {
   "cell_type": "code",
   "execution_count": 60,
   "metadata": {},
   "outputs": [],
   "source": [
    "T = 0\n",
    "\n",
    "maps_ = {\n",
    "    edge : {\n",
    "        edge[0] : np.zeros((d,d)),\n",
    "        edge[1] : np.zeros((d,d))\n",
    "    }\n",
    "for edge in edges\n",
    "}"
   ]
  },
  {
   "cell_type": "code",
   "execution_count": 61,
   "metadata": {},
   "outputs": [],
   "source": [
    "for e in edges:\n",
    "    \n",
    "    u = e[0]\n",
    "    v = e[1]\n",
    "\n",
    "    X_u = Y[u*d:(u+1)*d,:]\n",
    "    X_v = Y[v*d:(v+1)*d,:]\n",
    "    \n",
    "    uu, uv, vv, vu = premultiplier(X_u, X_v)\n",
    "\n",
    "    maps_[e][u] = chi_u(uu, uv, vv, vu)\n",
    "    maps_[e][v] = chi_v(uu, uv, vv, vu)\n",
    "    \n",
    "    T += np.trace(maps_[e][u]) + np.trace(maps_[e][v])"
   ]
  },
  {
   "cell_type": "code",
   "execution_count": 62,
   "metadata": {},
   "outputs": [
    {
     "data": {
      "text/plain": [
       "{(0,\n",
       "  1): {0: array([[-2.51920109, -1.49194897, -1.48330757],\n",
       "         [ 1.6049498 ,  0.54502809,  1.53393783],\n",
       "         [-1.13473406, -1.05805019, -1.74397252]]), 1: array([[-1.15664792,  0.46424933, -0.05850676],\n",
       "         [ 0.01242712, -0.86870764,  0.10292434],\n",
       "         [-0.13340224,  0.63958609, -0.88124059]])},\n",
       " (0,\n",
       "  3): {0: array([[-0.46567798,  0.00303673,  0.45687514],\n",
       "         [-0.38395581, -0.57042597, -0.26470322],\n",
       "         [ 0.19754794, -0.1919172 , -0.38220928]]), 3: array([[-0.65111127, -0.28827351,  0.13499319],\n",
       "         [-0.03782091, -0.58006407,  0.08199867],\n",
       "         [ 0.28429744,  0.10689501, -0.81985981]])},\n",
       " (0,\n",
       "  6): {0: array([[-1.4611331 ,  0.27734304, -1.16792285],\n",
       "         [ 0.90708254, -0.99346138,  1.56811421],\n",
       "         [ 0.03431326,  0.02139971, -0.09490457]]), 6: array([[-0.98455901,  0.24196038,  0.1867123 ],\n",
       "         [ 0.14789289, -0.86269656, -0.02660246],\n",
       "         [ 0.13485008,  0.17735056, -0.8644512 ]])},\n",
       " (1,\n",
       "  2): {1: array([[-0.92553332, -0.10185016, -0.04661333],\n",
       "         [ 0.92891116, -0.25572066, -0.15182255],\n",
       "         [-0.13062212, -3.04852047, -1.86901045]]), 2: array([[-0.7288081 ,  0.71024097,  0.13903457],\n",
       "         [ 0.33941828, -0.94601331,  0.18132683],\n",
       "         [-0.01958337,  0.10684278, -0.8926736 ]])},\n",
       " (1,\n",
       "  5): {1: array([[-1.16878366,  0.15872009,  0.02861338],\n",
       "         [ 1.47887614, -1.2083173 ,  0.16913409],\n",
       "         [ 0.91361231,  0.20200662, -1.35264876]]), 5: array([[-0.53954732,  0.55449267,  0.4399327 ],\n",
       "         [ 0.20257552, -1.06879953,  0.13632763],\n",
       "         [ 0.16416582,  0.23256608, -0.94541975]])},\n",
       " (2,\n",
       "  4): {2: array([[-1.35455203, -0.13155448,  0.10232382],\n",
       "         [ 0.01298706, -1.28004542, -0.88434424],\n",
       "         [ 0.38774671, -0.02646452, -2.26901048]]), 4: array([[-0.55875441, -0.08906179,  0.47642438],\n",
       "         [-0.08692295, -0.25181452,  0.26350531],\n",
       "         [ 0.29136267, -0.05410172, -0.65920977]])},\n",
       " (4,\n",
       "  6): {4: array([[-0.78082248,  0.22399252, -0.62951454],\n",
       "         [-0.32562137, -1.44914592, -1.64711471],\n",
       "         [-0.86590406, -0.28279997, -4.25256634]]), 6: array([[-0.83215034,  0.07122409, -0.2986776 ],\n",
       "         [ 0.23303076, -1.38681158,  0.02654325],\n",
       "         [-0.31605946, -0.28174141, -0.92138644]])},\n",
       " (5,\n",
       "  6): {5: array([[-0.62636945,  0.18426609,  0.65702535],\n",
       "         [ 0.42356509, -0.86677069,  0.85811962],\n",
       "         [-0.07052324,  0.20415486, -0.43946998]]), 6: array([[-0.23142675, -0.04072286, -0.15605135],\n",
       "         [-0.15735669, -0.83664936,  0.3481529 ],\n",
       "         [ 0.08290124,  0.26724069, -1.20467859]])}}"
      ]
     },
     "execution_count": 62,
     "metadata": {},
     "output_type": "execute_result"
    }
   ],
   "source": [
    "maps_"
   ]
  },
  {
   "cell_type": "code",
   "execution_count": 63,
   "metadata": {},
   "outputs": [],
   "source": [
    "maps_ = {\n",
    "    edge : {\n",
    "        edge[0] : 70/T * maps_[edge][edge[0]],\n",
    "        edge[1] : 70/T * maps_[edge][edge[1]]\n",
    "    }\n",
    "for edge in edges\n",
    "}"
   ]
  },
  {
   "cell_type": "code",
   "execution_count": 64,
   "metadata": {},
   "outputs": [],
   "source": [
    "B_hat_2 = np.zeros((d*E, d*V))\n",
    "\n",
    "for i, edge in enumerate(edges):\n",
    "\n",
    "    u = edge[0] \n",
    "    v = edge[1] \n",
    "\n",
    "    B_u = maps_[edge][u]\n",
    "    B_v = maps_[edge][v]\n",
    "\n",
    "    B_hat_2[i*d:(i+1)*d, u*d:(u+1)*d] = B_u\n",
    "    B_hat_2[i*d:(i+1)*d, v*d:(v+1)*d] = - B_v\n",
    "\n",
    "# Sheaf Laplacian\n",
    "\n",
    "L_f_hat_2 = B_hat_2.T @ B_hat_2"
   ]
  },
  {
   "cell_type": "code",
   "execution_count": 65,
   "metadata": {},
   "outputs": [
    {
     "data": {
      "text/plain": [
       "707.4818824779823"
      ]
     },
     "execution_count": 65,
     "metadata": {},
     "output_type": "execute_result"
    }
   ],
   "source": [
    "np.trace(Y.T @ L_f_hat_2 @ Y)"
   ]
  },
  {
   "cell_type": "code",
   "execution_count": 66,
   "metadata": {},
   "outputs": [
    {
     "data": {
      "text/plain": [
       "{(0,\n",
       "  1): {0: array([[ 3.71577626,  2.20059788,  2.18785197],\n",
       "         [-2.36727206, -0.80390662, -2.2625307 ],\n",
       "         [ 1.67371231,  1.56060498,  2.57232808]]), 1: array([[ 1.70603487, -0.68475941,  0.08629642],\n",
       "         [-0.01832978,  1.28132813, -0.15181155],\n",
       "         [ 0.19676591, -0.94337797,  1.29981401]])},\n",
       " (0,\n",
       "  3): {0: array([[ 0.68686663, -0.00447913, -0.67388261],\n",
       "         [ 0.56632791,  0.84136804,  0.39043248],\n",
       "         [-0.29137966,  0.28307442,  0.56375181]]), 3: array([[ 0.96037741,  0.42519824, -0.19911253],\n",
       "         [ 0.05578516,  0.85558406, -0.12094657],\n",
       "         [-0.41933361, -0.15766822,  1.20927846]])},\n",
       " (0,\n",
       "  6): {0: array([[ 2.15514503, -0.409076  ,  1.72266518],\n",
       "         [-1.33793042,  1.46533766, -2.31294023],\n",
       "         [-0.05061144, -0.03156419,  0.13998253]]), 6: array([[ 1.45220682, -0.35688721, -0.27539728],\n",
       "         [-0.21813935,  1.2724619 ,  0.03923815],\n",
       "         [-0.19890144, -0.26158889,  1.27504996]])},\n",
       " (1,\n",
       "  2): {1: array([[ 1.36514499,  0.15022716,  0.06875382],\n",
       "         [-1.37012724,  0.37718337,  0.22393553],\n",
       "         [ 0.19266527,  4.49651283,  2.75675678]]), 2: array([[ 1.07497883, -1.04759265, -0.20507349],\n",
       "         [-0.50063585,  1.39535261, -0.26745381],\n",
       "         [ 0.02888512, -0.15759117,  1.31667749]])},\n",
       " (1,\n",
       "  5): {1: array([[ 1.72393486, -0.23410928, -0.04220422],\n",
       "         [-2.18131569,  1.78224627, -0.24946974],\n",
       "         [-1.34756171, -0.29795613,  1.99513258]]), 5: array([[ 0.79582259, -0.81786672, -0.64889281],\n",
       "         [-0.29879524,  1.57646007, -0.2010808 ],\n",
       "         [-0.24214163, -0.34303078,  1.39447712]])},\n",
       " (2,\n",
       "  4): {2: array([[ 1.99793987,  0.19404049, -0.1509258 ],\n",
       "         [-0.01915568,  1.88804396,  1.30439184],\n",
       "         [-0.57191942,  0.03903469,  3.34674962]]), 4: array([[ 0.82415269,  0.13136454, -0.70271739],\n",
       "         [ 0.12820979,  0.37142189, -0.38866559],\n",
       "         [-0.4297547 ,  0.07979906,  0.97232254]])},\n",
       " (4,\n",
       "  6): {4: array([[ 1.15169911, -0.33038493,  0.92852262],\n",
       "         [ 0.48028565,  2.13746415,  2.42946455],\n",
       "         [ 1.2771929 ,  0.41712486,  6.27245881]]), 6: array([[ 1.22740678, -0.10505425,  0.44054409],\n",
       "         [-0.34371618,  2.04552212, -0.03915081],\n",
       "         [ 0.46618201,  0.41556351,  1.35902841]])},\n",
       " (5,\n",
       "  6): {5: array([[ 0.92388367, -0.27178916, -0.96910056],\n",
       "         [-0.62475089,  1.27847117, -1.265711  ],\n",
       "         [ 0.10402051, -0.30112474,  0.64821031]]), 6: array([[ 0.34135029,  0.06006548,  0.23017293],\n",
       "         [ 0.23209828,  1.23404275, -0.51351926],\n",
       "         [-0.12227784, -0.3941752 ,  1.77687924]])}}"
      ]
     },
     "execution_count": 66,
     "metadata": {},
     "output_type": "execute_result"
    }
   ],
   "source": [
    "maps_"
   ]
  },
  {
   "cell_type": "code",
   "execution_count": 67,
   "metadata": {},
   "outputs": [
    {
     "data": {
      "text/plain": [
       "array([[ 2.11392386, -0.84847578,  0.10692868],\n",
       "       [-0.02271218,  1.5876757 , -0.18810756],\n",
       "       [ 0.24380987, -1.1689264 ,  1.61058129]])"
      ]
     },
     "execution_count": 67,
     "metadata": {},
     "output_type": "execute_result"
    }
   ],
   "source": [
    "Fs[(0,1)][0].value"
   ]
  },
  {
   "cell_type": "code",
   "execution_count": null,
   "metadata": {},
   "outputs": [],
   "source": []
  }
 ],
 "metadata": {
  "kernelspec": {
   "display_name": "Python 3",
   "language": "python",
   "name": "python3"
  },
  "language_info": {
   "codemirror_mode": {
    "name": "ipython",
    "version": 3
   },
   "file_extension": ".py",
   "mimetype": "text/x-python",
   "name": "python",
   "nbconvert_exporter": "python",
   "pygments_lexer": "ipython3",
   "version": "3.10.7"
  }
 },
 "nbformat": 4,
 "nbformat_minor": 2
}
